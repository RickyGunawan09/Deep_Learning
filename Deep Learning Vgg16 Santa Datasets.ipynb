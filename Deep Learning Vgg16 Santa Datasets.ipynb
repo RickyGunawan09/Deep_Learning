{
  "nbformat": 4,
  "nbformat_minor": 0,
  "metadata": {
    "colab": {
      "name": "Bonus_Assignment15_RickyGunawan_Revisi.ipynb",
      "provenance": [],
      "collapsed_sections": [],
      "toc_visible": true
    },
    "kernelspec": {
      "name": "python3",
      "display_name": "Python 3"
    },
    "accelerator": "GPU"
  },
  "cells": [
    {
      "cell_type": "code",
      "metadata": {
        "id": "bpQAQHwTWXiZ"
      },
      "source": [
        "zip_path = '/content/drive/My\\ Drive/BCML/datasets/DeepLearning/santa-dataset.zip'\n",
        "\n",
        "!cp {zip_path} /content/\n",
        "\n",
        "!cd /content/\n",
        "\n",
        "!unzip -q /content/santa-dataset.zip -d /content\n",
        "\n",
        "!rm /content/santa-dataset.zip"
      ],
      "execution_count": 2,
      "outputs": []
    },
    {
      "cell_type": "code",
      "metadata": {
        "id": "JgSpU5ZJXBme"
      },
      "source": [
        "def plot_accuracy(history):\n",
        "    plt.plot(history.history['accuracy'], label='accuracy')\n",
        "    plt.plot(history.history['val_accuracy'], label='val_accuracy')\n",
        "    plt.xlabel('Epoch')\n",
        "    plt.ylabel('accuracy')\n",
        "    plt.legend()\n",
        "    plt.grid(True)\n",
        "\n",
        "def plot_loss(history):\n",
        "    plt.plot(history.history['loss'], label='loss')\n",
        "    plt.plot(history.history['val_loss'], label='val_loss')\n",
        "    plt.xlabel('Epoch')\n",
        "    plt.ylabel('Loss')\n",
        "    plt.legend()\n",
        "    plt.grid(True)"
      ],
      "execution_count": 3,
      "outputs": []
    },
    {
      "cell_type": "code",
      "metadata": {
        "id": "0fDjjdhIXG3E"
      },
      "source": [
        "import matplotlib.pyplot as plt\n",
        "import numpy as np\n",
        "import os\n",
        "import pandas as pd\n",
        "\n",
        "\n",
        "import tensorflow as tf\n",
        "from tensorflow.keras.preprocessing.image import ImageDataGenerator\n",
        "from tensorflow.keras.utils import to_categorical\n",
        "from tensorflow.keras.models import Sequential\n",
        "from tensorflow.keras.layers import Conv2D\n",
        "from tensorflow.keras.layers import MaxPooling2D\n",
        "from tensorflow.keras.layers import Dense\n",
        "from tensorflow.keras.layers import Flatten\n",
        "from tensorflow.keras.optimizers import SGD , RMSprop\n",
        "from tensorflow.keras.layers import BatchNormalization\n",
        "from tensorflow.keras.layers import Dropout"
      ],
      "execution_count": 23,
      "outputs": []
    },
    {
      "cell_type": "markdown",
      "metadata": {
        "id": "ObPuYkN8ql-O"
      },
      "source": [
        "# **Base Model**"
      ]
    },
    {
      "cell_type": "code",
      "metadata": {
        "id": "SlSM8yCJwSXQ",
        "outputId": "aa79443b-2a96-45a4-966f-16143942a5db",
        "colab": {
          "base_uri": "https://localhost:8080/",
          "height": 323
        }
      },
      "source": [
        "model = Sequential()\n",
        "model.add(Conv2D(32, (3, 3), activation='relu', kernel_initializer='he_uniform', padding='same', input_shape=(200, 200, 3)))\n",
        "model.add(MaxPooling2D((2, 2)))\n",
        "\n",
        "model.add(Flatten())\n",
        "\n",
        "model.add(Dense(128, activation='relu', kernel_initializer='he_uniform'))\n",
        "model.add(Dense(1, activation='sigmoid'))\n",
        "\n",
        "opt = SGD(lr=0.001, momentum=0.9)\n",
        "\n",
        "model.compile(optimizer=opt, loss='binary_crossentropy', metrics=['accuracy'])\n",
        "\n",
        "model.summary()"
      ],
      "execution_count": null,
      "outputs": [
        {
          "output_type": "stream",
          "text": [
            "Model: \"sequential\"\n",
            "_________________________________________________________________\n",
            "Layer (type)                 Output Shape              Param #   \n",
            "=================================================================\n",
            "conv2d (Conv2D)              (None, 200, 200, 32)      896       \n",
            "_________________________________________________________________\n",
            "max_pooling2d (MaxPooling2D) (None, 100, 100, 32)      0         \n",
            "_________________________________________________________________\n",
            "flatten (Flatten)            (None, 320000)            0         \n",
            "_________________________________________________________________\n",
            "dense (Dense)                (None, 128)               40960128  \n",
            "_________________________________________________________________\n",
            "dense_1 (Dense)              (None, 1)                 129       \n",
            "=================================================================\n",
            "Total params: 40,961,153\n",
            "Trainable params: 40,961,153\n",
            "Non-trainable params: 0\n",
            "_________________________________________________________________\n"
          ],
          "name": "stdout"
        }
      ]
    },
    {
      "cell_type": "code",
      "metadata": {
        "id": "3OUmunEpzExb",
        "outputId": "a44032ba-1bc8-42d3-e159-7ff81a80765d",
        "colab": {
          "base_uri": "https://localhost:8080/",
          "height": 51
        }
      },
      "source": [
        "dataset_dir = '/content/santa-dataset'\n",
        "\n",
        "datagen = ImageDataGenerator(rescale=1.0/255.0)\n",
        "\n",
        "train_iterator = datagen.flow_from_directory(os.path.join(dataset_dir, 'train'), class_mode='binary', batch_size=128, target_size=(200, 200))\n",
        "test_iterator = datagen.flow_from_directory(os.path.join(dataset_dir, 'test'), class_mode='binary', batch_size=128, target_size=(200, 200))"
      ],
      "execution_count": 5,
      "outputs": [
        {
          "output_type": "stream",
          "text": [
            "Found 662 images belonging to 2 classes.\n",
            "Found 260 images belonging to 2 classes.\n"
          ],
          "name": "stdout"
        }
      ]
    },
    {
      "cell_type": "code",
      "metadata": {
        "id": "_o0w2sa3Ximv",
        "outputId": "09db1777-ee3c-4bc0-fba8-60536dd30001",
        "colab": {
          "base_uri": "https://localhost:8080/",
          "height": 1000
        }
      },
      "source": [
        "history=model.fit(train_iterator, steps_per_epoch=len(train_iterator), validation_data=test_iterator, validation_steps=len(test_iterator), epochs=75)"
      ],
      "execution_count": null,
      "outputs": [
        {
          "output_type": "stream",
          "text": [
            "Epoch 1/75\n",
            "6/6 [==============================] - 13s 2s/step - loss: 1.0128 - accuracy: 0.5227 - val_loss: 0.6827 - val_accuracy: 0.5269\n",
            "Epoch 2/75\n",
            "6/6 [==============================] - 12s 2s/step - loss: 0.6627 - accuracy: 0.5423 - val_loss: 0.6899 - val_accuracy: 0.5923\n",
            "Epoch 3/75\n",
            "6/6 [==============================] - 12s 2s/step - loss: 0.6467 - accuracy: 0.6420 - val_loss: 0.8098 - val_accuracy: 0.5192\n",
            "Epoch 4/75\n",
            "6/6 [==============================] - 13s 2s/step - loss: 0.6093 - accuracy: 0.6752 - val_loss: 0.5766 - val_accuracy: 0.7115\n",
            "Epoch 5/75\n",
            "6/6 [==============================] - 13s 2s/step - loss: 0.4890 - accuracy: 0.7900 - val_loss: 0.5719 - val_accuracy: 0.7231\n",
            "Epoch 6/75\n",
            "6/6 [==============================] - 12s 2s/step - loss: 0.5377 - accuracy: 0.7326 - val_loss: 0.5435 - val_accuracy: 0.7231\n",
            "Epoch 7/75\n",
            "6/6 [==============================] - 13s 2s/step - loss: 0.4464 - accuracy: 0.7749 - val_loss: 0.6661 - val_accuracy: 0.6308\n",
            "Epoch 8/75\n",
            "6/6 [==============================] - 14s 2s/step - loss: 0.4410 - accuracy: 0.8036 - val_loss: 0.6325 - val_accuracy: 0.6654\n",
            "Epoch 9/75\n",
            "6/6 [==============================] - 12s 2s/step - loss: 0.4053 - accuracy: 0.8127 - val_loss: 0.4652 - val_accuracy: 0.8115\n",
            "Epoch 10/75\n",
            "6/6 [==============================] - 12s 2s/step - loss: 0.3313 - accuracy: 0.8852 - val_loss: 0.4934 - val_accuracy: 0.7654\n",
            "Epoch 11/75\n",
            "6/6 [==============================] - 12s 2s/step - loss: 0.3398 - accuracy: 0.8640 - val_loss: 0.4604 - val_accuracy: 0.8192\n",
            "Epoch 12/75\n",
            "6/6 [==============================] - 13s 2s/step - loss: 0.2916 - accuracy: 0.8973 - val_loss: 0.3953 - val_accuracy: 0.8538\n",
            "Epoch 13/75\n",
            "6/6 [==============================] - 13s 2s/step - loss: 0.2619 - accuracy: 0.9184 - val_loss: 0.4448 - val_accuracy: 0.8231\n",
            "Epoch 14/75\n",
            "6/6 [==============================] - 14s 2s/step - loss: 0.2601 - accuracy: 0.9124 - val_loss: 0.4438 - val_accuracy: 0.8192\n",
            "Epoch 15/75\n",
            "6/6 [==============================] - 13s 2s/step - loss: 0.2384 - accuracy: 0.9230 - val_loss: 0.3651 - val_accuracy: 0.8577\n",
            "Epoch 16/75\n",
            "6/6 [==============================] - 13s 2s/step - loss: 0.1966 - accuracy: 0.9411 - val_loss: 0.3583 - val_accuracy: 0.8731\n",
            "Epoch 17/75\n",
            "6/6 [==============================] - 11s 2s/step - loss: 0.1998 - accuracy: 0.9350 - val_loss: 0.3590 - val_accuracy: 0.8769\n",
            "Epoch 18/75\n",
            "6/6 [==============================] - 12s 2s/step - loss: 0.1760 - accuracy: 0.9471 - val_loss: 0.3720 - val_accuracy: 0.8731\n",
            "Epoch 19/75\n",
            "6/6 [==============================] - 12s 2s/step - loss: 0.1947 - accuracy: 0.9335 - val_loss: 0.3682 - val_accuracy: 0.8808\n",
            "Epoch 20/75\n",
            "6/6 [==============================] - 12s 2s/step - loss: 0.1969 - accuracy: 0.9230 - val_loss: 0.3869 - val_accuracy: 0.8692\n",
            "Epoch 21/75\n",
            "6/6 [==============================] - 13s 2s/step - loss: 0.1674 - accuracy: 0.9486 - val_loss: 0.5517 - val_accuracy: 0.7577\n",
            "Epoch 22/75\n",
            "6/6 [==============================] - 12s 2s/step - loss: 0.2470 - accuracy: 0.8897 - val_loss: 0.3616 - val_accuracy: 0.8808\n",
            "Epoch 23/75\n",
            "6/6 [==============================] - 13s 2s/step - loss: 0.1826 - accuracy: 0.9215 - val_loss: 0.5486 - val_accuracy: 0.7692\n",
            "Epoch 24/75\n",
            "6/6 [==============================] - 12s 2s/step - loss: 0.1803 - accuracy: 0.9335 - val_loss: 0.4181 - val_accuracy: 0.8577\n",
            "Epoch 25/75\n",
            "6/6 [==============================] - 13s 2s/step - loss: 0.1335 - accuracy: 0.9577 - val_loss: 0.3509 - val_accuracy: 0.8923\n",
            "Epoch 26/75\n",
            "6/6 [==============================] - 12s 2s/step - loss: 0.1028 - accuracy: 0.9668 - val_loss: 0.3476 - val_accuracy: 0.8962\n",
            "Epoch 27/75\n",
            "6/6 [==============================] - 13s 2s/step - loss: 0.0965 - accuracy: 0.9683 - val_loss: 0.3662 - val_accuracy: 0.8808\n",
            "Epoch 28/75\n",
            "6/6 [==============================] - 14s 2s/step - loss: 0.1101 - accuracy: 0.9653 - val_loss: 0.3380 - val_accuracy: 0.8923\n",
            "Epoch 29/75\n",
            "6/6 [==============================] - 12s 2s/step - loss: 0.0896 - accuracy: 0.9758 - val_loss: 0.3494 - val_accuracy: 0.8962\n",
            "Epoch 30/75\n",
            "6/6 [==============================] - 13s 2s/step - loss: 0.0799 - accuracy: 0.9819 - val_loss: 0.3406 - val_accuracy: 0.8923\n",
            "Epoch 31/75\n",
            "6/6 [==============================] - 12s 2s/step - loss: 0.0792 - accuracy: 0.9743 - val_loss: 0.3646 - val_accuracy: 0.8769\n",
            "Epoch 32/75\n",
            "6/6 [==============================] - 12s 2s/step - loss: 0.0732 - accuracy: 0.9849 - val_loss: 0.3455 - val_accuracy: 0.8846\n",
            "Epoch 33/75\n",
            "6/6 [==============================] - 13s 2s/step - loss: 0.0629 - accuracy: 0.9894 - val_loss: 0.3416 - val_accuracy: 0.8962\n",
            "Epoch 34/75\n",
            "6/6 [==============================] - 12s 2s/step - loss: 0.0606 - accuracy: 0.9909 - val_loss: 0.3450 - val_accuracy: 0.8962\n",
            "Epoch 35/75\n",
            "6/6 [==============================] - 12s 2s/step - loss: 0.0570 - accuracy: 0.9940 - val_loss: 0.3461 - val_accuracy: 0.8923\n",
            "Epoch 36/75\n",
            "6/6 [==============================] - 12s 2s/step - loss: 0.0548 - accuracy: 0.9924 - val_loss: 0.3496 - val_accuracy: 0.8962\n",
            "Epoch 37/75\n",
            "6/6 [==============================] - 13s 2s/step - loss: 0.0505 - accuracy: 0.9924 - val_loss: 0.3545 - val_accuracy: 0.8885\n",
            "Epoch 38/75\n",
            "6/6 [==============================] - 14s 2s/step - loss: 0.0479 - accuracy: 0.9955 - val_loss: 0.3495 - val_accuracy: 0.8923\n",
            "Epoch 39/75\n",
            "6/6 [==============================] - 11s 2s/step - loss: 0.0461 - accuracy: 0.9970 - val_loss: 0.3508 - val_accuracy: 0.9000\n",
            "Epoch 40/75\n",
            "6/6 [==============================] - 12s 2s/step - loss: 0.0507 - accuracy: 0.9924 - val_loss: 0.3500 - val_accuracy: 0.8923\n",
            "Epoch 41/75\n",
            "6/6 [==============================] - 12s 2s/step - loss: 0.0552 - accuracy: 0.9909 - val_loss: 0.3590 - val_accuracy: 0.8885\n",
            "Epoch 42/75\n",
            "6/6 [==============================] - 13s 2s/step - loss: 0.0456 - accuracy: 0.9924 - val_loss: 0.3546 - val_accuracy: 0.8885\n",
            "Epoch 43/75\n",
            "6/6 [==============================] - 12s 2s/step - loss: 0.0372 - accuracy: 0.9985 - val_loss: 0.3873 - val_accuracy: 0.8731\n",
            "Epoch 44/75\n",
            "6/6 [==============================] - 12s 2s/step - loss: 0.0376 - accuracy: 0.9955 - val_loss: 0.3638 - val_accuracy: 0.8885\n",
            "Epoch 45/75\n",
            "6/6 [==============================] - 12s 2s/step - loss: 0.0337 - accuracy: 0.9970 - val_loss: 0.3610 - val_accuracy: 0.8962\n",
            "Epoch 46/75\n",
            "6/6 [==============================] - 14s 2s/step - loss: 0.0353 - accuracy: 0.9955 - val_loss: 0.3731 - val_accuracy: 0.8885\n",
            "Epoch 47/75\n",
            "6/6 [==============================] - 11s 2s/step - loss: 0.0301 - accuracy: 0.9970 - val_loss: 0.3910 - val_accuracy: 0.8808\n",
            "Epoch 48/75\n",
            "6/6 [==============================] - 12s 2s/step - loss: 0.0293 - accuracy: 0.9985 - val_loss: 0.3675 - val_accuracy: 0.8885\n",
            "Epoch 49/75\n",
            "6/6 [==============================] - 14s 2s/step - loss: 0.0320 - accuracy: 1.0000 - val_loss: 0.3930 - val_accuracy: 0.8808\n",
            "Epoch 50/75\n",
            "6/6 [==============================] - 13s 2s/step - loss: 0.0286 - accuracy: 0.9955 - val_loss: 0.4043 - val_accuracy: 0.8769\n",
            "Epoch 51/75\n",
            "6/6 [==============================] - 13s 2s/step - loss: 0.0304 - accuracy: 0.9970 - val_loss: 0.4107 - val_accuracy: 0.8731\n",
            "Epoch 52/75\n",
            "6/6 [==============================] - 13s 2s/step - loss: 0.0343 - accuracy: 0.9985 - val_loss: 0.3636 - val_accuracy: 0.8885\n",
            "Epoch 53/75\n",
            "6/6 [==============================] - 12s 2s/step - loss: 0.0338 - accuracy: 0.9970 - val_loss: 0.4214 - val_accuracy: 0.8885\n",
            "Epoch 54/75\n",
            "6/6 [==============================] - 13s 2s/step - loss: 0.0318 - accuracy: 0.9970 - val_loss: 0.3795 - val_accuracy: 0.8885\n",
            "Epoch 55/75\n",
            "6/6 [==============================] - 12s 2s/step - loss: 0.0248 - accuracy: 0.9985 - val_loss: 0.4043 - val_accuracy: 0.8846\n",
            "Epoch 56/75\n",
            "6/6 [==============================] - 12s 2s/step - loss: 0.0232 - accuracy: 1.0000 - val_loss: 0.3743 - val_accuracy: 0.9000\n",
            "Epoch 57/75\n",
            "6/6 [==============================] - 13s 2s/step - loss: 0.0228 - accuracy: 1.0000 - val_loss: 0.3713 - val_accuracy: 0.8923\n",
            "Epoch 58/75\n",
            "6/6 [==============================] - 12s 2s/step - loss: 0.0219 - accuracy: 1.0000 - val_loss: 0.4174 - val_accuracy: 0.8769\n",
            "Epoch 59/75\n",
            "6/6 [==============================] - 12s 2s/step - loss: 0.0216 - accuracy: 1.0000 - val_loss: 0.3769 - val_accuracy: 0.8846\n",
            "Epoch 60/75\n",
            "6/6 [==============================] - 13s 2s/step - loss: 0.0193 - accuracy: 1.0000 - val_loss: 0.3780 - val_accuracy: 0.9038\n",
            "Epoch 61/75\n",
            "6/6 [==============================] - 11s 2s/step - loss: 0.0172 - accuracy: 1.0000 - val_loss: 0.4024 - val_accuracy: 0.8885\n",
            "Epoch 62/75\n",
            "6/6 [==============================] - 14s 2s/step - loss: 0.0180 - accuracy: 1.0000 - val_loss: 0.3906 - val_accuracy: 0.8885\n",
            "Epoch 63/75\n",
            "6/6 [==============================] - 11s 2s/step - loss: 0.0166 - accuracy: 1.0000 - val_loss: 0.3813 - val_accuracy: 0.8962\n",
            "Epoch 64/75\n",
            "6/6 [==============================] - 11s 2s/step - loss: 0.0152 - accuracy: 1.0000 - val_loss: 0.3833 - val_accuracy: 0.8846\n",
            "Epoch 65/75\n",
            "6/6 [==============================] - 12s 2s/step - loss: 0.0140 - accuracy: 1.0000 - val_loss: 0.3866 - val_accuracy: 0.8808\n",
            "Epoch 66/75\n",
            "6/6 [==============================] - 13s 2s/step - loss: 0.0138 - accuracy: 1.0000 - val_loss: 0.3820 - val_accuracy: 0.8923\n",
            "Epoch 67/75\n",
            "6/6 [==============================] - 14s 2s/step - loss: 0.0138 - accuracy: 1.0000 - val_loss: 0.3875 - val_accuracy: 0.8769\n",
            "Epoch 68/75\n",
            "6/6 [==============================] - 13s 2s/step - loss: 0.0142 - accuracy: 1.0000 - val_loss: 0.4004 - val_accuracy: 0.8885\n",
            "Epoch 69/75\n",
            "6/6 [==============================] - 12s 2s/step - loss: 0.0129 - accuracy: 1.0000 - val_loss: 0.3872 - val_accuracy: 0.9000\n",
            "Epoch 70/75\n",
            "6/6 [==============================] - 14s 2s/step - loss: 0.0129 - accuracy: 1.0000 - val_loss: 0.4035 - val_accuracy: 0.8885\n",
            "Epoch 71/75\n",
            "6/6 [==============================] - 12s 2s/step - loss: 0.0129 - accuracy: 1.0000 - val_loss: 0.3914 - val_accuracy: 0.9000\n",
            "Epoch 72/75\n",
            "6/6 [==============================] - 12s 2s/step - loss: 0.0119 - accuracy: 1.0000 - val_loss: 0.3964 - val_accuracy: 0.8808\n",
            "Epoch 73/75\n",
            "6/6 [==============================] - 12s 2s/step - loss: 0.0114 - accuracy: 1.0000 - val_loss: 0.4007 - val_accuracy: 0.8808\n",
            "Epoch 74/75\n",
            "6/6 [==============================] - 12s 2s/step - loss: 0.0114 - accuracy: 1.0000 - val_loss: 0.3984 - val_accuracy: 0.8846\n",
            "Epoch 75/75\n",
            "6/6 [==============================] - 13s 2s/step - loss: 0.0108 - accuracy: 1.0000 - val_loss: 0.3954 - val_accuracy: 0.8885\n"
          ],
          "name": "stdout"
        }
      ]
    },
    {
      "cell_type": "code",
      "metadata": {
        "id": "nD8untNHd-4L",
        "outputId": "ea776b99-fdf1-43fd-ef0c-140f609e0d19",
        "colab": {
          "base_uri": "https://localhost:8080/",
          "height": 34
        }
      },
      "source": [
        "min(history.history['val_loss'])"
      ],
      "execution_count": null,
      "outputs": [
        {
          "output_type": "execute_result",
          "data": {
            "text/plain": [
              "0.33798694610595703"
            ]
          },
          "metadata": {
            "tags": []
          },
          "execution_count": 12
        }
      ]
    },
    {
      "cell_type": "code",
      "metadata": {
        "id": "FeJ3EnARdiq8",
        "outputId": "aea3b9c1-4549-424f-e78e-e184845f0ade",
        "colab": {
          "base_uri": "https://localhost:8080/",
          "height": 279
        }
      },
      "source": [
        "plot_loss(history)"
      ],
      "execution_count": null,
      "outputs": [
        {
          "output_type": "display_data",
          "data": {
            "image/png": "[encoded data removed]",
            "text/plain": [
              "<Figure size 432x288 with 1 Axes>"
            ]
          },
          "metadata": {
            "tags": [],
            "needs_background": "light"
          }
        }
      ]
    },
    {
      "cell_type": "code",
      "metadata": {
        "id": "pJOatplUdnhF",
        "outputId": "e4998001-0097-4976-94a7-eca317cfa3ed",
        "colab": {
          "base_uri": "https://localhost:8080/",
          "height": 279
        }
      },
      "source": [
        "plot_accuracy(history)"
      ],
      "execution_count": null,
      "outputs": [
        {
          "output_type": "display_data",
          "data": {
            "image/png": "[encoded data removed]",
            "text/plain": [
              "<Figure size 432x288 with 1 Axes>"
            ]
          },
          "metadata": {
            "tags": [],
            "needs_background": "light"
          }
        }
      ]
    },
    {
      "cell_type": "markdown",
      "metadata": {
        "id": "v41FLwCGebFc"
      },
      "source": [
        "Epoch 28/75\n",
        "6/6 [==============================] - 14s 2s/step - loss: 0.1101 - accuracy: 0.9653 - val_loss: 0.3380 - val_accuracy: 0.8923"
      ]
    },
    {
      "cell_type": "markdown",
      "metadata": {
        "id": "R7U-GjRUfLTh"
      },
      "source": [
        "# **Best CNN**"
      ]
    },
    {
      "cell_type": "code",
      "metadata": {
        "id": "8pU82B52kiSi"
      },
      "source": [
        "train_datagen = ImageDataGenerator(rescale=1.0/255.0,horizontal_flip=True,zoom_range=0.1,shear_range=0.1)\n",
        "test_datagen = ImageDataGenerator(rescale=1.0/255.0)"
      ],
      "execution_count": 16,
      "outputs": []
    },
    {
      "cell_type": "code",
      "metadata": {
        "id": "i2PWokbG7S8F",
        "outputId": "ee8caada-7266-4435-98ac-294af583c5b1",
        "colab": {
          "base_uri": "https://localhost:8080/",
          "height": 51
        }
      },
      "source": [
        "train_augmented_iterator = train_datagen.flow_from_directory(os.path.join(dataset_dir, 'train'), class_mode='binary', batch_size=128, target_size=(200, 200))\n",
        "test_augmented_iterator = test_datagen.flow_from_directory(os.path.join(dataset_dir, 'test'), class_mode='binary', batch_size=128, target_size=(200, 200))"
      ],
      "execution_count": 17,
      "outputs": [
        {
          "output_type": "stream",
          "text": [
            "Found 662 images belonging to 2 classes.\n",
            "Found 260 images belonging to 2 classes.\n"
          ],
          "name": "stdout"
        }
      ]
    },
    {
      "cell_type": "code",
      "metadata": {
        "id": "wxLDfa8iiUyJ",
        "outputId": "7755ad97-772d-4a80-b900-ff98c6fb198b",
        "colab": {
          "base_uri": "https://localhost:8080/",
          "height": 765
        }
      },
      "source": [
        "model = Sequential()\n",
        "\n",
        "model.add(Conv2D(32, (3, 3), padding='same', input_shape=(200,200,3), activation='relu'))\n",
        "model.add(Conv2D(32, (3, 3), padding='same', activation='relu'))\n",
        "model.add(MaxPooling2D(pool_size=(2, 2)))\n",
        "\n",
        "model.add(Conv2D(64, (3, 3), padding='same', activation='relu'))\n",
        "model.add(Conv2D(64, (3, 3), padding='same', activation='relu'))\n",
        "model.add(MaxPooling2D(pool_size=(2, 2)))\n",
        "\n",
        "model.add(Conv2D(128, (3, 3), padding='same', activation='relu'))\n",
        "model.add(Conv2D(128, (3, 3), padding='same', activation='relu'))\n",
        "model.add(MaxPooling2D(pool_size=(2, 2)))\n",
        "\n",
        "model.add(Conv2D(256, (3, 3), padding='same', activation='relu'))\n",
        "model.add(Conv2D(256, (3, 3), padding='same', activation='relu'))\n",
        "model.add(MaxPooling2D(pool_size=(2, 2)))\n",
        "\n",
        "model.add(Flatten())\n",
        "model.add(Dense(256, activation='relu'))\n",
        "model.add(Dropout(0.5))\n",
        "\n",
        "model.add(Dense(256, activation='relu'))\n",
        "model.add(Dropout(0.5))\n",
        "\n",
        "model.add(Dense(1,activation='sigmoid'))\n",
        "\n",
        "opt=RMSprop(lr=0.0001)\n",
        "\n",
        "model.compile(loss='binary_crossentropy',optimizer=opt,metrics=['accuracy'])\n",
        "\n",
        "model.summary()"
      ],
      "execution_count": null,
      "outputs": [
        {
          "output_type": "stream",
          "text": [
            "Model: \"sequential_3\"\n",
            "_________________________________________________________________\n",
            "Layer (type)                 Output Shape              Param #   \n",
            "=================================================================\n",
            "conv2d_17 (Conv2D)           (None, 200, 200, 32)      896       \n",
            "_________________________________________________________________\n",
            "conv2d_18 (Conv2D)           (None, 200, 200, 32)      9248      \n",
            "_________________________________________________________________\n",
            "max_pooling2d_9 (MaxPooling2 (None, 100, 100, 32)      0         \n",
            "_________________________________________________________________\n",
            "conv2d_19 (Conv2D)           (None, 100, 100, 64)      18496     \n",
            "_________________________________________________________________\n",
            "conv2d_20 (Conv2D)           (None, 100, 100, 64)      36928     \n",
            "_________________________________________________________________\n",
            "max_pooling2d_10 (MaxPooling (None, 50, 50, 64)        0         \n",
            "_________________________________________________________________\n",
            "conv2d_21 (Conv2D)           (None, 50, 50, 128)       73856     \n",
            "_________________________________________________________________\n",
            "conv2d_22 (Conv2D)           (None, 50, 50, 128)       147584    \n",
            "_________________________________________________________________\n",
            "max_pooling2d_11 (MaxPooling (None, 25, 25, 128)       0         \n",
            "_________________________________________________________________\n",
            "conv2d_23 (Conv2D)           (None, 25, 25, 256)       295168    \n",
            "_________________________________________________________________\n",
            "conv2d_24 (Conv2D)           (None, 25, 25, 256)       590080    \n",
            "_________________________________________________________________\n",
            "max_pooling2d_12 (MaxPooling (None, 12, 12, 256)       0         \n",
            "_________________________________________________________________\n",
            "flatten_3 (Flatten)          (None, 36864)             0         \n",
            "_________________________________________________________________\n",
            "dense_6 (Dense)              (None, 256)               9437440   \n",
            "_________________________________________________________________\n",
            "dropout_2 (Dropout)          (None, 256)               0         \n",
            "_________________________________________________________________\n",
            "dense_7 (Dense)              (None, 256)               65792     \n",
            "_________________________________________________________________\n",
            "dropout_3 (Dropout)          (None, 256)               0         \n",
            "_________________________________________________________________\n",
            "dense_8 (Dense)              (None, 1)                 257       \n",
            "=================================================================\n",
            "Total params: 10,675,745\n",
            "Trainable params: 10,675,745\n",
            "Non-trainable params: 0\n",
            "_________________________________________________________________\n"
          ],
          "name": "stdout"
        }
      ]
    },
    {
      "cell_type": "code",
      "metadata": {
        "id": "aEbwT2zTsBwO",
        "outputId": "87339b07-c631-4fc4-9a71-f1f5ce118714",
        "colab": {
          "base_uri": "https://localhost:8080/",
          "height": 1000
        }
      },
      "source": [
        "history=model.fit(train_augmented_iterator, steps_per_epoch=len(train_augmented_iterator), validation_data=test_augmented_iterator, validation_steps=len(test_augmented_iterator), epochs=75)"
      ],
      "execution_count": null,
      "outputs": [
        {
          "output_type": "stream",
          "text": [
            "Epoch 1/75\n",
            "6/6 [==============================] - 18s 3s/step - loss: 0.6885 - accuracy: 0.5060 - val_loss: 0.6657 - val_accuracy: 0.5000\n",
            "Epoch 2/75\n",
            "6/6 [==============================] - 16s 3s/step - loss: 0.6385 - accuracy: 0.5151 - val_loss: 0.6192 - val_accuracy: 0.8077\n",
            "Epoch 3/75\n",
            "6/6 [==============================] - 17s 3s/step - loss: 0.5709 - accuracy: 0.7417 - val_loss: 0.5321 - val_accuracy: 0.8423\n",
            "Epoch 4/75\n",
            "6/6 [==============================] - 16s 3s/step - loss: 0.5490 - accuracy: 0.8082 - val_loss: 0.4998 - val_accuracy: 0.8462\n",
            "Epoch 5/75\n",
            "6/6 [==============================] - 17s 3s/step - loss: 0.4630 - accuracy: 0.8384 - val_loss: 0.6593 - val_accuracy: 0.7692\n",
            "Epoch 6/75\n",
            "6/6 [==============================] - 17s 3s/step - loss: 0.4358 - accuracy: 0.8776 - val_loss: 0.4006 - val_accuracy: 0.8615\n",
            "Epoch 7/75\n",
            "6/6 [==============================] - 18s 3s/step - loss: 0.4306 - accuracy: 0.8489 - val_loss: 0.4084 - val_accuracy: 0.8577\n",
            "Epoch 8/75\n",
            "6/6 [==============================] - 19s 3s/step - loss: 0.3712 - accuracy: 0.8807 - val_loss: 0.6708 - val_accuracy: 0.7154\n",
            "Epoch 9/75\n",
            "6/6 [==============================] - 16s 3s/step - loss: 0.4012 - accuracy: 0.8489 - val_loss: 0.3866 - val_accuracy: 0.8692\n",
            "Epoch 10/75\n",
            "6/6 [==============================] - 17s 3s/step - loss: 0.3148 - accuracy: 0.8988 - val_loss: 0.5735 - val_accuracy: 0.7692\n",
            "Epoch 11/75\n",
            "6/6 [==============================] - 17s 3s/step - loss: 0.4050 - accuracy: 0.8474 - val_loss: 0.3566 - val_accuracy: 0.8769\n",
            "Epoch 12/75\n",
            "6/6 [==============================] - 17s 3s/step - loss: 0.2839 - accuracy: 0.9124 - val_loss: 0.3360 - val_accuracy: 0.8885\n",
            "Epoch 13/75\n",
            "6/6 [==============================] - 20s 3s/step - loss: 0.2751 - accuracy: 0.9154 - val_loss: 0.5734 - val_accuracy: 0.7923\n",
            "Epoch 14/75\n",
            "6/6 [==============================] - 17s 3s/step - loss: 0.3304 - accuracy: 0.8927 - val_loss: 0.3141 - val_accuracy: 0.9000\n",
            "Epoch 15/75\n",
            "6/6 [==============================] - 17s 3s/step - loss: 0.2895 - accuracy: 0.8822 - val_loss: 0.3194 - val_accuracy: 0.8846\n",
            "Epoch 16/75\n",
            "6/6 [==============================] - 17s 3s/step - loss: 0.2594 - accuracy: 0.9048 - val_loss: 0.5710 - val_accuracy: 0.7577\n",
            "Epoch 17/75\n",
            "6/6 [==============================] - 17s 3s/step - loss: 0.3304 - accuracy: 0.8837 - val_loss: 0.4063 - val_accuracy: 0.8538\n",
            "Epoch 18/75\n",
            "6/6 [==============================] - 17s 3s/step - loss: 0.2836 - accuracy: 0.9033 - val_loss: 0.3584 - val_accuracy: 0.8577\n",
            "Epoch 19/75\n",
            "6/6 [==============================] - 17s 3s/step - loss: 0.2341 - accuracy: 0.9260 - val_loss: 0.2667 - val_accuracy: 0.9038\n",
            "Epoch 20/75\n",
            "6/6 [==============================] - 16s 3s/step - loss: 0.3112 - accuracy: 0.8761 - val_loss: 0.2752 - val_accuracy: 0.9115\n",
            "Epoch 21/75\n",
            "6/6 [==============================] - 16s 3s/step - loss: 0.2721 - accuracy: 0.8776 - val_loss: 0.2595 - val_accuracy: 0.9115\n",
            "Epoch 22/75\n",
            "6/6 [==============================] - 17s 3s/step - loss: 0.2062 - accuracy: 0.9230 - val_loss: 0.2898 - val_accuracy: 0.8962\n",
            "Epoch 23/75\n",
            "6/6 [==============================] - 19s 3s/step - loss: 0.2319 - accuracy: 0.9169 - val_loss: 0.2380 - val_accuracy: 0.9115\n",
            "Epoch 24/75\n",
            "6/6 [==============================] - 17s 3s/step - loss: 0.2143 - accuracy: 0.9245 - val_loss: 0.3057 - val_accuracy: 0.9000\n",
            "Epoch 25/75\n",
            "6/6 [==============================] - 16s 3s/step - loss: 0.1799 - accuracy: 0.9426 - val_loss: 0.2702 - val_accuracy: 0.8962\n",
            "Epoch 26/75\n",
            "6/6 [==============================] - 16s 3s/step - loss: 0.4264 - accuracy: 0.8429 - val_loss: 0.2501 - val_accuracy: 0.9077\n",
            "Epoch 27/75\n",
            "6/6 [==============================] - 17s 3s/step - loss: 0.1686 - accuracy: 0.9471 - val_loss: 0.2218 - val_accuracy: 0.9269\n",
            "Epoch 28/75\n",
            "6/6 [==============================] - 19s 3s/step - loss: 0.2162 - accuracy: 0.9033 - val_loss: 0.2231 - val_accuracy: 0.9269\n",
            "Epoch 29/75\n",
            "6/6 [==============================] - 16s 3s/step - loss: 0.1653 - accuracy: 0.9366 - val_loss: 0.2224 - val_accuracy: 0.9308\n",
            "Epoch 30/75\n",
            "6/6 [==============================] - 17s 3s/step - loss: 0.3242 - accuracy: 0.8610 - val_loss: 0.2278 - val_accuracy: 0.9231\n",
            "Epoch 31/75\n",
            "6/6 [==============================] - 16s 3s/step - loss: 0.1537 - accuracy: 0.9547 - val_loss: 0.2210 - val_accuracy: 0.9308\n",
            "Epoch 32/75\n",
            "6/6 [==============================] - 17s 3s/step - loss: 0.1516 - accuracy: 0.9471 - val_loss: 0.3189 - val_accuracy: 0.8846\n",
            "Epoch 33/75\n",
            "6/6 [==============================] - 17s 3s/step - loss: 0.1888 - accuracy: 0.9290 - val_loss: 0.3587 - val_accuracy: 0.8808\n",
            "Epoch 34/75\n",
            "6/6 [==============================] - 17s 3s/step - loss: 0.1647 - accuracy: 0.9426 - val_loss: 0.4024 - val_accuracy: 0.8154\n",
            "Epoch 35/75\n",
            "6/6 [==============================] - 17s 3s/step - loss: 0.2484 - accuracy: 0.8973 - val_loss: 0.2094 - val_accuracy: 0.9385\n",
            "Epoch 36/75\n",
            "6/6 [==============================] - 17s 3s/step - loss: 0.1686 - accuracy: 0.9335 - val_loss: 0.2451 - val_accuracy: 0.9154\n",
            "Epoch 37/75\n",
            "6/6 [==============================] - 17s 3s/step - loss: 0.1979 - accuracy: 0.9381 - val_loss: 0.2882 - val_accuracy: 0.8962\n",
            "Epoch 38/75\n",
            "6/6 [==============================] - 17s 3s/step - loss: 0.1365 - accuracy: 0.9502 - val_loss: 0.2821 - val_accuracy: 0.9038\n",
            "Epoch 39/75\n",
            "6/6 [==============================] - 17s 3s/step - loss: 0.1906 - accuracy: 0.9230 - val_loss: 0.2079 - val_accuracy: 0.9385\n",
            "Epoch 40/75\n",
            "6/6 [==============================] - 17s 3s/step - loss: 0.1287 - accuracy: 0.9562 - val_loss: 0.2047 - val_accuracy: 0.9423\n",
            "Epoch 41/75\n",
            "6/6 [==============================] - 17s 3s/step - loss: 0.1918 - accuracy: 0.9215 - val_loss: 0.2174 - val_accuracy: 0.9308\n",
            "Epoch 42/75\n",
            "6/6 [==============================] - 19s 3s/step - loss: 0.1759 - accuracy: 0.9396 - val_loss: 0.2100 - val_accuracy: 0.9308\n",
            "Epoch 43/75\n",
            "6/6 [==============================] - 16s 3s/step - loss: 0.2179 - accuracy: 0.9215 - val_loss: 0.2146 - val_accuracy: 0.9346\n",
            "Epoch 44/75\n",
            "6/6 [==============================] - 17s 3s/step - loss: 0.1262 - accuracy: 0.9517 - val_loss: 0.3838 - val_accuracy: 0.8500\n",
            "Epoch 45/75\n",
            "6/6 [==============================] - 17s 3s/step - loss: 0.1825 - accuracy: 0.9275 - val_loss: 0.3844 - val_accuracy: 0.8808\n",
            "Epoch 46/75\n",
            "6/6 [==============================] - 17s 3s/step - loss: 0.1842 - accuracy: 0.9260 - val_loss: 0.1965 - val_accuracy: 0.9423\n",
            "Epoch 47/75\n",
            "6/6 [==============================] - 19s 3s/step - loss: 0.1291 - accuracy: 0.9517 - val_loss: 0.2433 - val_accuracy: 0.9154\n",
            "Epoch 48/75\n",
            "6/6 [==============================] - 17s 3s/step - loss: 0.1983 - accuracy: 0.9335 - val_loss: 0.1953 - val_accuracy: 0.9423\n",
            "Epoch 49/75\n",
            "6/6 [==============================] - 17s 3s/step - loss: 0.1243 - accuracy: 0.9607 - val_loss: 0.2051 - val_accuracy: 0.9385\n",
            "Epoch 50/75\n",
            "6/6 [==============================] - 17s 3s/step - loss: 0.1189 - accuracy: 0.9577 - val_loss: 0.2112 - val_accuracy: 0.9385\n",
            "Epoch 51/75\n",
            "6/6 [==============================] - 16s 3s/step - loss: 0.1040 - accuracy: 0.9668 - val_loss: 0.2620 - val_accuracy: 0.9000\n",
            "Epoch 52/75\n",
            "6/6 [==============================] - 16s 3s/step - loss: 0.2221 - accuracy: 0.9184 - val_loss: 0.2054 - val_accuracy: 0.9423\n",
            "Epoch 53/75\n",
            "6/6 [==============================] - 16s 3s/step - loss: 0.1218 - accuracy: 0.9592 - val_loss: 0.2108 - val_accuracy: 0.9385\n",
            "Epoch 54/75\n",
            "6/6 [==============================] - 16s 3s/step - loss: 0.0913 - accuracy: 0.9728 - val_loss: 0.4047 - val_accuracy: 0.8577\n",
            "Epoch 55/75\n",
            "6/6 [==============================] - 19s 3s/step - loss: 0.3033 - accuracy: 0.8852 - val_loss: 0.2112 - val_accuracy: 0.9269\n",
            "Epoch 56/75\n",
            "6/6 [==============================] - 17s 3s/step - loss: 0.1130 - accuracy: 0.9532 - val_loss: 0.2113 - val_accuracy: 0.9385\n",
            "Epoch 57/75\n",
            "6/6 [==============================] - 17s 3s/step - loss: 0.0933 - accuracy: 0.9728 - val_loss: 0.2213 - val_accuracy: 0.9231\n",
            "Epoch 58/75\n",
            "6/6 [==============================] - 16s 3s/step - loss: 0.1299 - accuracy: 0.9426 - val_loss: 0.2059 - val_accuracy: 0.9423\n",
            "Epoch 59/75\n",
            "6/6 [==============================] - 17s 3s/step - loss: 0.1744 - accuracy: 0.9320 - val_loss: 0.3489 - val_accuracy: 0.8577\n",
            "Epoch 60/75\n",
            "6/6 [==============================] - 17s 3s/step - loss: 0.1110 - accuracy: 0.9607 - val_loss: 0.1989 - val_accuracy: 0.9423\n",
            "Epoch 61/75\n",
            "6/6 [==============================] - 19s 3s/step - loss: 0.0865 - accuracy: 0.9698 - val_loss: 0.2086 - val_accuracy: 0.9500\n",
            "Epoch 62/75\n",
            "6/6 [==============================] - 17s 3s/step - loss: 0.1265 - accuracy: 0.9502 - val_loss: 0.2105 - val_accuracy: 0.9269\n",
            "Epoch 63/75\n",
            "6/6 [==============================] - 19s 3s/step - loss: 0.0880 - accuracy: 0.9698 - val_loss: 0.2148 - val_accuracy: 0.9385\n",
            "Epoch 64/75\n",
            "6/6 [==============================] - 17s 3s/step - loss: 0.1539 - accuracy: 0.9411 - val_loss: 0.2771 - val_accuracy: 0.9154\n",
            "Epoch 65/75\n",
            "6/6 [==============================] - 19s 3s/step - loss: 0.1576 - accuracy: 0.9381 - val_loss: 0.2160 - val_accuracy: 0.9269\n",
            "Epoch 66/75\n",
            "6/6 [==============================] - 16s 3s/step - loss: 0.0791 - accuracy: 0.9728 - val_loss: 0.2907 - val_accuracy: 0.9154\n",
            "Epoch 67/75\n",
            "6/6 [==============================] - 16s 3s/step - loss: 0.1619 - accuracy: 0.9305 - val_loss: 0.4029 - val_accuracy: 0.8308\n",
            "Epoch 68/75\n",
            "6/6 [==============================] - 17s 3s/step - loss: 0.1306 - accuracy: 0.9502 - val_loss: 0.1921 - val_accuracy: 0.9500\n",
            "Epoch 69/75\n",
            "6/6 [==============================] - 17s 3s/step - loss: 0.0689 - accuracy: 0.9743 - val_loss: 0.2174 - val_accuracy: 0.9423\n",
            "Epoch 70/75\n",
            "6/6 [==============================] - 17s 3s/step - loss: 0.2272 - accuracy: 0.9260 - val_loss: 0.2695 - val_accuracy: 0.8962\n",
            "Epoch 71/75\n",
            "6/6 [==============================] - 19s 3s/step - loss: 0.0840 - accuracy: 0.9698 - val_loss: 0.1953 - val_accuracy: 0.9500\n",
            "Epoch 72/75\n",
            "6/6 [==============================] - 17s 3s/step - loss: 0.1080 - accuracy: 0.9562 - val_loss: 0.2358 - val_accuracy: 0.9231\n",
            "Epoch 73/75\n",
            "6/6 [==============================] - 17s 3s/step - loss: 0.0765 - accuracy: 0.9758 - val_loss: 0.2262 - val_accuracy: 0.9423\n",
            "Epoch 74/75\n",
            "6/6 [==============================] - 17s 3s/step - loss: 0.1642 - accuracy: 0.9335 - val_loss: 0.2033 - val_accuracy: 0.9385\n",
            "Epoch 75/75\n",
            "6/6 [==============================] - 16s 3s/step - loss: 0.0646 - accuracy: 0.9789 - val_loss: 0.1991 - val_accuracy: 0.9462\n"
          ],
          "name": "stdout"
        }
      ]
    },
    {
      "cell_type": "code",
      "metadata": {
        "id": "eNM2o4KKlyb2",
        "outputId": "f6915ff3-3b47-4d69-92ff-3da7f23241fd",
        "colab": {
          "base_uri": "https://localhost:8080/",
          "height": 34
        }
      },
      "source": [
        "min(history.history['val_loss'])"
      ],
      "execution_count": null,
      "outputs": [
        {
          "output_type": "execute_result",
          "data": {
            "text/plain": [
              "0.19208741188049316"
            ]
          },
          "metadata": {
            "tags": []
          },
          "execution_count": 21
        }
      ]
    },
    {
      "cell_type": "code",
      "metadata": {
        "id": "ZVDHpoev96Zr",
        "outputId": "85c68a2c-738f-4fc1-ff91-9123cc9546b1",
        "colab": {
          "base_uri": "https://localhost:8080/",
          "height": 279
        }
      },
      "source": [
        "plot_loss(history)"
      ],
      "execution_count": null,
      "outputs": [
        {
          "output_type": "display_data",
          "data": {
            "image/png": "[encoded data removed]",
            "text/plain": [
              "<Figure size 432x288 with 1 Axes>"
            ]
          },
          "metadata": {
            "tags": [],
            "needs_background": "light"
          }
        }
      ]
    },
    {
      "cell_type": "code",
      "metadata": {
        "id": "UsInz2-j9_eA",
        "outputId": "100081cf-f327-478b-a9a1-6d0130593e11",
        "colab": {
          "base_uri": "https://localhost:8080/",
          "height": 282
        }
      },
      "source": [
        "plot_accuracy(history)"
      ],
      "execution_count": null,
      "outputs": [
        {
          "output_type": "display_data",
          "data": {
            "image/png": "[encoded data removed]",
            "text/plain": [
              "<Figure size 432x288 with 1 Axes>"
            ]
          },
          "metadata": {
            "tags": [],
            "needs_background": "light"
          }
        }
      ]
    },
    {
      "cell_type": "markdown",
      "metadata": {
        "id": "YRKCWBnjl8ui"
      },
      "source": [
        "Epoch 71/75\n",
        "6/6 [==============================] - 19s 3s/step - loss: 0.0840 - accuracy: 0.9698 - val_loss: 0.1953 - val_accuracy: 0.9500"
      ]
    },
    {
      "cell_type": "markdown",
      "metadata": {
        "id": "OLpeU6lx-YG5"
      },
      "source": [
        "# **Model VGG-16**"
      ]
    },
    {
      "cell_type": "code",
      "metadata": {
        "id": "QAIndkMbBomK",
        "outputId": "8efa4beb-9dea-46c8-aa68-5a8d78144e3d",
        "colab": {
          "base_uri": "https://localhost:8080/",
          "height": 51
        }
      },
      "source": [
        "train_augmented_iterator = train_datagen.flow_from_directory(os.path.join(dataset_dir, 'train'), class_mode='binary', batch_size=128, target_size=(224, 224))\n",
        "test_augmented_iterator = test_datagen.flow_from_directory(os.path.join(dataset_dir, 'test'), class_mode='binary', batch_size=128, target_size=(224, 224))"
      ],
      "execution_count": 20,
      "outputs": [
        {
          "output_type": "stream",
          "text": [
            "Found 662 images belonging to 2 classes.\n",
            "Found 260 images belonging to 2 classes.\n"
          ],
          "name": "stdout"
        }
      ]
    },
    {
      "cell_type": "code",
      "metadata": {
        "id": "cUNlD9ae-g8F",
        "outputId": "619c3f0c-3622-4356-ad99-038b748de675",
        "colab": {
          "base_uri": "https://localhost:8080/",
          "height": 323
        }
      },
      "source": [
        "from tensorflow.keras.applications import vgg16\n",
        "\n",
        "vgg_conv= vgg16.VGG16(weights='imagenet',include_top=False,input_shape=(224,244,3))\n",
        "\n",
        "for layer in vgg_conv.layers[:]:\n",
        "    layer.trainable = False\n",
        "\n",
        "fine_tuned_model = Sequential()\n",
        "\n",
        "fine_tuned_model.add(vgg_conv)\n",
        "fine_tuned_model.add(Flatten())\n",
        "fine_tuned_model.add(Dense(1024,activation='relu'))\n",
        "fine_tuned_model.add(Dropout(0.5))\n",
        "fine_tuned_model.add(Dense(1,activation='sigmoid'))\n",
        "\n",
        "\n",
        "opt=RMSprop(learning_rate=0.001)\n",
        "fine_tuned_model.compile(loss='binary_crossentropy',optimizer=opt,metrics=['accuracy'])\n",
        "\n",
        "fine_tuned_model.summary()"
      ],
      "execution_count": 21,
      "outputs": [
        {
          "output_type": "stream",
          "text": [
            "Model: \"sequential_6\"\n",
            "_________________________________________________________________\n",
            "Layer (type)                 Output Shape              Param #   \n",
            "=================================================================\n",
            "vgg16 (Functional)           (None, 7, 7, 512)         14714688  \n",
            "_________________________________________________________________\n",
            "flatten_6 (Flatten)          (None, 25088)             0         \n",
            "_________________________________________________________________\n",
            "dense_12 (Dense)             (None, 1024)              25691136  \n",
            "_________________________________________________________________\n",
            "dropout_6 (Dropout)          (None, 1024)              0         \n",
            "_________________________________________________________________\n",
            "dense_13 (Dense)             (None, 1)                 1025      \n",
            "=================================================================\n",
            "Total params: 40,406,849\n",
            "Trainable params: 25,692,161\n",
            "Non-trainable params: 14,714,688\n",
            "_________________________________________________________________\n"
          ],
          "name": "stdout"
        }
      ]
    },
    {
      "cell_type": "code",
      "metadata": {
        "id": "OH2oGbSiAoXD",
        "outputId": "1786d9d6-3e80-4302-ee1f-25fd6780c2e4",
        "colab": {
          "base_uri": "https://localhost:8080/",
          "height": 717
        }
      },
      "source": [
        "history=fine_tuned_model.fit(train_augmented_iterator, steps_per_epoch=len(train_augmented_iterator), validation_data=test_augmented_iterator, validation_steps=len(test_augmented_iterator), epochs=20)"
      ],
      "execution_count": 22,
      "outputs": [
        {
          "output_type": "stream",
          "text": [
            "Epoch 1/20\n",
            "6/6 [==============================] - 19s 3s/step - loss: 9.3883 - accuracy: 0.6208 - val_loss: 0.9458 - val_accuracy: 0.8923\n",
            "Epoch 2/20\n",
            "6/6 [==============================] - 18s 3s/step - loss: 0.4881 - accuracy: 0.9320 - val_loss: 0.3316 - val_accuracy: 0.9538\n",
            "Epoch 3/20\n",
            "6/6 [==============================] - 17s 3s/step - loss: 0.3677 - accuracy: 0.9350 - val_loss: 0.3026 - val_accuracy: 0.9462\n",
            "Epoch 4/20\n",
            "6/6 [==============================] - 18s 3s/step - loss: 2.1623 - accuracy: 0.8142 - val_loss: 4.7477 - val_accuracy: 0.5885\n",
            "Epoch 5/20\n",
            "6/6 [==============================] - 18s 3s/step - loss: 1.0229 - accuracy: 0.9033 - val_loss: 0.3112 - val_accuracy: 0.9346\n",
            "Epoch 6/20\n",
            "6/6 [==============================] - 18s 3s/step - loss: 0.3018 - accuracy: 0.9456 - val_loss: 0.2390 - val_accuracy: 0.9692\n",
            "Epoch 7/20\n",
            "6/6 [==============================] - 18s 3s/step - loss: 0.1311 - accuracy: 0.9653 - val_loss: 0.2478 - val_accuracy: 0.9654\n",
            "Epoch 8/20\n",
            "6/6 [==============================] - 18s 3s/step - loss: 1.9092 - accuracy: 0.8127 - val_loss: 3.1255 - val_accuracy: 0.6538\n",
            "Epoch 9/20\n",
            "6/6 [==============================] - 17s 3s/step - loss: 0.9079 - accuracy: 0.8746 - val_loss: 0.3105 - val_accuracy: 0.9654\n",
            "Epoch 10/20\n",
            "6/6 [==============================] - 18s 3s/step - loss: 0.1310 - accuracy: 0.9683 - val_loss: 0.3301 - val_accuracy: 0.9462\n",
            "Epoch 11/20\n",
            "6/6 [==============================] - 20s 3s/step - loss: 0.1087 - accuracy: 0.9668 - val_loss: 0.2357 - val_accuracy: 0.9654\n",
            "Epoch 12/20\n",
            "6/6 [==============================] - 18s 3s/step - loss: 0.1135 - accuracy: 0.9668 - val_loss: 0.5285 - val_accuracy: 0.9038\n",
            "Epoch 13/20\n",
            "6/6 [==============================] - 17s 3s/step - loss: 1.0373 - accuracy: 0.8474 - val_loss: 0.5664 - val_accuracy: 0.8885\n",
            "Epoch 14/20\n",
            "6/6 [==============================] - 18s 3s/step - loss: 0.0795 - accuracy: 0.9743 - val_loss: 0.2355 - val_accuracy: 0.9654\n",
            "Epoch 15/20\n",
            "6/6 [==============================] - 17s 3s/step - loss: 0.0157 - accuracy: 0.9909 - val_loss: 0.2407 - val_accuracy: 0.9654\n",
            "Epoch 16/20\n",
            "6/6 [==============================] - 18s 3s/step - loss: 0.0376 - accuracy: 0.9909 - val_loss: 0.7945 - val_accuracy: 0.8692\n",
            "Epoch 17/20\n",
            "6/6 [==============================] - 18s 3s/step - loss: 0.8959 - accuracy: 0.8489 - val_loss: 0.3225 - val_accuracy: 0.9423\n",
            "Epoch 18/20\n",
            "6/6 [==============================] - 18s 3s/step - loss: 0.0489 - accuracy: 0.9894 - val_loss: 0.2448 - val_accuracy: 0.9692\n",
            "Epoch 19/20\n",
            "6/6 [==============================] - 18s 3s/step - loss: 0.0096 - accuracy: 0.9955 - val_loss: 0.2257 - val_accuracy: 0.9692\n",
            "Epoch 20/20\n",
            "6/6 [==============================] - 18s 3s/step - loss: 0.0086 - accuracy: 0.9985 - val_loss: 0.2394 - val_accuracy: 0.9692\n"
          ],
          "name": "stdout"
        }
      ]
    },
    {
      "cell_type": "code",
      "metadata": {
        "id": "rqnCl3UEFpRp",
        "outputId": "681c9259-fb05-44e5-8f86-50e79953d8a8",
        "colab": {
          "base_uri": "https://localhost:8080/",
          "height": 279
        }
      },
      "source": [
        "plot_loss(history)"
      ],
      "execution_count": 38,
      "outputs": [
        {
          "output_type": "display_data",
          "data": {
            "image/png": "[encoded data removed]",
            "text/plain": [
              "<Figure size 432x288 with 1 Axes>"
            ]
          },
          "metadata": {
            "tags": [],
            "needs_background": "light"
          }
        }
      ]
    },
    {
      "cell_type": "code",
      "metadata": {
        "id": "D45RfmtaFqB2",
        "outputId": "eec18b1b-5ef5-4fe8-bbfa-075e70218d47",
        "colab": {
          "base_uri": "https://localhost:8080/",
          "height": 279
        }
      },
      "source": [
        "plot_accuracy(history)"
      ],
      "execution_count": 39,
      "outputs": [
        {
          "output_type": "display_data",
          "data": {
            "image/png": "[encoded data removed]",
            "text/plain": [
              "<Figure size 432x288 with 1 Axes>"
            ]
          },
          "metadata": {
            "tags": [],
            "needs_background": "light"
          }
        }
      ]
    },
    {
      "cell_type": "code",
      "metadata": {
        "id": "7Z9ZNsJODquL",
        "outputId": "97bb25b5-c016-4faa-b35b-869de433f44b",
        "colab": {
          "base_uri": "https://localhost:8080/",
          "height": 669
        }
      },
      "source": [
        "historydf = pd.DataFrame(history.history)\n",
        "historydf.sort_values(by=['val_accuracy'],ascending=False)"
      ],
      "execution_count": 37,
      "outputs": [
        {
          "output_type": "execute_result",
          "data": {
            "text/html": [
              "<div>\n",
              "<style scoped>\n",
              "    .dataframe tbody tr th:only-of-type {\n",
              "        vertical-align: middle;\n",
              "    }\n",
              "\n",
              "    .dataframe tbody tr th {\n",
              "        vertical-align: top;\n",
              "    }\n",
              "\n",
              "    .dataframe thead th {\n",
              "        text-align: right;\n",
              "    }\n",
              "</style>\n",
              "<table border=\"1\" class=\"dataframe\">\n",
              "  <thead>\n",
              "    <tr style=\"text-align: right;\">\n",
              "      <th></th>\n",
              "      <th>loss</th>\n",
              "      <th>accuracy</th>\n",
              "      <th>val_loss</th>\n",
              "      <th>val_accuracy</th>\n",
              "    </tr>\n",
              "  </thead>\n",
              "  <tbody>\n",
              "    <tr>\n",
              "      <th>19</th>\n",
              "      <td>0.008554</td>\n",
              "      <td>0.998489</td>\n",
              "      <td>0.239420</td>\n",
              "      <td>0.969231</td>\n",
              "    </tr>\n",
              "    <tr>\n",
              "      <th>18</th>\n",
              "      <td>0.009570</td>\n",
              "      <td>0.995468</td>\n",
              "      <td>0.225696</td>\n",
              "      <td>0.969231</td>\n",
              "    </tr>\n",
              "    <tr>\n",
              "      <th>17</th>\n",
              "      <td>0.048912</td>\n",
              "      <td>0.989426</td>\n",
              "      <td>0.244770</td>\n",
              "      <td>0.969231</td>\n",
              "    </tr>\n",
              "    <tr>\n",
              "      <th>5</th>\n",
              "      <td>0.301849</td>\n",
              "      <td>0.945619</td>\n",
              "      <td>0.239002</td>\n",
              "      <td>0.969231</td>\n",
              "    </tr>\n",
              "    <tr>\n",
              "      <th>8</th>\n",
              "      <td>0.907942</td>\n",
              "      <td>0.874622</td>\n",
              "      <td>0.310487</td>\n",
              "      <td>0.965385</td>\n",
              "    </tr>\n",
              "    <tr>\n",
              "      <th>14</th>\n",
              "      <td>0.015678</td>\n",
              "      <td>0.990937</td>\n",
              "      <td>0.240667</td>\n",
              "      <td>0.965385</td>\n",
              "    </tr>\n",
              "    <tr>\n",
              "      <th>13</th>\n",
              "      <td>0.079510</td>\n",
              "      <td>0.974320</td>\n",
              "      <td>0.235456</td>\n",
              "      <td>0.965385</td>\n",
              "    </tr>\n",
              "    <tr>\n",
              "      <th>10</th>\n",
              "      <td>0.108746</td>\n",
              "      <td>0.966767</td>\n",
              "      <td>0.235700</td>\n",
              "      <td>0.965385</td>\n",
              "    </tr>\n",
              "    <tr>\n",
              "      <th>6</th>\n",
              "      <td>0.131053</td>\n",
              "      <td>0.965257</td>\n",
              "      <td>0.247809</td>\n",
              "      <td>0.965385</td>\n",
              "    </tr>\n",
              "    <tr>\n",
              "      <th>1</th>\n",
              "      <td>0.488144</td>\n",
              "      <td>0.932024</td>\n",
              "      <td>0.331604</td>\n",
              "      <td>0.953846</td>\n",
              "    </tr>\n",
              "    <tr>\n",
              "      <th>9</th>\n",
              "      <td>0.130964</td>\n",
              "      <td>0.968278</td>\n",
              "      <td>0.330120</td>\n",
              "      <td>0.946154</td>\n",
              "    </tr>\n",
              "    <tr>\n",
              "      <th>2</th>\n",
              "      <td>0.367694</td>\n",
              "      <td>0.935045</td>\n",
              "      <td>0.302603</td>\n",
              "      <td>0.946154</td>\n",
              "    </tr>\n",
              "    <tr>\n",
              "      <th>16</th>\n",
              "      <td>0.895913</td>\n",
              "      <td>0.848943</td>\n",
              "      <td>0.322476</td>\n",
              "      <td>0.942308</td>\n",
              "    </tr>\n",
              "    <tr>\n",
              "      <th>4</th>\n",
              "      <td>1.022944</td>\n",
              "      <td>0.903323</td>\n",
              "      <td>0.311181</td>\n",
              "      <td>0.934615</td>\n",
              "    </tr>\n",
              "    <tr>\n",
              "      <th>11</th>\n",
              "      <td>0.113537</td>\n",
              "      <td>0.966767</td>\n",
              "      <td>0.528545</td>\n",
              "      <td>0.903846</td>\n",
              "    </tr>\n",
              "    <tr>\n",
              "      <th>0</th>\n",
              "      <td>9.388329</td>\n",
              "      <td>0.620846</td>\n",
              "      <td>0.945775</td>\n",
              "      <td>0.892308</td>\n",
              "    </tr>\n",
              "    <tr>\n",
              "      <th>12</th>\n",
              "      <td>1.037347</td>\n",
              "      <td>0.847432</td>\n",
              "      <td>0.566373</td>\n",
              "      <td>0.888462</td>\n",
              "    </tr>\n",
              "    <tr>\n",
              "      <th>15</th>\n",
              "      <td>0.037551</td>\n",
              "      <td>0.990937</td>\n",
              "      <td>0.794519</td>\n",
              "      <td>0.869231</td>\n",
              "    </tr>\n",
              "    <tr>\n",
              "      <th>7</th>\n",
              "      <td>1.909203</td>\n",
              "      <td>0.812689</td>\n",
              "      <td>3.125514</td>\n",
              "      <td>0.653846</td>\n",
              "    </tr>\n",
              "    <tr>\n",
              "      <th>3</th>\n",
              "      <td>2.162338</td>\n",
              "      <td>0.814199</td>\n",
              "      <td>4.747670</td>\n",
              "      <td>0.588462</td>\n",
              "    </tr>\n",
              "  </tbody>\n",
              "</table>\n",
              "</div>"
            ],
            "text/plain": [
              "        loss  accuracy  val_loss  val_accuracy\n",
              "19  0.008554  0.998489  0.239420      0.969231\n",
              "18  0.009570  0.995468  0.225696      0.969231\n",
              "17  0.048912  0.989426  0.244770      0.969231\n",
              "5   0.301849  0.945619  0.239002      0.969231\n",
              "8   0.907942  0.874622  0.310487      0.965385\n",
              "14  0.015678  0.990937  0.240667      0.965385\n",
              "13  0.079510  0.974320  0.235456      0.965385\n",
              "10  0.108746  0.966767  0.235700      0.965385\n",
              "6   0.131053  0.965257  0.247809      0.965385\n",
              "1   0.488144  0.932024  0.331604      0.953846\n",
              "9   0.130964  0.968278  0.330120      0.946154\n",
              "2   0.367694  0.935045  0.302603      0.946154\n",
              "16  0.895913  0.848943  0.322476      0.942308\n",
              "4   1.022944  0.903323  0.311181      0.934615\n",
              "11  0.113537  0.966767  0.528545      0.903846\n",
              "0   9.388329  0.620846  0.945775      0.892308\n",
              "12  1.037347  0.847432  0.566373      0.888462\n",
              "15  0.037551  0.990937  0.794519      0.869231\n",
              "7   1.909203  0.812689  3.125514      0.653846\n",
              "3   2.162338  0.814199  4.747670      0.588462"
            ]
          },
          "metadata": {
            "tags": []
          },
          "execution_count": 37
        }
      ]
    },
    {
      "cell_type": "markdown",
      "metadata": {
        "id": "AejLmepbFY-g"
      },
      "source": [
        "Epoch 19/20\n",
        "\n",
        "6/6 [==============================] - 18s 3s/step - loss: 0.0096 - accuracy: 0.9955 - val_loss: 0.2257 - val_accuracy: 0.9692"
      ]
    }
  ]
}