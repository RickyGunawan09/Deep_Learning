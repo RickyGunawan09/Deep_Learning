{
  "nbformat": 4,
  "nbformat_minor": 0,
  "metadata": {
    "colab": {
      "name": "Assignment16_RickyGunawan_Auto.ipynb",
      "provenance": [],
      "collapsed_sections": [],
      "toc_visible": true
    },
    "kernelspec": {
      "name": "python3",
      "display_name": "Python 3"
    }
  },
  "cells": [
    {
      "cell_type": "code",
      "metadata": {
        "id": "5sc6TKEAonMt"
      },
      "source": [
        "import pandas as pd\n",
        "import numpy as np\n",
        "import matplotlib.pyplot as plt\n",
        "import os\n",
        "import seaborn as sb\n",
        "import random\n",
        "\n",
        "from sklearn import preprocessing\n",
        "from sklearn.model_selection import train_test_split\n",
        "from sklearn.linear_model import LinearRegression\n",
        "from sklearn.metrics import mean_squared_error, mean_absolute_error, r2_score\n",
        "\n",
        "import tensorflow as tf\n",
        "from tensorflow.keras.models import Sequential\n",
        "from tensorflow.keras.layers import Dense\n",
        "from tensorflow.keras.optimizers import SGD\n",
        "from tensorflow.keras.optimizers import RMSprop"
      ],
      "execution_count": 85,
      "outputs": []
    },
    {
      "cell_type": "markdown",
      "metadata": {
        "id": "niwiqZeU8Fby"
      },
      "source": [
        "# **Dataset Auto**"
      ]
    },
    {
      "cell_type": "code",
      "metadata": {
        "id": "OaulOFjlpSGe",
        "outputId": "55b86e58-8cae-48dc-876f-0a51047e3de5",
        "colab": {
          "base_uri": "https://localhost:8080/",
          "height": 359
        }
      },
      "source": [
        "dataset = pd.read_csv('/content/drive/My Drive/BCML/datasets/DeepLearning/auto.csv')\n",
        "\n",
        "dataset.describe().transpose()"
      ],
      "execution_count": 86,
      "outputs": [
        {
          "output_type": "execute_result",
          "data": {
            "text/html": [
              "<div>\n",
              "<style scoped>\n",
              "    .dataframe tbody tr th:only-of-type {\n",
              "        vertical-align: middle;\n",
              "    }\n",
              "\n",
              "    .dataframe tbody tr th {\n",
              "        vertical-align: top;\n",
              "    }\n",
              "\n",
              "    .dataframe thead th {\n",
              "        text-align: right;\n",
              "    }\n",
              "</style>\n",
              "<table border=\"1\" class=\"dataframe\">\n",
              "  <thead>\n",
              "    <tr style=\"text-align: right;\">\n",
              "      <th></th>\n",
              "      <th>count</th>\n",
              "      <th>mean</th>\n",
              "      <th>std</th>\n",
              "      <th>min</th>\n",
              "      <th>25%</th>\n",
              "      <th>50%</th>\n",
              "      <th>75%</th>\n",
              "      <th>max</th>\n",
              "    </tr>\n",
              "  </thead>\n",
              "  <tbody>\n",
              "    <tr>\n",
              "      <th>symboling</th>\n",
              "      <td>205.0</td>\n",
              "      <td>0.834146</td>\n",
              "      <td>1.245307</td>\n",
              "      <td>-2.0</td>\n",
              "      <td>0.0</td>\n",
              "      <td>1.0</td>\n",
              "      <td>2.0</td>\n",
              "      <td>3.0</td>\n",
              "    </tr>\n",
              "    <tr>\n",
              "      <th>wheel-base</th>\n",
              "      <td>205.0</td>\n",
              "      <td>98.756585</td>\n",
              "      <td>6.021776</td>\n",
              "      <td>86.6</td>\n",
              "      <td>94.5</td>\n",
              "      <td>97.0</td>\n",
              "      <td>102.4</td>\n",
              "      <td>120.9</td>\n",
              "    </tr>\n",
              "    <tr>\n",
              "      <th>length</th>\n",
              "      <td>205.0</td>\n",
              "      <td>174.049268</td>\n",
              "      <td>12.337289</td>\n",
              "      <td>141.1</td>\n",
              "      <td>166.3</td>\n",
              "      <td>173.2</td>\n",
              "      <td>183.1</td>\n",
              "      <td>208.1</td>\n",
              "    </tr>\n",
              "    <tr>\n",
              "      <th>width</th>\n",
              "      <td>205.0</td>\n",
              "      <td>65.907805</td>\n",
              "      <td>2.145204</td>\n",
              "      <td>60.3</td>\n",
              "      <td>64.1</td>\n",
              "      <td>65.5</td>\n",
              "      <td>66.9</td>\n",
              "      <td>72.3</td>\n",
              "    </tr>\n",
              "    <tr>\n",
              "      <th>height</th>\n",
              "      <td>205.0</td>\n",
              "      <td>53.724878</td>\n",
              "      <td>2.443522</td>\n",
              "      <td>47.8</td>\n",
              "      <td>52.0</td>\n",
              "      <td>54.1</td>\n",
              "      <td>55.5</td>\n",
              "      <td>59.8</td>\n",
              "    </tr>\n",
              "    <tr>\n",
              "      <th>curb-weight</th>\n",
              "      <td>205.0</td>\n",
              "      <td>2555.565854</td>\n",
              "      <td>520.680204</td>\n",
              "      <td>1488.0</td>\n",
              "      <td>2145.0</td>\n",
              "      <td>2414.0</td>\n",
              "      <td>2935.0</td>\n",
              "      <td>4066.0</td>\n",
              "    </tr>\n",
              "    <tr>\n",
              "      <th>engine-size</th>\n",
              "      <td>205.0</td>\n",
              "      <td>126.907317</td>\n",
              "      <td>41.642693</td>\n",
              "      <td>61.0</td>\n",
              "      <td>97.0</td>\n",
              "      <td>120.0</td>\n",
              "      <td>141.0</td>\n",
              "      <td>326.0</td>\n",
              "    </tr>\n",
              "    <tr>\n",
              "      <th>compression-ratio</th>\n",
              "      <td>205.0</td>\n",
              "      <td>10.142537</td>\n",
              "      <td>3.972040</td>\n",
              "      <td>7.0</td>\n",
              "      <td>8.6</td>\n",
              "      <td>9.0</td>\n",
              "      <td>9.4</td>\n",
              "      <td>23.0</td>\n",
              "    </tr>\n",
              "    <tr>\n",
              "      <th>city-mpg</th>\n",
              "      <td>205.0</td>\n",
              "      <td>25.219512</td>\n",
              "      <td>6.542142</td>\n",
              "      <td>13.0</td>\n",
              "      <td>19.0</td>\n",
              "      <td>24.0</td>\n",
              "      <td>30.0</td>\n",
              "      <td>49.0</td>\n",
              "    </tr>\n",
              "    <tr>\n",
              "      <th>highway-mpg</th>\n",
              "      <td>205.0</td>\n",
              "      <td>30.751220</td>\n",
              "      <td>6.886443</td>\n",
              "      <td>16.0</td>\n",
              "      <td>25.0</td>\n",
              "      <td>30.0</td>\n",
              "      <td>34.0</td>\n",
              "      <td>54.0</td>\n",
              "    </tr>\n",
              "  </tbody>\n",
              "</table>\n",
              "</div>"
            ],
            "text/plain": [
              "                   count         mean         std  ...     50%     75%     max\n",
              "symboling          205.0     0.834146    1.245307  ...     1.0     2.0     3.0\n",
              "wheel-base         205.0    98.756585    6.021776  ...    97.0   102.4   120.9\n",
              "length             205.0   174.049268   12.337289  ...   173.2   183.1   208.1\n",
              "width              205.0    65.907805    2.145204  ...    65.5    66.9    72.3\n",
              "height             205.0    53.724878    2.443522  ...    54.1    55.5    59.8\n",
              "curb-weight        205.0  2555.565854  520.680204  ...  2414.0  2935.0  4066.0\n",
              " engine-size       205.0   126.907317   41.642693  ...   120.0   141.0   326.0\n",
              "compression-ratio  205.0    10.142537    3.972040  ...     9.0     9.4    23.0\n",
              "city-mpg           205.0    25.219512    6.542142  ...    24.0    30.0    49.0\n",
              "highway-mpg        205.0    30.751220    6.886443  ...    30.0    34.0    54.0\n",
              "\n",
              "[10 rows x 8 columns]"
            ]
          },
          "metadata": {
            "tags": []
          },
          "execution_count": 86
        }
      ]
    },
    {
      "cell_type": "code",
      "metadata": {
        "id": "d9sCavv3pnz3",
        "outputId": "7a6922c1-403e-40bd-e140-15e6bd8a0a60",
        "colab": {
          "base_uri": "https://localhost:8080/",
          "height": 578
        }
      },
      "source": [
        "dataset.info()"
      ],
      "execution_count": 87,
      "outputs": [
        {
          "output_type": "stream",
          "text": [
            "<class 'pandas.core.frame.DataFrame'>\n",
            "RangeIndex: 205 entries, 0 to 204\n",
            "Data columns (total 26 columns):\n",
            " #   Column             Non-Null Count  Dtype  \n",
            "---  ------             --------------  -----  \n",
            " 0   symboling          205 non-null    int64  \n",
            " 1   normalized-losses  205 non-null    object \n",
            " 2   make               205 non-null    object \n",
            " 3   fuel-type          205 non-null    object \n",
            " 4   aspiration         205 non-null    object \n",
            " 5   num-of-doors       205 non-null    object \n",
            " 6   body-style         205 non-null    object \n",
            " 7   drive-wheels       205 non-null    object \n",
            " 8   engine-location    205 non-null    object \n",
            " 9   wheel-base         205 non-null    float64\n",
            " 10  length             205 non-null    float64\n",
            " 11  width              205 non-null    float64\n",
            " 12  height             205 non-null    float64\n",
            " 13  curb-weight        205 non-null    int64  \n",
            " 14  engine-type        205 non-null    object \n",
            " 15  num-of-cylinders   205 non-null    object \n",
            " 16   engine-size       205 non-null    int64  \n",
            " 17  fuel-system        205 non-null    object \n",
            " 18  bore               205 non-null    object \n",
            " 19  stroke             205 non-null    object \n",
            " 20  compression-ratio  205 non-null    float64\n",
            " 21  horsepower         205 non-null    object \n",
            " 22  peak-rpm           205 non-null    object \n",
            " 23  city-mpg           205 non-null    int64  \n",
            " 24  highway-mpg        205 non-null    int64  \n",
            " 25  price              205 non-null    object \n",
            "dtypes: float64(5), int64(5), object(16)\n",
            "memory usage: 41.8+ KB\n"
          ],
          "name": "stdout"
        }
      ]
    },
    {
      "cell_type": "code",
      "metadata": {
        "id": "8mTowh27pvM0",
        "outputId": "dc94744a-5f9c-4258-cbd7-e37fbe56961a",
        "colab": {
          "base_uri": "https://localhost:8080/",
          "height": 309
        }
      },
      "source": [
        "dataset.head()"
      ],
      "execution_count": 88,
      "outputs": [
        {
          "output_type": "execute_result",
          "data": {
            "text/html": [
              "<div>\n",
              "<style scoped>\n",
              "    .dataframe tbody tr th:only-of-type {\n",
              "        vertical-align: middle;\n",
              "    }\n",
              "\n",
              "    .dataframe tbody tr th {\n",
              "        vertical-align: top;\n",
              "    }\n",
              "\n",
              "    .dataframe thead th {\n",
              "        text-align: right;\n",
              "    }\n",
              "</style>\n",
              "<table border=\"1\" class=\"dataframe\">\n",
              "  <thead>\n",
              "    <tr style=\"text-align: right;\">\n",
              "      <th></th>\n",
              "      <th>symboling</th>\n",
              "      <th>normalized-losses</th>\n",
              "      <th>make</th>\n",
              "      <th>fuel-type</th>\n",
              "      <th>aspiration</th>\n",
              "      <th>num-of-doors</th>\n",
              "      <th>body-style</th>\n",
              "      <th>drive-wheels</th>\n",
              "      <th>engine-location</th>\n",
              "      <th>wheel-base</th>\n",
              "      <th>length</th>\n",
              "      <th>width</th>\n",
              "      <th>height</th>\n",
              "      <th>curb-weight</th>\n",
              "      <th>engine-type</th>\n",
              "      <th>num-of-cylinders</th>\n",
              "      <th>engine-size</th>\n",
              "      <th>fuel-system</th>\n",
              "      <th>bore</th>\n",
              "      <th>stroke</th>\n",
              "      <th>compression-ratio</th>\n",
              "      <th>horsepower</th>\n",
              "      <th>peak-rpm</th>\n",
              "      <th>city-mpg</th>\n",
              "      <th>highway-mpg</th>\n",
              "      <th>price</th>\n",
              "    </tr>\n",
              "  </thead>\n",
              "  <tbody>\n",
              "    <tr>\n",
              "      <th>0</th>\n",
              "      <td>3</td>\n",
              "      <td>?</td>\n",
              "      <td>alfa-romero</td>\n",
              "      <td>gas</td>\n",
              "      <td>std</td>\n",
              "      <td>two</td>\n",
              "      <td>convertible</td>\n",
              "      <td>rwd</td>\n",
              "      <td>front</td>\n",
              "      <td>88.6</td>\n",
              "      <td>168.8</td>\n",
              "      <td>64.1</td>\n",
              "      <td>48.8</td>\n",
              "      <td>2548</td>\n",
              "      <td>dohc</td>\n",
              "      <td>four</td>\n",
              "      <td>130</td>\n",
              "      <td>mpfi</td>\n",
              "      <td>3.47</td>\n",
              "      <td>2.68</td>\n",
              "      <td>9.0</td>\n",
              "      <td>111</td>\n",
              "      <td>5000</td>\n",
              "      <td>21</td>\n",
              "      <td>27</td>\n",
              "      <td>13495</td>\n",
              "    </tr>\n",
              "    <tr>\n",
              "      <th>1</th>\n",
              "      <td>3</td>\n",
              "      <td>?</td>\n",
              "      <td>alfa-romero</td>\n",
              "      <td>gas</td>\n",
              "      <td>std</td>\n",
              "      <td>two</td>\n",
              "      <td>convertible</td>\n",
              "      <td>rwd</td>\n",
              "      <td>front</td>\n",
              "      <td>88.6</td>\n",
              "      <td>168.8</td>\n",
              "      <td>64.1</td>\n",
              "      <td>48.8</td>\n",
              "      <td>2548</td>\n",
              "      <td>dohc</td>\n",
              "      <td>four</td>\n",
              "      <td>130</td>\n",
              "      <td>mpfi</td>\n",
              "      <td>3.47</td>\n",
              "      <td>2.68</td>\n",
              "      <td>9.0</td>\n",
              "      <td>111</td>\n",
              "      <td>5000</td>\n",
              "      <td>21</td>\n",
              "      <td>27</td>\n",
              "      <td>16500</td>\n",
              "    </tr>\n",
              "    <tr>\n",
              "      <th>2</th>\n",
              "      <td>1</td>\n",
              "      <td>?</td>\n",
              "      <td>alfa-romero</td>\n",
              "      <td>gas</td>\n",
              "      <td>std</td>\n",
              "      <td>two</td>\n",
              "      <td>hatchback</td>\n",
              "      <td>rwd</td>\n",
              "      <td>front</td>\n",
              "      <td>94.5</td>\n",
              "      <td>171.2</td>\n",
              "      <td>65.5</td>\n",
              "      <td>52.4</td>\n",
              "      <td>2823</td>\n",
              "      <td>ohcv</td>\n",
              "      <td>six</td>\n",
              "      <td>152</td>\n",
              "      <td>mpfi</td>\n",
              "      <td>2.68</td>\n",
              "      <td>3.47</td>\n",
              "      <td>9.0</td>\n",
              "      <td>154</td>\n",
              "      <td>5000</td>\n",
              "      <td>19</td>\n",
              "      <td>26</td>\n",
              "      <td>16500</td>\n",
              "    </tr>\n",
              "    <tr>\n",
              "      <th>3</th>\n",
              "      <td>2</td>\n",
              "      <td>164</td>\n",
              "      <td>audi</td>\n",
              "      <td>gas</td>\n",
              "      <td>std</td>\n",
              "      <td>four</td>\n",
              "      <td>sedan</td>\n",
              "      <td>fwd</td>\n",
              "      <td>front</td>\n",
              "      <td>99.8</td>\n",
              "      <td>176.6</td>\n",
              "      <td>66.2</td>\n",
              "      <td>54.3</td>\n",
              "      <td>2337</td>\n",
              "      <td>ohc</td>\n",
              "      <td>four</td>\n",
              "      <td>109</td>\n",
              "      <td>mpfi</td>\n",
              "      <td>3.19</td>\n",
              "      <td>3.40</td>\n",
              "      <td>10.0</td>\n",
              "      <td>102</td>\n",
              "      <td>5500</td>\n",
              "      <td>24</td>\n",
              "      <td>30</td>\n",
              "      <td>13950</td>\n",
              "    </tr>\n",
              "    <tr>\n",
              "      <th>4</th>\n",
              "      <td>2</td>\n",
              "      <td>164</td>\n",
              "      <td>audi</td>\n",
              "      <td>gas</td>\n",
              "      <td>std</td>\n",
              "      <td>four</td>\n",
              "      <td>sedan</td>\n",
              "      <td>4wd</td>\n",
              "      <td>front</td>\n",
              "      <td>99.4</td>\n",
              "      <td>176.6</td>\n",
              "      <td>66.4</td>\n",
              "      <td>54.3</td>\n",
              "      <td>2824</td>\n",
              "      <td>ohc</td>\n",
              "      <td>five</td>\n",
              "      <td>136</td>\n",
              "      <td>mpfi</td>\n",
              "      <td>3.19</td>\n",
              "      <td>3.40</td>\n",
              "      <td>8.0</td>\n",
              "      <td>115</td>\n",
              "      <td>5500</td>\n",
              "      <td>18</td>\n",
              "      <td>22</td>\n",
              "      <td>17450</td>\n",
              "    </tr>\n",
              "  </tbody>\n",
              "</table>\n",
              "</div>"
            ],
            "text/plain": [
              "   symboling normalized-losses         make  ... city-mpg highway-mpg  price\n",
              "0          3                 ?  alfa-romero  ...       21          27  13495\n",
              "1          3                 ?  alfa-romero  ...       21          27  16500\n",
              "2          1                 ?  alfa-romero  ...       19          26  16500\n",
              "3          2               164         audi  ...       24          30  13950\n",
              "4          2               164         audi  ...       18          22  17450\n",
              "\n",
              "[5 rows x 26 columns]"
            ]
          },
          "metadata": {
            "tags": []
          },
          "execution_count": 88
        }
      ]
    },
    {
      "cell_type": "markdown",
      "metadata": {
        "id": "TGJQ54PWy9EH"
      },
      "source": [
        "# **Data Engineering**"
      ]
    },
    {
      "cell_type": "code",
      "metadata": {
        "id": "df3jKOmKeZRK",
        "outputId": "159ce190-f143-4abb-de19-89117b7b04bc",
        "colab": {
          "base_uri": "https://localhost:8080/",
          "height": 136
        }
      },
      "source": [
        "dataset.columns"
      ],
      "execution_count": 89,
      "outputs": [
        {
          "output_type": "execute_result",
          "data": {
            "text/plain": [
              "Index(['symboling', 'normalized-losses', 'make', 'fuel-type', 'aspiration',\n",
              "       'num-of-doors', 'body-style', 'drive-wheels', 'engine-location',\n",
              "       'wheel-base', 'length', 'width', 'height', 'curb-weight', 'engine-type',\n",
              "       'num-of-cylinders', ' engine-size', 'fuel-system', 'bore', 'stroke',\n",
              "       'compression-ratio', 'horsepower', 'peak-rpm', 'city-mpg',\n",
              "       'highway-mpg', 'price'],\n",
              "      dtype='object')"
            ]
          },
          "metadata": {
            "tags": []
          },
          "execution_count": 89
        }
      ]
    },
    {
      "cell_type": "code",
      "metadata": {
        "id": "cFBM6mBgeStl"
      },
      "source": [
        "dataset.drop(columns=['symboling', 'normalized-losses', 'make', 'fuel-type', 'aspiration',\n",
        "       'num-of-doors', 'body-style', 'drive-wheels', 'engine-location',\n",
        "       'curb-weight', 'engine-type','num-of-cylinders', ' engine-size', 'fuel-system',\n",
        "       'horsepower','city-mpg',\n",
        "       'highway-mpg',],axis=1,inplace=True)"
      ],
      "execution_count": 90,
      "outputs": []
    },
    {
      "cell_type": "code",
      "metadata": {
        "id": "kG79J4eQsJ4h"
      },
      "source": [
        "dataset.replace('?',np.nan,inplace=True) "
      ],
      "execution_count": 91,
      "outputs": []
    },
    {
      "cell_type": "code",
      "metadata": {
        "id": "VWkib2nGr4qC",
        "outputId": "2461d420-92fb-4e54-b4ab-d47d677b9c73",
        "colab": {
          "base_uri": "https://localhost:8080/",
          "height": 187
        }
      },
      "source": [
        "dataset.isnull().sum().sort_values()"
      ],
      "execution_count": 92,
      "outputs": [
        {
          "output_type": "execute_result",
          "data": {
            "text/plain": [
              "wheel-base           0\n",
              "length               0\n",
              "width                0\n",
              "height               0\n",
              "compression-ratio    0\n",
              "peak-rpm             2\n",
              "bore                 4\n",
              "stroke               4\n",
              "price                4\n",
              "dtype: int64"
            ]
          },
          "metadata": {
            "tags": []
          },
          "execution_count": 92
        }
      ]
    },
    {
      "cell_type": "code",
      "metadata": {
        "id": "25XdcAvhrD_Z"
      },
      "source": [
        "list_col_nan=['peak-rpm','bore','stroke']\n",
        "\n",
        "for i in list_col_nan:\n",
        "    mean = dataset[i].astype(float).mean(axis=0)\n",
        "    dataset[i].replace(np.nan,mean,inplace=True) \n",
        "\n",
        "dataset.dropna(subset=['price'],inplace=True,axis=0)\n"
      ],
      "execution_count": 93,
      "outputs": []
    },
    {
      "cell_type": "code",
      "metadata": {
        "id": "LqaoeARdrFFW",
        "outputId": "ab292ba9-112d-4da9-b0a7-103f0e5a2b59",
        "colab": {
          "base_uri": "https://localhost:8080/",
          "height": 187
        }
      },
      "source": [
        "dataset.isnull().sum().sort_values()"
      ],
      "execution_count": 94,
      "outputs": [
        {
          "output_type": "execute_result",
          "data": {
            "text/plain": [
              "wheel-base           0\n",
              "length               0\n",
              "width                0\n",
              "height               0\n",
              "bore                 0\n",
              "stroke               0\n",
              "compression-ratio    0\n",
              "peak-rpm             0\n",
              "price                0\n",
              "dtype: int64"
            ]
          },
          "metadata": {
            "tags": []
          },
          "execution_count": 94
        }
      ]
    },
    {
      "cell_type": "code",
      "metadata": {
        "id": "zSzONyIQtbGM",
        "outputId": "58cf3553-2bae-4968-85d6-a9901323c6da",
        "colab": {
          "base_uri": "https://localhost:8080/",
          "height": 187
        }
      },
      "source": [
        "dataset[[\"bore\", \"stroke\",\"price\",\"peak-rpm\"]] = dataset[[\"bore\", \"stroke\",\"price\",\"peak-rpm\"]].astype(\"float\")\n",
        "dataset.dtypes"
      ],
      "execution_count": 95,
      "outputs": [
        {
          "output_type": "execute_result",
          "data": {
            "text/plain": [
              "wheel-base           float64\n",
              "length               float64\n",
              "width                float64\n",
              "height               float64\n",
              "bore                 float64\n",
              "stroke               float64\n",
              "compression-ratio    float64\n",
              "peak-rpm             float64\n",
              "price                float64\n",
              "dtype: object"
            ]
          },
          "metadata": {
            "tags": []
          },
          "execution_count": 95
        }
      ]
    },
    {
      "cell_type": "code",
      "metadata": {
        "id": "6wnlQJ1twoG1",
        "outputId": "4b7b7513-d78c-4191-90c5-6ed659aac420",
        "colab": {
          "base_uri": "https://localhost:8080/",
          "height": 289
        }
      },
      "source": [
        "dataset.info()"
      ],
      "execution_count": 96,
      "outputs": [
        {
          "output_type": "stream",
          "text": [
            "<class 'pandas.core.frame.DataFrame'>\n",
            "Int64Index: 201 entries, 0 to 204\n",
            "Data columns (total 9 columns):\n",
            " #   Column             Non-Null Count  Dtype  \n",
            "---  ------             --------------  -----  \n",
            " 0   wheel-base         201 non-null    float64\n",
            " 1   length             201 non-null    float64\n",
            " 2   width              201 non-null    float64\n",
            " 3   height             201 non-null    float64\n",
            " 4   bore               201 non-null    float64\n",
            " 5   stroke             201 non-null    float64\n",
            " 6   compression-ratio  201 non-null    float64\n",
            " 7   peak-rpm           201 non-null    float64\n",
            " 8   price              201 non-null    float64\n",
            "dtypes: float64(9)\n",
            "memory usage: 15.7 KB\n"
          ],
          "name": "stdout"
        }
      ]
    },
    {
      "cell_type": "code",
      "metadata": {
        "id": "SLYCH3b3zWZ3",
        "outputId": "0d4f9566-4a3d-44dd-e56f-89976692ab69",
        "colab": {
          "base_uri": "https://localhost:8080/",
          "height": 1000
        }
      },
      "source": [
        "dataset.hist(figsize=(18, 22), bins=50, xlabelsize=8, ylabelsize=8)"
      ],
      "execution_count": 97,
      "outputs": [
        {
          "output_type": "execute_result",
          "data": {
            "text/plain": [
              "array([[<matplotlib.axes._subplots.AxesSubplot object at 0x7f1ebe4b32e8>,\n",
              "        <matplotlib.axes._subplots.AxesSubplot object at 0x7f1ebe3f0208>,\n",
              "        <matplotlib.axes._subplots.AxesSubplot object at 0x7f1ebe39b518>],\n",
              "       [<matplotlib.axes._subplots.AxesSubplot object at 0x7f1ebe3c6898>,\n",
              "        <matplotlib.axes._subplots.AxesSubplot object at 0x7f1ebe375c18>,\n",
              "        <matplotlib.axes._subplots.AxesSubplot object at 0x7f1ebe325f98>],\n",
              "       [<matplotlib.axes._subplots.AxesSubplot object at 0x7f1ebe2df358>,\n",
              "        <matplotlib.axes._subplots.AxesSubplot object at 0x7f1ebe28e6a0>,\n",
              "        <matplotlib.axes._subplots.AxesSubplot object at 0x7f1ebe28e710>]],\n",
              "      dtype=object)"
            ]
          },
          "metadata": {
            "tags": []
          },
          "execution_count": 97
        },
        {
          "output_type": "display_data",
          "data": {
            "image/png": "[encoded data removed]",
            "text/plain": [
              "<Figure size 1296x1584 with 9 Axes>"
            ]
          },
          "metadata": {
            "tags": [],
            "needs_background": "light"
          }
        }
      ]
    },
    {
      "cell_type": "code",
      "metadata": {
        "id": "pEQfZAFLzcSH",
        "outputId": "f50f0b0f-6300-4e69-a41c-0326ad6f5ef0",
        "colab": {
          "base_uri": "https://localhost:8080/",
          "height": 1000
        }
      },
      "source": [
        "corr = dataset.corr()\n",
        "plt.figure(figsize=(20,20))\n",
        "sb.heatmap(corr, cbar=True, square= True, fmt='.1f', annot=True, annot_kws={'size':15}, cmap='Greens')"
      ],
      "execution_count": 98,
      "outputs": [
        {
          "output_type": "execute_result",
          "data": {
            "text/plain": [
              "<matplotlib.axes._subplots.AxesSubplot at 0x7f1ec77bb1d0>"
            ]
          },
          "metadata": {
            "tags": []
          },
          "execution_count": 98
        },
        {
          "output_type": "display_data",
          "data": {
            "image/png": "[encoded data removed]",
            "text/plain": [
              "<Figure size 1440x1440 with 2 Axes>"
            ]
          },
          "metadata": {
            "tags": [],
            "needs_background": "light"
          }
        }
      ]
    },
    {
      "cell_type": "code",
      "metadata": {
        "id": "F9qZdOb82b6C",
        "outputId": "0b62e3c8-fe99-4509-b798-6f6f28017610",
        "colab": {
          "base_uri": "https://localhost:8080/",
          "height": 34
        }
      },
      "source": [
        "len(dataset.columns)"
      ],
      "execution_count": 99,
      "outputs": [
        {
          "output_type": "execute_result",
          "data": {
            "text/plain": [
              "9"
            ]
          },
          "metadata": {
            "tags": []
          },
          "execution_count": 99
        }
      ]
    },
    {
      "cell_type": "markdown",
      "metadata": {
        "id": "ap35nFgazKB5"
      },
      "source": [
        "# **Linear Regression**"
      ]
    },
    {
      "cell_type": "markdown",
      "metadata": {
        "id": "5Mzf-o6f0xVL"
      },
      "source": [
        "## **Feature Engineering**"
      ]
    },
    {
      "cell_type": "code",
      "metadata": {
        "id": "uelGnt3DzImO"
      },
      "source": [
        "label = dataset['price']\n",
        "features = dataset.drop(['price'], axis=1)\n",
        "\n",
        "scaler = preprocessing.StandardScaler()\n",
        "\n",
        "features = scaler.fit_transform(features.values)\n",
        "label = scaler.fit_transform(label.values.reshape(-1,1)).flatten()\n",
        "\n",
        "feature_train, feature_test, label_train, label_test = train_test_split(features, label, test_size=0.2, random_state=10)"
      ],
      "execution_count": 100,
      "outputs": []
    },
    {
      "cell_type": "code",
      "metadata": {
        "id": "hlbqpuQu1emh",
        "outputId": "833a18de-e742-4fd9-d326-9e7649a84158",
        "colab": {
          "base_uri": "https://localhost:8080/",
          "height": 85
        }
      },
      "source": [
        "linear_reg = LinearRegression()\n",
        "linear_reg.fit(feature_train, label_train)\n",
        "\n",
        "predictions = linear_reg.predict(feature_test)\n",
        "\n",
        "mse = mean_squared_error(label_test, predictions)\n",
        "mae = mean_absolute_error(label_test, predictions)\n",
        "r2 = r2_score(label_test, predictions)\n",
        "print(\"MSE (Mean Squared Error)\", mse)\n",
        "print(\"MAE (Mean Absolute Error)\", mae)\n",
        "print(\"r^2 score\", r2)\n",
        "print('RMSE (Root Mean Squared Error', np.sqrt(mean_squared_error(label_test, predictions)))"
      ],
      "execution_count": 101,
      "outputs": [
        {
          "output_type": "stream",
          "text": [
            "MSE (Mean Squared Error) 0.244769250439587\n",
            "MAE (Mean Absolute Error) 0.37372756360580484\n",
            "r^2 score 0.6582019578480833\n",
            "RMSE (Root Mean Squared Error 0.49474159966550924\n"
          ],
          "name": "stdout"
        }
      ]
    },
    {
      "cell_type": "markdown",
      "metadata": {
        "id": "JwwSzCjF5HCT"
      },
      "source": [
        "## **Base Model DL**"
      ]
    },
    {
      "cell_type": "code",
      "metadata": {
        "id": "4SEGfnpB1z8b"
      },
      "source": [
        "model = Sequential()\n",
        "model.add(Dense(8,input_dim=8, kernel_initializer='normal', activation='relu')) # 13 neuron, sesuai dengan 13 features\n",
        "model.add(Dense(1, kernel_initializer='normal'))\n",
        "\n",
        "model.compile(loss='mean_squared_error', optimizer='adam')"
      ],
      "execution_count": 102,
      "outputs": []
    },
    {
      "cell_type": "code",
      "metadata": {
        "id": "gG_fsfis1_QE",
        "outputId": "9fbbe1bb-0db9-45bf-be42-c40c40cf4d87",
        "colab": {
          "base_uri": "https://localhost:8080/",
          "height": 1000
        }
      },
      "source": [
        "model.fit(x=feature_train, y=label_train, validation_data=(feature_test, label_test), epochs=50, batch_size=8)"
      ],
      "execution_count": 103,
      "outputs": [
        {
          "output_type": "stream",
          "text": [
            "Epoch 1/50\n",
            "20/20 [==============================] - 0s 6ms/step - loss: 1.0631 - val_loss: 0.7094\n",
            "Epoch 2/50\n",
            "20/20 [==============================] - 0s 2ms/step - loss: 1.0387 - val_loss: 0.6941\n",
            "Epoch 3/50\n",
            "20/20 [==============================] - 0s 2ms/step - loss: 1.0046 - val_loss: 0.6719\n",
            "Epoch 4/50\n",
            "20/20 [==============================] - 0s 2ms/step - loss: 0.9530 - val_loss: 0.6419\n",
            "Epoch 5/50\n",
            "20/20 [==============================] - 0s 2ms/step - loss: 0.8792 - val_loss: 0.6072\n",
            "Epoch 6/50\n",
            "20/20 [==============================] - 0s 2ms/step - loss: 0.7987 - val_loss: 0.5695\n",
            "Epoch 7/50\n",
            "20/20 [==============================] - 0s 2ms/step - loss: 0.7080 - val_loss: 0.5393\n",
            "Epoch 8/50\n",
            "20/20 [==============================] - 0s 2ms/step - loss: 0.6356 - val_loss: 0.5150\n",
            "Epoch 9/50\n",
            "20/20 [==============================] - 0s 2ms/step - loss: 0.5708 - val_loss: 0.4959\n",
            "Epoch 10/50\n",
            "20/20 [==============================] - 0s 2ms/step - loss: 0.5272 - val_loss: 0.4844\n",
            "Epoch 11/50\n",
            "20/20 [==============================] - 0s 2ms/step - loss: 0.4923 - val_loss: 0.4722\n",
            "Epoch 12/50\n",
            "20/20 [==============================] - 0s 2ms/step - loss: 0.4675 - val_loss: 0.4560\n",
            "Epoch 13/50\n",
            "20/20 [==============================] - 0s 2ms/step - loss: 0.4500 - val_loss: 0.4470\n",
            "Epoch 14/50\n",
            "20/20 [==============================] - 0s 2ms/step - loss: 0.4378 - val_loss: 0.4333\n",
            "Epoch 15/50\n",
            "20/20 [==============================] - 0s 2ms/step - loss: 0.4260 - val_loss: 0.4212\n",
            "Epoch 16/50\n",
            "20/20 [==============================] - 0s 2ms/step - loss: 0.4199 - val_loss: 0.4141\n",
            "Epoch 17/50\n",
            "20/20 [==============================] - 0s 2ms/step - loss: 0.4107 - val_loss: 0.4007\n",
            "Epoch 18/50\n",
            "20/20 [==============================] - 0s 2ms/step - loss: 0.4037 - val_loss: 0.3957\n",
            "Epoch 19/50\n",
            "20/20 [==============================] - 0s 2ms/step - loss: 0.3961 - val_loss: 0.3850\n",
            "Epoch 20/50\n",
            "20/20 [==============================] - 0s 2ms/step - loss: 0.3910 - val_loss: 0.3751\n",
            "Epoch 21/50\n",
            "20/20 [==============================] - 0s 2ms/step - loss: 0.3863 - val_loss: 0.3672\n",
            "Epoch 22/50\n",
            "20/20 [==============================] - 0s 2ms/step - loss: 0.3802 - val_loss: 0.3610\n",
            "Epoch 23/50\n",
            "20/20 [==============================] - 0s 2ms/step - loss: 0.3755 - val_loss: 0.3525\n",
            "Epoch 24/50\n",
            "20/20 [==============================] - 0s 2ms/step - loss: 0.3711 - val_loss: 0.3456\n",
            "Epoch 25/50\n",
            "20/20 [==============================] - 0s 2ms/step - loss: 0.3671 - val_loss: 0.3397\n",
            "Epoch 26/50\n",
            "20/20 [==============================] - 0s 2ms/step - loss: 0.3637 - val_loss: 0.3294\n",
            "Epoch 27/50\n",
            "20/20 [==============================] - 0s 2ms/step - loss: 0.3583 - val_loss: 0.3243\n",
            "Epoch 28/50\n",
            "20/20 [==============================] - 0s 2ms/step - loss: 0.3551 - val_loss: 0.3189\n",
            "Epoch 29/50\n",
            "20/20 [==============================] - 0s 2ms/step - loss: 0.3519 - val_loss: 0.3153\n",
            "Epoch 30/50\n",
            "20/20 [==============================] - 0s 2ms/step - loss: 0.3475 - val_loss: 0.3096\n",
            "Epoch 31/50\n",
            "20/20 [==============================] - 0s 2ms/step - loss: 0.3444 - val_loss: 0.3021\n",
            "Epoch 32/50\n",
            "20/20 [==============================] - 0s 2ms/step - loss: 0.3400 - val_loss: 0.2965\n",
            "Epoch 33/50\n",
            "20/20 [==============================] - 0s 2ms/step - loss: 0.3372 - val_loss: 0.2911\n",
            "Epoch 34/50\n",
            "20/20 [==============================] - 0s 2ms/step - loss: 0.3334 - val_loss: 0.2859\n",
            "Epoch 35/50\n",
            "20/20 [==============================] - 0s 2ms/step - loss: 0.3305 - val_loss: 0.2817\n",
            "Epoch 36/50\n",
            "20/20 [==============================] - 0s 2ms/step - loss: 0.3274 - val_loss: 0.2780\n",
            "Epoch 37/50\n",
            "20/20 [==============================] - 0s 2ms/step - loss: 0.3244 - val_loss: 0.2736\n",
            "Epoch 38/50\n",
            "20/20 [==============================] - 0s 2ms/step - loss: 0.3215 - val_loss: 0.2698\n",
            "Epoch 39/50\n",
            "20/20 [==============================] - 0s 2ms/step - loss: 0.3183 - val_loss: 0.2671\n",
            "Epoch 40/50\n",
            "20/20 [==============================] - 0s 2ms/step - loss: 0.3157 - val_loss: 0.2622\n",
            "Epoch 41/50\n",
            "20/20 [==============================] - 0s 2ms/step - loss: 0.3135 - val_loss: 0.2578\n",
            "Epoch 42/50\n",
            "20/20 [==============================] - 0s 2ms/step - loss: 0.3108 - val_loss: 0.2551\n",
            "Epoch 43/50\n",
            "20/20 [==============================] - 0s 2ms/step - loss: 0.3081 - val_loss: 0.2535\n",
            "Epoch 44/50\n",
            "20/20 [==============================] - 0s 2ms/step - loss: 0.3055 - val_loss: 0.2499\n",
            "Epoch 45/50\n",
            "20/20 [==============================] - 0s 2ms/step - loss: 0.3048 - val_loss: 0.2464\n",
            "Epoch 46/50\n",
            "20/20 [==============================] - 0s 2ms/step - loss: 0.3014 - val_loss: 0.2452\n",
            "Epoch 47/50\n",
            "20/20 [==============================] - 0s 2ms/step - loss: 0.2995 - val_loss: 0.2446\n",
            "Epoch 48/50\n",
            "20/20 [==============================] - 0s 2ms/step - loss: 0.2971 - val_loss: 0.2415\n",
            "Epoch 49/50\n",
            "20/20 [==============================] - 0s 2ms/step - loss: 0.2954 - val_loss: 0.2369\n",
            "Epoch 50/50\n",
            "20/20 [==============================] - 0s 2ms/step - loss: 0.2932 - val_loss: 0.2372\n"
          ],
          "name": "stdout"
        },
        {
          "output_type": "execute_result",
          "data": {
            "text/plain": [
              "<tensorflow.python.keras.callbacks.History at 0x7f1ec5dc7a58>"
            ]
          },
          "metadata": {
            "tags": []
          },
          "execution_count": 103
        }
      ]
    },
    {
      "cell_type": "code",
      "metadata": {
        "id": "obSwIi4G44Ig",
        "outputId": "b94ba7d0-f48b-4ddd-c379-4a2a7e6979df",
        "colab": {
          "base_uri": "https://localhost:8080/",
          "height": 122
        }
      },
      "source": [
        "predictions = model.predict(feature_test)\n",
        "predictions = predictions.flatten()\n",
        "\n",
        "mse = mean_squared_error(label_test, predictions)\n",
        "mae = mean_absolute_error(label_test, predictions)\n",
        "r2 = r2_score(label_test, predictions)\n",
        "print(\"MSE (Mean Squared Error)\", mse)\n",
        "print(\"MAE (Mean Absolute Error)\", mae)\n",
        "print(\"r^2 score\", r2)\n",
        "print('RMSE (Root Mean Squared Error', np.sqrt(mean_squared_error(label_test, predictions)))"
      ],
      "execution_count": 104,
      "outputs": [
        {
          "output_type": "stream",
          "text": [
            "WARNING:tensorflow:6 out of the last 11 calls to <function Model.make_predict_function.<locals>.predict_function at 0x7f1ebe4ed730> triggered tf.function retracing. Tracing is expensive and the excessive number of tracings could be due to (1) creating @tf.function repeatedly in a loop, (2) passing tensors with different shapes, (3) passing Python objects instead of tensors. For (1), please define your @tf.function outside of the loop. For (2), @tf.function has experimental_relax_shapes=True option that relaxes argument shapes that can avoid unnecessary retracing. For (3), please refer to https://www.tensorflow.org/tutorials/customization/performance#python_or_tensor_args and https://www.tensorflow.org/api_docs/python/tf/function for  more details.\n",
            "MSE (Mean Squared Error) 0.23719081809220371\n",
            "MAE (Mean Absolute Error) 0.3605994802204901\n",
            "r^2 score 0.6687845507769925\n",
            "RMSE (Root Mean Squared Error 0.4870223999901891\n"
          ],
          "name": "stdout"
        }
      ]
    },
    {
      "cell_type": "markdown",
      "metadata": {
        "id": "9mkPLcIj5MEA"
      },
      "source": [
        "## **Deeper Model DL**"
      ]
    },
    {
      "cell_type": "code",
      "metadata": {
        "id": "8FDbHiHm5ZfE",
        "outputId": "ccfda5b3-19b7-451a-b707-50d3139874af",
        "colab": {
          "base_uri": "https://localhost:8080/",
          "height": 1000
        }
      },
      "source": [
        "deeper_model = Sequential()\n",
        "deeper_model.add(Dense(8,input_dim=8, kernel_initializer='normal', activation='relu'))\n",
        "deeper_model.add(Dense(6, kernel_initializer='normal', activation='relu'))\n",
        "deeper_model.add(Dense(1, kernel_initializer='normal'))\n",
        "\n",
        "deeper_model.compile(loss='mean_squared_error', optimizer='adam')\n",
        "\n",
        "deeper_model.fit(x=feature_train, y=label_train, validation_data=(feature_test, label_test), epochs=50, batch_size=8)"
      ],
      "execution_count": 105,
      "outputs": [
        {
          "output_type": "stream",
          "text": [
            "Epoch 1/50\n",
            "20/20 [==============================] - 0s 6ms/step - loss: 1.0696 - val_loss: 0.7193\n",
            "Epoch 2/50\n",
            "20/20 [==============================] - 0s 2ms/step - loss: 1.0634 - val_loss: 0.7168\n",
            "Epoch 3/50\n",
            "20/20 [==============================] - 0s 2ms/step - loss: 1.0487 - val_loss: 0.7095\n",
            "Epoch 4/50\n",
            "20/20 [==============================] - 0s 2ms/step - loss: 1.0159 - val_loss: 0.6939\n",
            "Epoch 5/50\n",
            "20/20 [==============================] - 0s 2ms/step - loss: 0.9522 - val_loss: 0.6705\n",
            "Epoch 6/50\n",
            "20/20 [==============================] - 0s 2ms/step - loss: 0.8713 - val_loss: 0.6449\n",
            "Epoch 7/50\n",
            "20/20 [==============================] - 0s 2ms/step - loss: 0.7756 - val_loss: 0.6316\n",
            "Epoch 8/50\n",
            "20/20 [==============================] - 0s 2ms/step - loss: 0.7140 - val_loss: 0.6258\n",
            "Epoch 9/50\n",
            "20/20 [==============================] - 0s 2ms/step - loss: 0.6684 - val_loss: 0.6135\n",
            "Epoch 10/50\n",
            "20/20 [==============================] - 0s 2ms/step - loss: 0.6417 - val_loss: 0.6045\n",
            "Epoch 11/50\n",
            "20/20 [==============================] - 0s 2ms/step - loss: 0.6171 - val_loss: 0.5842\n",
            "Epoch 12/50\n",
            "20/20 [==============================] - 0s 2ms/step - loss: 0.5988 - val_loss: 0.5548\n",
            "Epoch 13/50\n",
            "20/20 [==============================] - 0s 2ms/step - loss: 0.5804 - val_loss: 0.5393\n",
            "Epoch 14/50\n",
            "20/20 [==============================] - 0s 2ms/step - loss: 0.5635 - val_loss: 0.5151\n",
            "Epoch 15/50\n",
            "20/20 [==============================] - 0s 2ms/step - loss: 0.5451 - val_loss: 0.4937\n",
            "Epoch 16/50\n",
            "20/20 [==============================] - 0s 2ms/step - loss: 0.5340 - val_loss: 0.4769\n",
            "Epoch 17/50\n",
            "20/20 [==============================] - 0s 2ms/step - loss: 0.5194 - val_loss: 0.4564\n",
            "Epoch 18/50\n",
            "20/20 [==============================] - 0s 2ms/step - loss: 0.5071 - val_loss: 0.4457\n",
            "Epoch 19/50\n",
            "20/20 [==============================] - 0s 2ms/step - loss: 0.4926 - val_loss: 0.4286\n",
            "Epoch 20/50\n",
            "20/20 [==============================] - 0s 2ms/step - loss: 0.4830 - val_loss: 0.4120\n",
            "Epoch 21/50\n",
            "20/20 [==============================] - 0s 2ms/step - loss: 0.4716 - val_loss: 0.3982\n",
            "Epoch 22/50\n",
            "20/20 [==============================] - 0s 2ms/step - loss: 0.4608 - val_loss: 0.3853\n",
            "Epoch 23/50\n",
            "20/20 [==============================] - 0s 2ms/step - loss: 0.4504 - val_loss: 0.3697\n",
            "Epoch 24/50\n",
            "20/20 [==============================] - 0s 2ms/step - loss: 0.4420 - val_loss: 0.3560\n",
            "Epoch 25/50\n",
            "20/20 [==============================] - 0s 2ms/step - loss: 0.4319 - val_loss: 0.3453\n",
            "Epoch 26/50\n",
            "20/20 [==============================] - 0s 2ms/step - loss: 0.4234 - val_loss: 0.3319\n",
            "Epoch 27/50\n",
            "20/20 [==============================] - 0s 2ms/step - loss: 0.4125 - val_loss: 0.3218\n",
            "Epoch 28/50\n",
            "20/20 [==============================] - 0s 2ms/step - loss: 0.4051 - val_loss: 0.3129\n",
            "Epoch 29/50\n",
            "20/20 [==============================] - 0s 2ms/step - loss: 0.3982 - val_loss: 0.3016\n",
            "Epoch 30/50\n",
            "20/20 [==============================] - 0s 2ms/step - loss: 0.3875 - val_loss: 0.2928\n",
            "Epoch 31/50\n",
            "20/20 [==============================] - 0s 2ms/step - loss: 0.3802 - val_loss: 0.2834\n",
            "Epoch 32/50\n",
            "20/20 [==============================] - 0s 2ms/step - loss: 0.3725 - val_loss: 0.2735\n",
            "Epoch 33/50\n",
            "20/20 [==============================] - 0s 2ms/step - loss: 0.3660 - val_loss: 0.2677\n",
            "Epoch 34/50\n",
            "20/20 [==============================] - 0s 2ms/step - loss: 0.3594 - val_loss: 0.2583\n",
            "Epoch 35/50\n",
            "20/20 [==============================] - 0s 2ms/step - loss: 0.3526 - val_loss: 0.2504\n",
            "Epoch 36/50\n",
            "20/20 [==============================] - 0s 2ms/step - loss: 0.3453 - val_loss: 0.2446\n",
            "Epoch 37/50\n",
            "20/20 [==============================] - 0s 2ms/step - loss: 0.3386 - val_loss: 0.2381\n",
            "Epoch 38/50\n",
            "20/20 [==============================] - 0s 2ms/step - loss: 0.3332 - val_loss: 0.2319\n",
            "Epoch 39/50\n",
            "20/20 [==============================] - 0s 2ms/step - loss: 0.3261 - val_loss: 0.2267\n",
            "Epoch 40/50\n",
            "20/20 [==============================] - 0s 2ms/step - loss: 0.3205 - val_loss: 0.2222\n",
            "Epoch 41/50\n",
            "20/20 [==============================] - 0s 2ms/step - loss: 0.3163 - val_loss: 0.2147\n",
            "Epoch 42/50\n",
            "20/20 [==============================] - 0s 2ms/step - loss: 0.3096 - val_loss: 0.2074\n",
            "Epoch 43/50\n",
            "20/20 [==============================] - 0s 2ms/step - loss: 0.3043 - val_loss: 0.2037\n",
            "Epoch 44/50\n",
            "20/20 [==============================] - 0s 2ms/step - loss: 0.2987 - val_loss: 0.2002\n",
            "Epoch 45/50\n",
            "20/20 [==============================] - 0s 2ms/step - loss: 0.2957 - val_loss: 0.1971\n",
            "Epoch 46/50\n",
            "20/20 [==============================] - 0s 2ms/step - loss: 0.2905 - val_loss: 0.1935\n",
            "Epoch 47/50\n",
            "20/20 [==============================] - 0s 2ms/step - loss: 0.2874 - val_loss: 0.1867\n",
            "Epoch 48/50\n",
            "20/20 [==============================] - 0s 2ms/step - loss: 0.2799 - val_loss: 0.1816\n",
            "Epoch 49/50\n",
            "20/20 [==============================] - 0s 2ms/step - loss: 0.2779 - val_loss: 0.1805\n",
            "Epoch 50/50\n",
            "20/20 [==============================] - 0s 2ms/step - loss: 0.2728 - val_loss: 0.1766\n"
          ],
          "name": "stdout"
        },
        {
          "output_type": "execute_result",
          "data": {
            "text/plain": [
              "<tensorflow.python.keras.callbacks.History at 0x7f1ebf1a01d0>"
            ]
          },
          "metadata": {
            "tags": []
          },
          "execution_count": 105
        }
      ]
    },
    {
      "cell_type": "code",
      "metadata": {
        "id": "h86IPhQ25iix",
        "outputId": "5706a3fa-3a61-4c79-c319-4a45ce06ed5a",
        "colab": {
          "base_uri": "https://localhost:8080/",
          "height": 122
        }
      },
      "source": [
        "predictions = deeper_model.predict(feature_test)\n",
        "predictions = predictions.flatten()\n",
        "\n",
        "mse = mean_squared_error(label_test, predictions)\n",
        "mae = mean_absolute_error(label_test, predictions)\n",
        "r2 = r2_score(label_test, predictions)\n",
        "print(\"MSE (Mean Squared Error)\", mse)\n",
        "print(\"MAE (Mean Absolute Error)\", mae)\n",
        "print(\"r^2 score\", r2)\n",
        "print('RMSE (Root Mean Squared Error', np.sqrt(mean_squared_error(label_test, predictions)))"
      ],
      "execution_count": 106,
      "outputs": [
        {
          "output_type": "stream",
          "text": [
            "WARNING:tensorflow:6 out of the last 11 calls to <function Model.make_predict_function.<locals>.predict_function at 0x7f1ebe61bd08> triggered tf.function retracing. Tracing is expensive and the excessive number of tracings could be due to (1) creating @tf.function repeatedly in a loop, (2) passing tensors with different shapes, (3) passing Python objects instead of tensors. For (1), please define your @tf.function outside of the loop. For (2), @tf.function has experimental_relax_shapes=True option that relaxes argument shapes that can avoid unnecessary retracing. For (3), please refer to https://www.tensorflow.org/tutorials/customization/performance#python_or_tensor_args and https://www.tensorflow.org/api_docs/python/tf/function for  more details.\n",
            "MSE (Mean Squared Error) 0.17655822123920167\n",
            "MAE (Mean Absolute Error) 0.35637976713269254\n",
            "r^2 score 0.7534524690621678\n",
            "RMSE (Root Mean Squared Error 0.42018831640016086\n"
          ],
          "name": "stdout"
        }
      ]
    },
    {
      "cell_type": "markdown",
      "metadata": {
        "id": "mhI5GNRM5n9Q"
      },
      "source": [
        "## **Wider Model DL**"
      ]
    },
    {
      "cell_type": "code",
      "metadata": {
        "id": "hfxp5yDv5nM0",
        "outputId": "b81b0ddd-9ce5-4ccb-a146-e1e30f45bcf2",
        "colab": {
          "base_uri": "https://localhost:8080/",
          "height": 1000
        }
      },
      "source": [
        "wider_model = Sequential()\n",
        "wider_model.add(Dense(20,input_dim=8, kernel_initializer='normal', activation='relu'))\n",
        "wider_model.add(Dense(1, kernel_initializer='normal'))\n",
        "\n",
        "wider_model.compile(loss='mean_squared_error', optimizer='adam')\n",
        "\n",
        "history = wider_model.fit(x=feature_train, y=label_train, validation_data=(feature_test, label_test), epochs=100, batch_size=8)"
      ],
      "execution_count": 107,
      "outputs": [
        {
          "output_type": "stream",
          "text": [
            "Epoch 1/100\n",
            "20/20 [==============================] - 0s 6ms/step - loss: 1.0654 - val_loss: 0.6997\n",
            "Epoch 2/100\n",
            "20/20 [==============================] - 0s 2ms/step - loss: 1.0069 - val_loss: 0.6651\n",
            "Epoch 3/100\n",
            "20/20 [==============================] - 0s 2ms/step - loss: 0.9414 - val_loss: 0.6239\n",
            "Epoch 4/100\n",
            "20/20 [==============================] - 0s 2ms/step - loss: 0.8567 - val_loss: 0.5775\n",
            "Epoch 5/100\n",
            "20/20 [==============================] - 0s 2ms/step - loss: 0.7523 - val_loss: 0.5330\n",
            "Epoch 6/100\n",
            "20/20 [==============================] - 0s 2ms/step - loss: 0.6542 - val_loss: 0.4952\n",
            "Epoch 7/100\n",
            "20/20 [==============================] - 0s 2ms/step - loss: 0.5608 - val_loss: 0.4745\n",
            "Epoch 8/100\n",
            "20/20 [==============================] - 0s 2ms/step - loss: 0.5043 - val_loss: 0.4623\n",
            "Epoch 9/100\n",
            "20/20 [==============================] - 0s 2ms/step - loss: 0.4650 - val_loss: 0.4495\n",
            "Epoch 10/100\n",
            "20/20 [==============================] - 0s 2ms/step - loss: 0.4432 - val_loss: 0.4400\n",
            "Epoch 11/100\n",
            "20/20 [==============================] - 0s 2ms/step - loss: 0.4256 - val_loss: 0.4268\n",
            "Epoch 12/100\n",
            "20/20 [==============================] - 0s 2ms/step - loss: 0.4135 - val_loss: 0.4049\n",
            "Epoch 13/100\n",
            "20/20 [==============================] - 0s 2ms/step - loss: 0.4011 - val_loss: 0.3947\n",
            "Epoch 14/100\n",
            "20/20 [==============================] - 0s 2ms/step - loss: 0.3920 - val_loss: 0.3769\n",
            "Epoch 15/100\n",
            "20/20 [==============================] - 0s 2ms/step - loss: 0.3799 - val_loss: 0.3615\n",
            "Epoch 16/100\n",
            "20/20 [==============================] - 0s 2ms/step - loss: 0.3736 - val_loss: 0.3520\n",
            "Epoch 17/100\n",
            "20/20 [==============================] - 0s 2ms/step - loss: 0.3649 - val_loss: 0.3384\n",
            "Epoch 18/100\n",
            "20/20 [==============================] - 0s 2ms/step - loss: 0.3571 - val_loss: 0.3340\n",
            "Epoch 19/100\n",
            "20/20 [==============================] - 0s 2ms/step - loss: 0.3471 - val_loss: 0.3221\n",
            "Epoch 20/100\n",
            "20/20 [==============================] - 0s 2ms/step - loss: 0.3410 - val_loss: 0.3134\n",
            "Epoch 21/100\n",
            "20/20 [==============================] - 0s 2ms/step - loss: 0.3354 - val_loss: 0.3071\n",
            "Epoch 22/100\n",
            "20/20 [==============================] - 0s 2ms/step - loss: 0.3291 - val_loss: 0.2997\n",
            "Epoch 23/100\n",
            "20/20 [==============================] - 0s 2ms/step - loss: 0.3212 - val_loss: 0.2902\n",
            "Epoch 24/100\n",
            "20/20 [==============================] - 0s 2ms/step - loss: 0.3158 - val_loss: 0.2857\n",
            "Epoch 25/100\n",
            "20/20 [==============================] - 0s 2ms/step - loss: 0.3098 - val_loss: 0.2801\n",
            "Epoch 26/100\n",
            "20/20 [==============================] - 0s 2ms/step - loss: 0.3060 - val_loss: 0.2701\n",
            "Epoch 27/100\n",
            "20/20 [==============================] - 0s 2ms/step - loss: 0.3004 - val_loss: 0.2666\n",
            "Epoch 28/100\n",
            "20/20 [==============================] - 0s 2ms/step - loss: 0.2948 - val_loss: 0.2631\n",
            "Epoch 29/100\n",
            "20/20 [==============================] - 0s 2ms/step - loss: 0.2913 - val_loss: 0.2597\n",
            "Epoch 30/100\n",
            "20/20 [==============================] - 0s 2ms/step - loss: 0.2853 - val_loss: 0.2566\n",
            "Epoch 31/100\n",
            "20/20 [==============================] - 0s 2ms/step - loss: 0.2812 - val_loss: 0.2513\n",
            "Epoch 32/100\n",
            "20/20 [==============================] - 0s 2ms/step - loss: 0.2758 - val_loss: 0.2473\n",
            "Epoch 33/100\n",
            "20/20 [==============================] - 0s 2ms/step - loss: 0.2724 - val_loss: 0.2459\n",
            "Epoch 34/100\n",
            "20/20 [==============================] - 0s 2ms/step - loss: 0.2666 - val_loss: 0.2425\n",
            "Epoch 35/100\n",
            "20/20 [==============================] - 0s 2ms/step - loss: 0.2623 - val_loss: 0.2406\n",
            "Epoch 36/100\n",
            "20/20 [==============================] - 0s 2ms/step - loss: 0.2586 - val_loss: 0.2398\n",
            "Epoch 37/100\n",
            "20/20 [==============================] - 0s 2ms/step - loss: 0.2552 - val_loss: 0.2383\n",
            "Epoch 38/100\n",
            "20/20 [==============================] - 0s 2ms/step - loss: 0.2520 - val_loss: 0.2383\n",
            "Epoch 39/100\n",
            "20/20 [==============================] - 0s 2ms/step - loss: 0.2478 - val_loss: 0.2376\n",
            "Epoch 40/100\n",
            "20/20 [==============================] - 0s 2ms/step - loss: 0.2443 - val_loss: 0.2353\n",
            "Epoch 41/100\n",
            "20/20 [==============================] - 0s 2ms/step - loss: 0.2419 - val_loss: 0.2343\n",
            "Epoch 42/100\n",
            "20/20 [==============================] - 0s 2ms/step - loss: 0.2390 - val_loss: 0.2332\n",
            "Epoch 43/100\n",
            "20/20 [==============================] - 0s 2ms/step - loss: 0.2362 - val_loss: 0.2339\n",
            "Epoch 44/100\n",
            "20/20 [==============================] - 0s 2ms/step - loss: 0.2332 - val_loss: 0.2321\n",
            "Epoch 45/100\n",
            "20/20 [==============================] - 0s 3ms/step - loss: 0.2316 - val_loss: 0.2329\n",
            "Epoch 46/100\n",
            "20/20 [==============================] - 0s 3ms/step - loss: 0.2283 - val_loss: 0.2321\n",
            "Epoch 47/100\n",
            "20/20 [==============================] - 0s 2ms/step - loss: 0.2264 - val_loss: 0.2326\n",
            "Epoch 48/100\n",
            "20/20 [==============================] - 0s 2ms/step - loss: 0.2223 - val_loss: 0.2312\n",
            "Epoch 49/100\n",
            "20/20 [==============================] - 0s 2ms/step - loss: 0.2234 - val_loss: 0.2310\n",
            "Epoch 50/100\n",
            "20/20 [==============================] - 0s 2ms/step - loss: 0.2208 - val_loss: 0.2303\n",
            "Epoch 51/100\n",
            "20/20 [==============================] - 0s 2ms/step - loss: 0.2183 - val_loss: 0.2308\n",
            "Epoch 52/100\n",
            "20/20 [==============================] - 0s 2ms/step - loss: 0.2156 - val_loss: 0.2299\n",
            "Epoch 53/100\n",
            "20/20 [==============================] - 0s 2ms/step - loss: 0.2132 - val_loss: 0.2299\n",
            "Epoch 54/100\n",
            "20/20 [==============================] - 0s 2ms/step - loss: 0.2106 - val_loss: 0.2304\n",
            "Epoch 55/100\n",
            "20/20 [==============================] - 0s 2ms/step - loss: 0.2098 - val_loss: 0.2291\n",
            "Epoch 56/100\n",
            "20/20 [==============================] - 0s 2ms/step - loss: 0.2091 - val_loss: 0.2316\n",
            "Epoch 57/100\n",
            "20/20 [==============================] - 0s 2ms/step - loss: 0.2052 - val_loss: 0.2329\n",
            "Epoch 58/100\n",
            "20/20 [==============================] - 0s 2ms/step - loss: 0.2058 - val_loss: 0.2316\n",
            "Epoch 59/100\n",
            "20/20 [==============================] - 0s 2ms/step - loss: 0.2014 - val_loss: 0.2320\n",
            "Epoch 60/100\n",
            "20/20 [==============================] - 0s 2ms/step - loss: 0.2033 - val_loss: 0.2315\n",
            "Epoch 61/100\n",
            "20/20 [==============================] - 0s 2ms/step - loss: 0.2005 - val_loss: 0.2308\n",
            "Epoch 62/100\n",
            "20/20 [==============================] - 0s 2ms/step - loss: 0.1972 - val_loss: 0.2318\n",
            "Epoch 63/100\n",
            "20/20 [==============================] - 0s 2ms/step - loss: 0.1957 - val_loss: 0.2317\n",
            "Epoch 64/100\n",
            "20/20 [==============================] - 0s 2ms/step - loss: 0.1972 - val_loss: 0.2328\n",
            "Epoch 65/100\n",
            "20/20 [==============================] - 0s 2ms/step - loss: 0.1947 - val_loss: 0.2301\n",
            "Epoch 66/100\n",
            "20/20 [==============================] - 0s 2ms/step - loss: 0.1923 - val_loss: 0.2314\n",
            "Epoch 67/100\n",
            "20/20 [==============================] - 0s 2ms/step - loss: 0.1909 - val_loss: 0.2291\n",
            "Epoch 68/100\n",
            "20/20 [==============================] - 0s 2ms/step - loss: 0.1885 - val_loss: 0.2311\n",
            "Epoch 69/100\n",
            "20/20 [==============================] - 0s 3ms/step - loss: 0.1886 - val_loss: 0.2330\n",
            "Epoch 70/100\n",
            "20/20 [==============================] - 0s 2ms/step - loss: 0.1881 - val_loss: 0.2296\n",
            "Epoch 71/100\n",
            "20/20 [==============================] - 0s 2ms/step - loss: 0.1865 - val_loss: 0.2293\n",
            "Epoch 72/100\n",
            "20/20 [==============================] - 0s 2ms/step - loss: 0.1834 - val_loss: 0.2283\n",
            "Epoch 73/100\n",
            "20/20 [==============================] - 0s 2ms/step - loss: 0.1826 - val_loss: 0.2296\n",
            "Epoch 74/100\n",
            "20/20 [==============================] - 0s 2ms/step - loss: 0.1810 - val_loss: 0.2302\n",
            "Epoch 75/100\n",
            "20/20 [==============================] - 0s 2ms/step - loss: 0.1796 - val_loss: 0.2291\n",
            "Epoch 76/100\n",
            "20/20 [==============================] - 0s 2ms/step - loss: 0.1795 - val_loss: 0.2261\n",
            "Epoch 77/100\n",
            "20/20 [==============================] - 0s 2ms/step - loss: 0.1793 - val_loss: 0.2267\n",
            "Epoch 78/100\n",
            "20/20 [==============================] - 0s 2ms/step - loss: 0.1765 - val_loss: 0.2266\n",
            "Epoch 79/100\n",
            "20/20 [==============================] - 0s 2ms/step - loss: 0.1756 - val_loss: 0.2280\n",
            "Epoch 80/100\n",
            "20/20 [==============================] - 0s 2ms/step - loss: 0.1760 - val_loss: 0.2251\n",
            "Epoch 81/100\n",
            "20/20 [==============================] - 0s 2ms/step - loss: 0.1765 - val_loss: 0.2253\n",
            "Epoch 82/100\n",
            "20/20 [==============================] - 0s 2ms/step - loss: 0.1718 - val_loss: 0.2240\n",
            "Epoch 83/100\n",
            "20/20 [==============================] - 0s 2ms/step - loss: 0.1719 - val_loss: 0.2234\n",
            "Epoch 84/100\n",
            "20/20 [==============================] - 0s 2ms/step - loss: 0.1712 - val_loss: 0.2244\n",
            "Epoch 85/100\n",
            "20/20 [==============================] - 0s 2ms/step - loss: 0.1692 - val_loss: 0.2243\n",
            "Epoch 86/100\n",
            "20/20 [==============================] - 0s 2ms/step - loss: 0.1693 - val_loss: 0.2231\n",
            "Epoch 87/100\n",
            "20/20 [==============================] - 0s 2ms/step - loss: 0.1694 - val_loss: 0.2253\n",
            "Epoch 88/100\n",
            "20/20 [==============================] - 0s 2ms/step - loss: 0.1670 - val_loss: 0.2217\n",
            "Epoch 89/100\n",
            "20/20 [==============================] - 0s 2ms/step - loss: 0.1649 - val_loss: 0.2244\n",
            "Epoch 90/100\n",
            "20/20 [==============================] - 0s 2ms/step - loss: 0.1642 - val_loss: 0.2202\n",
            "Epoch 91/100\n",
            "20/20 [==============================] - 0s 2ms/step - loss: 0.1651 - val_loss: 0.2214\n",
            "Epoch 92/100\n",
            "20/20 [==============================] - 0s 2ms/step - loss: 0.1628 - val_loss: 0.2209\n",
            "Epoch 93/100\n",
            "20/20 [==============================] - 0s 2ms/step - loss: 0.1614 - val_loss: 0.2182\n",
            "Epoch 94/100\n",
            "20/20 [==============================] - 0s 2ms/step - loss: 0.1608 - val_loss: 0.2217\n",
            "Epoch 95/100\n",
            "20/20 [==============================] - 0s 2ms/step - loss: 0.1594 - val_loss: 0.2193\n",
            "Epoch 96/100\n",
            "20/20 [==============================] - 0s 2ms/step - loss: 0.1597 - val_loss: 0.2221\n",
            "Epoch 97/100\n",
            "20/20 [==============================] - 0s 2ms/step - loss: 0.1599 - val_loss: 0.2186\n",
            "Epoch 98/100\n",
            "20/20 [==============================] - 0s 2ms/step - loss: 0.1598 - val_loss: 0.2182\n",
            "Epoch 99/100\n",
            "20/20 [==============================] - 0s 2ms/step - loss: 0.1566 - val_loss: 0.2216\n",
            "Epoch 100/100\n",
            "20/20 [==============================] - 0s 2ms/step - loss: 0.1574 - val_loss: 0.2159\n"
          ],
          "name": "stdout"
        }
      ]
    },
    {
      "cell_type": "code",
      "metadata": {
        "id": "tgkMPhT063sq",
        "outputId": "2c9b199b-9ae1-4d58-ec82-423eb99036d6",
        "colab": {
          "base_uri": "https://localhost:8080/",
          "height": 122
        }
      },
      "source": [
        "predictions = wider_model.predict(feature_test)\n",
        "predictions = predictions.flatten()\n",
        "\n",
        "mse = mean_squared_error(label_test, predictions)\n",
        "mae = mean_absolute_error(label_test, predictions)\n",
        "r2 = r2_score(label_test, predictions)\n",
        "print(\"MSE (Mean Squared Error)\", mse)\n",
        "print(\"MAE (Mean Absolute Error)\", mae)\n",
        "print(\"r^2 score\", r2)\n",
        "print('RMSE (Root Mean Squared Error', np.sqrt(mean_squared_error(label_test, predictions)))"
      ],
      "execution_count": 108,
      "outputs": [
        {
          "output_type": "stream",
          "text": [
            "WARNING:tensorflow:6 out of the last 11 calls to <function Model.make_predict_function.<locals>.predict_function at 0x7f1eb837f620> triggered tf.function retracing. Tracing is expensive and the excessive number of tracings could be due to (1) creating @tf.function repeatedly in a loop, (2) passing tensors with different shapes, (3) passing Python objects instead of tensors. For (1), please define your @tf.function outside of the loop. For (2), @tf.function has experimental_relax_shapes=True option that relaxes argument shapes that can avoid unnecessary retracing. For (3), please refer to https://www.tensorflow.org/tutorials/customization/performance#python_or_tensor_args and https://www.tensorflow.org/api_docs/python/tf/function for  more details.\n",
            "MSE (Mean Squared Error) 0.21588924623907124\n",
            "MAE (Mean Absolute Error) 0.33278814050564487\n",
            "r^2 score 0.6985302624670158\n",
            "RMSE (Root Mean Squared Error 0.4646388341917529\n"
          ],
          "name": "stdout"
        }
      ]
    },
    {
      "cell_type": "code",
      "metadata": {
        "id": "yUB62LGt7Pz6"
      },
      "source": [
        "def plot_loss(history):\n",
        "  plt.plot(history.history['loss'], label='loss')\n",
        "  plt.plot(history.history['val_loss'], label='val_loss')\n",
        "  plt.xlabel('Epoch')\n",
        "  plt.ylabel('Loss (MSE)')\n",
        "  plt.legend()\n",
        "  plt.grid(True)"
      ],
      "execution_count": 109,
      "outputs": []
    },
    {
      "cell_type": "code",
      "metadata": {
        "id": "vkPCFAle7Q_C",
        "outputId": "d9ccfbc1-c2d2-4421-db08-8b20b5b55f45",
        "colab": {
          "base_uri": "https://localhost:8080/",
          "height": 419
        }
      },
      "source": [
        "history_dataframe = pd.DataFrame(history.history)\n",
        "history_dataframe['epoch'] = history.epoch\n",
        "history_dataframe"
      ],
      "execution_count": 110,
      "outputs": [
        {
          "output_type": "execute_result",
          "data": {
            "text/html": [
              "<div>\n",
              "<style scoped>\n",
              "    .dataframe tbody tr th:only-of-type {\n",
              "        vertical-align: middle;\n",
              "    }\n",
              "\n",
              "    .dataframe tbody tr th {\n",
              "        vertical-align: top;\n",
              "    }\n",
              "\n",
              "    .dataframe thead th {\n",
              "        text-align: right;\n",
              "    }\n",
              "</style>\n",
              "<table border=\"1\" class=\"dataframe\">\n",
              "  <thead>\n",
              "    <tr style=\"text-align: right;\">\n",
              "      <th></th>\n",
              "      <th>loss</th>\n",
              "      <th>val_loss</th>\n",
              "      <th>epoch</th>\n",
              "    </tr>\n",
              "  </thead>\n",
              "  <tbody>\n",
              "    <tr>\n",
              "      <th>0</th>\n",
              "      <td>1.065448</td>\n",
              "      <td>0.699660</td>\n",
              "      <td>0</td>\n",
              "    </tr>\n",
              "    <tr>\n",
              "      <th>1</th>\n",
              "      <td>1.006918</td>\n",
              "      <td>0.665117</td>\n",
              "      <td>1</td>\n",
              "    </tr>\n",
              "    <tr>\n",
              "      <th>2</th>\n",
              "      <td>0.941373</td>\n",
              "      <td>0.623923</td>\n",
              "      <td>2</td>\n",
              "    </tr>\n",
              "    <tr>\n",
              "      <th>3</th>\n",
              "      <td>0.856673</td>\n",
              "      <td>0.577532</td>\n",
              "      <td>3</td>\n",
              "    </tr>\n",
              "    <tr>\n",
              "      <th>4</th>\n",
              "      <td>0.752271</td>\n",
              "      <td>0.533043</td>\n",
              "      <td>4</td>\n",
              "    </tr>\n",
              "    <tr>\n",
              "      <th>...</th>\n",
              "      <td>...</td>\n",
              "      <td>...</td>\n",
              "      <td>...</td>\n",
              "    </tr>\n",
              "    <tr>\n",
              "      <th>95</th>\n",
              "      <td>0.159748</td>\n",
              "      <td>0.222073</td>\n",
              "      <td>95</td>\n",
              "    </tr>\n",
              "    <tr>\n",
              "      <th>96</th>\n",
              "      <td>0.159865</td>\n",
              "      <td>0.218613</td>\n",
              "      <td>96</td>\n",
              "    </tr>\n",
              "    <tr>\n",
              "      <th>97</th>\n",
              "      <td>0.159844</td>\n",
              "      <td>0.218168</td>\n",
              "      <td>97</td>\n",
              "    </tr>\n",
              "    <tr>\n",
              "      <th>98</th>\n",
              "      <td>0.156622</td>\n",
              "      <td>0.221591</td>\n",
              "      <td>98</td>\n",
              "    </tr>\n",
              "    <tr>\n",
              "      <th>99</th>\n",
              "      <td>0.157393</td>\n",
              "      <td>0.215889</td>\n",
              "      <td>99</td>\n",
              "    </tr>\n",
              "  </tbody>\n",
              "</table>\n",
              "<p>100 rows × 3 columns</p>\n",
              "</div>"
            ],
            "text/plain": [
              "        loss  val_loss  epoch\n",
              "0   1.065448  0.699660      0\n",
              "1   1.006918  0.665117      1\n",
              "2   0.941373  0.623923      2\n",
              "3   0.856673  0.577532      3\n",
              "4   0.752271  0.533043      4\n",
              "..       ...       ...    ...\n",
              "95  0.159748  0.222073     95\n",
              "96  0.159865  0.218613     96\n",
              "97  0.159844  0.218168     97\n",
              "98  0.156622  0.221591     98\n",
              "99  0.157393  0.215889     99\n",
              "\n",
              "[100 rows x 3 columns]"
            ]
          },
          "metadata": {
            "tags": []
          },
          "execution_count": 110
        }
      ]
    },
    {
      "cell_type": "code",
      "metadata": {
        "id": "DPScqYHrjJMR",
        "outputId": "0085142f-e67a-41da-8d65-162597a8d987",
        "colab": {
          "base_uri": "https://localhost:8080/",
          "height": 419
        }
      },
      "source": [
        "history_dataframe.sort_values(by='val_loss', ascending=True)"
      ],
      "execution_count": 111,
      "outputs": [
        {
          "output_type": "execute_result",
          "data": {
            "text/html": [
              "<div>\n",
              "<style scoped>\n",
              "    .dataframe tbody tr th:only-of-type {\n",
              "        vertical-align: middle;\n",
              "    }\n",
              "\n",
              "    .dataframe tbody tr th {\n",
              "        vertical-align: top;\n",
              "    }\n",
              "\n",
              "    .dataframe thead th {\n",
              "        text-align: right;\n",
              "    }\n",
              "</style>\n",
              "<table border=\"1\" class=\"dataframe\">\n",
              "  <thead>\n",
              "    <tr style=\"text-align: right;\">\n",
              "      <th></th>\n",
              "      <th>loss</th>\n",
              "      <th>val_loss</th>\n",
              "      <th>epoch</th>\n",
              "    </tr>\n",
              "  </thead>\n",
              "  <tbody>\n",
              "    <tr>\n",
              "      <th>99</th>\n",
              "      <td>0.157393</td>\n",
              "      <td>0.215889</td>\n",
              "      <td>99</td>\n",
              "    </tr>\n",
              "    <tr>\n",
              "      <th>97</th>\n",
              "      <td>0.159844</td>\n",
              "      <td>0.218168</td>\n",
              "      <td>97</td>\n",
              "    </tr>\n",
              "    <tr>\n",
              "      <th>92</th>\n",
              "      <td>0.161418</td>\n",
              "      <td>0.218195</td>\n",
              "      <td>92</td>\n",
              "    </tr>\n",
              "    <tr>\n",
              "      <th>96</th>\n",
              "      <td>0.159865</td>\n",
              "      <td>0.218613</td>\n",
              "      <td>96</td>\n",
              "    </tr>\n",
              "    <tr>\n",
              "      <th>94</th>\n",
              "      <td>0.159353</td>\n",
              "      <td>0.219341</td>\n",
              "      <td>94</td>\n",
              "    </tr>\n",
              "    <tr>\n",
              "      <th>...</th>\n",
              "      <td>...</td>\n",
              "      <td>...</td>\n",
              "      <td>...</td>\n",
              "    </tr>\n",
              "    <tr>\n",
              "      <th>4</th>\n",
              "      <td>0.752271</td>\n",
              "      <td>0.533043</td>\n",
              "      <td>4</td>\n",
              "    </tr>\n",
              "    <tr>\n",
              "      <th>3</th>\n",
              "      <td>0.856673</td>\n",
              "      <td>0.577532</td>\n",
              "      <td>3</td>\n",
              "    </tr>\n",
              "    <tr>\n",
              "      <th>2</th>\n",
              "      <td>0.941373</td>\n",
              "      <td>0.623923</td>\n",
              "      <td>2</td>\n",
              "    </tr>\n",
              "    <tr>\n",
              "      <th>1</th>\n",
              "      <td>1.006918</td>\n",
              "      <td>0.665117</td>\n",
              "      <td>1</td>\n",
              "    </tr>\n",
              "    <tr>\n",
              "      <th>0</th>\n",
              "      <td>1.065448</td>\n",
              "      <td>0.699660</td>\n",
              "      <td>0</td>\n",
              "    </tr>\n",
              "  </tbody>\n",
              "</table>\n",
              "<p>100 rows × 3 columns</p>\n",
              "</div>"
            ],
            "text/plain": [
              "        loss  val_loss  epoch\n",
              "99  0.157393  0.215889     99\n",
              "97  0.159844  0.218168     97\n",
              "92  0.161418  0.218195     92\n",
              "96  0.159865  0.218613     96\n",
              "94  0.159353  0.219341     94\n",
              "..       ...       ...    ...\n",
              "4   0.752271  0.533043      4\n",
              "3   0.856673  0.577532      3\n",
              "2   0.941373  0.623923      2\n",
              "1   1.006918  0.665117      1\n",
              "0   1.065448  0.699660      0\n",
              "\n",
              "[100 rows x 3 columns]"
            ]
          },
          "metadata": {
            "tags": []
          },
          "execution_count": 111
        }
      ]
    },
    {
      "cell_type": "code",
      "metadata": {
        "id": "_2rnNXWY7Wmq",
        "outputId": "87f78901-4021-4c40-c8fa-14ee16f5c509",
        "colab": {
          "base_uri": "https://localhost:8080/",
          "height": 279
        }
      },
      "source": [
        "plot_loss(history) # epoch vs loss graph"
      ],
      "execution_count": 112,
      "outputs": [
        {
          "output_type": "display_data",
          "data": {
            "image/png": "[encoded data removed]",
            "text/plain": [
              "<Figure size 432x288 with 1 Axes>"
            ]
          },
          "metadata": {
            "tags": [],
            "needs_background": "light"
          }
        }
      ]
    },
    {
      "cell_type": "markdown",
      "metadata": {
        "id": "7TDa0NNzj2H3"
      },
      "source": [
        "### **Optimizer SGD**"
      ]
    },
    {
      "cell_type": "code",
      "metadata": {
        "id": "LJS7Hqjbj1QI",
        "outputId": "6c7dd022-6e2a-43d5-94f3-86f66ea447a8",
        "colab": {
          "base_uri": "https://localhost:8080/",
          "height": 221
        }
      },
      "source": [
        "wider_model_tuned = Sequential()\n",
        "wider_model_tuned.add(Dense(20, input_dim=8, kernel_initializer='normal', activation='relu'))\n",
        "wider_model_tuned.add(Dense(1, kernel_initializer='normal'))\n",
        "\n",
        "opt = SGD(lr=0.001, momentum=0.9)\n",
        "\n",
        "wider_model_tuned.compile(loss='mean_squared_error', optimizer=opt)\n",
        "\n",
        "wider_model_tuned.summary()"
      ],
      "execution_count": 113,
      "outputs": [
        {
          "output_type": "stream",
          "text": [
            "Model: \"sequential_13\"\n",
            "_________________________________________________________________\n",
            "Layer (type)                 Output Shape              Param #   \n",
            "=================================================================\n",
            "dense_29 (Dense)             (None, 20)                180       \n",
            "_________________________________________________________________\n",
            "dense_30 (Dense)             (None, 1)                 21        \n",
            "=================================================================\n",
            "Total params: 201\n",
            "Trainable params: 201\n",
            "Non-trainable params: 0\n",
            "_________________________________________________________________\n"
          ],
          "name": "stdout"
        }
      ]
    },
    {
      "cell_type": "code",
      "metadata": {
        "id": "TEbFbfYAkF2d",
        "outputId": "b3259bcb-96db-48a8-80db-24b7657f1295",
        "colab": {
          "base_uri": "https://localhost:8080/",
          "height": 1000
        }
      },
      "source": [
        "history_tuned = wider_model_tuned.fit(x=feature_train, y=label_train, validation_data=(feature_test, label_test), epochs=100, batch_size=8)"
      ],
      "execution_count": 114,
      "outputs": [
        {
          "output_type": "stream",
          "text": [
            "Epoch 1/100\n",
            "20/20 [==============================] - 0s 6ms/step - loss: 1.0539 - val_loss: 0.7053\n",
            "Epoch 2/100\n",
            "20/20 [==============================] - 0s 2ms/step - loss: 1.0104 - val_loss: 0.6833\n",
            "Epoch 3/100\n",
            "20/20 [==============================] - 0s 2ms/step - loss: 0.9465 - val_loss: 0.6493\n",
            "Epoch 4/100\n",
            "20/20 [==============================] - 0s 2ms/step - loss: 0.8528 - val_loss: 0.6063\n",
            "Epoch 5/100\n",
            "20/20 [==============================] - 0s 2ms/step - loss: 0.7321 - val_loss: 0.5578\n",
            "Epoch 6/100\n",
            "20/20 [==============================] - 0s 2ms/step - loss: 0.6265 - val_loss: 0.5128\n",
            "Epoch 7/100\n",
            "20/20 [==============================] - 0s 2ms/step - loss: 0.5383 - val_loss: 0.4777\n",
            "Epoch 8/100\n",
            "20/20 [==============================] - 0s 2ms/step - loss: 0.4864 - val_loss: 0.4457\n",
            "Epoch 9/100\n",
            "20/20 [==============================] - 0s 2ms/step - loss: 0.4515 - val_loss: 0.4170\n",
            "Epoch 10/100\n",
            "20/20 [==============================] - 0s 2ms/step - loss: 0.4264 - val_loss: 0.3976\n",
            "Epoch 11/100\n",
            "20/20 [==============================] - 0s 2ms/step - loss: 0.4085 - val_loss: 0.3775\n",
            "Epoch 12/100\n",
            "20/20 [==============================] - 0s 2ms/step - loss: 0.3962 - val_loss: 0.3572\n",
            "Epoch 13/100\n",
            "20/20 [==============================] - 0s 2ms/step - loss: 0.3832 - val_loss: 0.3473\n",
            "Epoch 14/100\n",
            "20/20 [==============================] - 0s 2ms/step - loss: 0.3756 - val_loss: 0.3293\n",
            "Epoch 15/100\n",
            "20/20 [==============================] - 0s 2ms/step - loss: 0.3665 - val_loss: 0.3158\n",
            "Epoch 16/100\n",
            "20/20 [==============================] - 0s 2ms/step - loss: 0.3636 - val_loss: 0.3058\n",
            "Epoch 17/100\n",
            "20/20 [==============================] - 0s 2ms/step - loss: 0.3553 - val_loss: 0.2952\n",
            "Epoch 18/100\n",
            "20/20 [==============================] - 0s 2ms/step - loss: 0.3480 - val_loss: 0.2887\n",
            "Epoch 19/100\n",
            "20/20 [==============================] - 0s 2ms/step - loss: 0.3390 - val_loss: 0.2798\n",
            "Epoch 20/100\n",
            "20/20 [==============================] - 0s 2ms/step - loss: 0.3353 - val_loss: 0.2730\n",
            "Epoch 21/100\n",
            "20/20 [==============================] - 0s 2ms/step - loss: 0.3314 - val_loss: 0.2662\n",
            "Epoch 22/100\n",
            "20/20 [==============================] - 0s 2ms/step - loss: 0.3245 - val_loss: 0.2625\n",
            "Epoch 23/100\n",
            "20/20 [==============================] - 0s 2ms/step - loss: 0.3189 - val_loss: 0.2561\n",
            "Epoch 24/100\n",
            "20/20 [==============================] - 0s 2ms/step - loss: 0.3152 - val_loss: 0.2523\n",
            "Epoch 25/100\n",
            "20/20 [==============================] - 0s 2ms/step - loss: 0.3109 - val_loss: 0.2482\n",
            "Epoch 26/100\n",
            "20/20 [==============================] - 0s 2ms/step - loss: 0.3102 - val_loss: 0.2436\n",
            "Epoch 27/100\n",
            "20/20 [==============================] - 0s 2ms/step - loss: 0.3038 - val_loss: 0.2408\n",
            "Epoch 28/100\n",
            "20/20 [==============================] - 0s 2ms/step - loss: 0.3012 - val_loss: 0.2393\n",
            "Epoch 29/100\n",
            "20/20 [==============================] - 0s 2ms/step - loss: 0.2991 - val_loss: 0.2367\n",
            "Epoch 30/100\n",
            "20/20 [==============================] - 0s 2ms/step - loss: 0.2945 - val_loss: 0.2348\n",
            "Epoch 31/100\n",
            "20/20 [==============================] - 0s 2ms/step - loss: 0.2922 - val_loss: 0.2314\n",
            "Epoch 32/100\n",
            "20/20 [==============================] - 0s 2ms/step - loss: 0.2880 - val_loss: 0.2279\n",
            "Epoch 33/100\n",
            "20/20 [==============================] - 0s 2ms/step - loss: 0.2869 - val_loss: 0.2273\n",
            "Epoch 34/100\n",
            "20/20 [==============================] - 0s 2ms/step - loss: 0.2826 - val_loss: 0.2240\n",
            "Epoch 35/100\n",
            "20/20 [==============================] - 0s 2ms/step - loss: 0.2795 - val_loss: 0.2216\n",
            "Epoch 36/100\n",
            "20/20 [==============================] - 0s 2ms/step - loss: 0.2764 - val_loss: 0.2205\n",
            "Epoch 37/100\n",
            "20/20 [==============================] - 0s 2ms/step - loss: 0.2738 - val_loss: 0.2194\n",
            "Epoch 38/100\n",
            "20/20 [==============================] - 0s 2ms/step - loss: 0.2724 - val_loss: 0.2181\n",
            "Epoch 39/100\n",
            "20/20 [==============================] - 0s 2ms/step - loss: 0.2680 - val_loss: 0.2171\n",
            "Epoch 40/100\n",
            "20/20 [==============================] - 0s 2ms/step - loss: 0.2654 - val_loss: 0.2141\n",
            "Epoch 41/100\n",
            "20/20 [==============================] - 0s 2ms/step - loss: 0.2633 - val_loss: 0.2120\n",
            "Epoch 42/100\n",
            "20/20 [==============================] - 0s 2ms/step - loss: 0.2608 - val_loss: 0.2090\n",
            "Epoch 43/100\n",
            "20/20 [==============================] - 0s 2ms/step - loss: 0.2582 - val_loss: 0.2103\n",
            "Epoch 44/100\n",
            "20/20 [==============================] - 0s 2ms/step - loss: 0.2551 - val_loss: 0.2081\n",
            "Epoch 45/100\n",
            "20/20 [==============================] - 0s 2ms/step - loss: 0.2552 - val_loss: 0.2074\n",
            "Epoch 46/100\n",
            "20/20 [==============================] - 0s 2ms/step - loss: 0.2506 - val_loss: 0.2073\n",
            "Epoch 47/100\n",
            "20/20 [==============================] - 0s 2ms/step - loss: 0.2510 - val_loss: 0.2080\n",
            "Epoch 48/100\n",
            "20/20 [==============================] - 0s 2ms/step - loss: 0.2450 - val_loss: 0.2026\n",
            "Epoch 49/100\n",
            "20/20 [==============================] - 0s 2ms/step - loss: 0.2469 - val_loss: 0.1990\n",
            "Epoch 50/100\n",
            "20/20 [==============================] - 0s 2ms/step - loss: 0.2430 - val_loss: 0.1997\n",
            "Epoch 51/100\n",
            "20/20 [==============================] - 0s 2ms/step - loss: 0.2409 - val_loss: 0.1959\n",
            "Epoch 52/100\n",
            "20/20 [==============================] - 0s 2ms/step - loss: 0.2384 - val_loss: 0.1933\n",
            "Epoch 53/100\n",
            "20/20 [==============================] - 0s 2ms/step - loss: 0.2347 - val_loss: 0.1928\n",
            "Epoch 54/100\n",
            "20/20 [==============================] - 0s 2ms/step - loss: 0.2321 - val_loss: 0.1916\n",
            "Epoch 55/100\n",
            "20/20 [==============================] - 0s 2ms/step - loss: 0.2304 - val_loss: 0.1893\n",
            "Epoch 56/100\n",
            "20/20 [==============================] - 0s 2ms/step - loss: 0.2295 - val_loss: 0.1901\n",
            "Epoch 57/100\n",
            "20/20 [==============================] - 0s 2ms/step - loss: 0.2250 - val_loss: 0.1902\n",
            "Epoch 58/100\n",
            "20/20 [==============================] - 0s 2ms/step - loss: 0.2261 - val_loss: 0.1861\n",
            "Epoch 59/100\n",
            "20/20 [==============================] - 0s 2ms/step - loss: 0.2202 - val_loss: 0.1850\n",
            "Epoch 60/100\n",
            "20/20 [==============================] - 0s 2ms/step - loss: 0.2233 - val_loss: 0.1843\n",
            "Epoch 61/100\n",
            "20/20 [==============================] - 0s 2ms/step - loss: 0.2207 - val_loss: 0.1824\n",
            "Epoch 62/100\n",
            "20/20 [==============================] - 0s 2ms/step - loss: 0.2148 - val_loss: 0.1810\n",
            "Epoch 63/100\n",
            "20/20 [==============================] - 0s 2ms/step - loss: 0.2124 - val_loss: 0.1799\n",
            "Epoch 64/100\n",
            "20/20 [==============================] - 0s 2ms/step - loss: 0.2148 - val_loss: 0.1780\n",
            "Epoch 65/100\n",
            "20/20 [==============================] - 0s 2ms/step - loss: 0.2117 - val_loss: 0.1800\n",
            "Epoch 66/100\n",
            "20/20 [==============================] - 0s 3ms/step - loss: 0.2070 - val_loss: 0.1762\n",
            "Epoch 67/100\n",
            "20/20 [==============================] - 0s 3ms/step - loss: 0.2056 - val_loss: 0.1766\n",
            "Epoch 68/100\n",
            "20/20 [==============================] - 0s 2ms/step - loss: 0.2027 - val_loss: 0.1747\n",
            "Epoch 69/100\n",
            "20/20 [==============================] - 0s 2ms/step - loss: 0.2031 - val_loss: 0.1723\n",
            "Epoch 70/100\n",
            "20/20 [==============================] - 0s 2ms/step - loss: 0.2026 - val_loss: 0.1745\n",
            "Epoch 71/100\n",
            "20/20 [==============================] - 0s 2ms/step - loss: 0.2000 - val_loss: 0.1721\n",
            "Epoch 72/100\n",
            "20/20 [==============================] - 0s 2ms/step - loss: 0.1968 - val_loss: 0.1713\n",
            "Epoch 73/100\n",
            "20/20 [==============================] - 0s 2ms/step - loss: 0.1946 - val_loss: 0.1701\n",
            "Epoch 74/100\n",
            "20/20 [==============================] - 0s 2ms/step - loss: 0.1936 - val_loss: 0.1710\n",
            "Epoch 75/100\n",
            "20/20 [==============================] - 0s 2ms/step - loss: 0.1910 - val_loss: 0.1710\n",
            "Epoch 76/100\n",
            "20/20 [==============================] - 0s 2ms/step - loss: 0.1908 - val_loss: 0.1696\n",
            "Epoch 77/100\n",
            "20/20 [==============================] - 0s 2ms/step - loss: 0.1911 - val_loss: 0.1679\n",
            "Epoch 78/100\n",
            "20/20 [==============================] - 0s 2ms/step - loss: 0.1875 - val_loss: 0.1693\n",
            "Epoch 79/100\n",
            "20/20 [==============================] - 0s 2ms/step - loss: 0.1868 - val_loss: 0.1695\n",
            "Epoch 80/100\n",
            "20/20 [==============================] - 0s 2ms/step - loss: 0.1878 - val_loss: 0.1705\n",
            "Epoch 81/100\n",
            "20/20 [==============================] - 0s 2ms/step - loss: 0.1870 - val_loss: 0.1672\n",
            "Epoch 82/100\n",
            "20/20 [==============================] - 0s 2ms/step - loss: 0.1815 - val_loss: 0.1681\n",
            "Epoch 83/100\n",
            "20/20 [==============================] - 0s 2ms/step - loss: 0.1830 - val_loss: 0.1677\n",
            "Epoch 84/100\n",
            "20/20 [==============================] - 0s 2ms/step - loss: 0.1815 - val_loss: 0.1679\n",
            "Epoch 85/100\n",
            "20/20 [==============================] - 0s 2ms/step - loss: 0.1795 - val_loss: 0.1664\n",
            "Epoch 86/100\n",
            "20/20 [==============================] - 0s 2ms/step - loss: 0.1793 - val_loss: 0.1688\n",
            "Epoch 87/100\n",
            "20/20 [==============================] - 0s 2ms/step - loss: 0.1799 - val_loss: 0.1664\n",
            "Epoch 88/100\n",
            "20/20 [==============================] - 0s 2ms/step - loss: 0.1767 - val_loss: 0.1663\n",
            "Epoch 89/100\n",
            "20/20 [==============================] - 0s 2ms/step - loss: 0.1752 - val_loss: 0.1654\n",
            "Epoch 90/100\n",
            "20/20 [==============================] - 0s 2ms/step - loss: 0.1750 - val_loss: 0.1660\n",
            "Epoch 91/100\n",
            "20/20 [==============================] - 0s 2ms/step - loss: 0.1757 - val_loss: 0.1642\n",
            "Epoch 92/100\n",
            "20/20 [==============================] - 0s 2ms/step - loss: 0.1742 - val_loss: 0.1644\n",
            "Epoch 93/100\n",
            "20/20 [==============================] - 0s 2ms/step - loss: 0.1716 - val_loss: 0.1622\n",
            "Epoch 94/100\n",
            "20/20 [==============================] - 0s 2ms/step - loss: 0.1710 - val_loss: 0.1628\n",
            "Epoch 95/100\n",
            "20/20 [==============================] - 0s 2ms/step - loss: 0.1696 - val_loss: 0.1626\n",
            "Epoch 96/100\n",
            "20/20 [==============================] - 0s 2ms/step - loss: 0.1710 - val_loss: 0.1631\n",
            "Epoch 97/100\n",
            "20/20 [==============================] - 0s 2ms/step - loss: 0.1701 - val_loss: 0.1616\n",
            "Epoch 98/100\n",
            "20/20 [==============================] - 0s 2ms/step - loss: 0.1706 - val_loss: 0.1633\n",
            "Epoch 99/100\n",
            "20/20 [==============================] - 0s 2ms/step - loss: 0.1682 - val_loss: 0.1595\n",
            "Epoch 100/100\n",
            "20/20 [==============================] - 0s 2ms/step - loss: 0.1683 - val_loss: 0.1612\n"
          ],
          "name": "stdout"
        }
      ]
    },
    {
      "cell_type": "code",
      "metadata": {
        "id": "y_GR4CHxlIdR",
        "outputId": "f1b7662d-029d-4b44-8083-767214554b83",
        "colab": {
          "base_uri": "https://localhost:8080/",
          "height": 122
        }
      },
      "source": [
        "predictions = wider_model_tuned.predict(feature_test)\n",
        "predictions = predictions.flatten()\n",
        "\n",
        "mse = mean_squared_error(label_test, predictions)\n",
        "mae = mean_absolute_error(label_test, predictions)\n",
        "r2 = r2_score(label_test, predictions)\n",
        "print(\"MSE (Mean Squared Error)\", mse)\n",
        "print(\"MAE (Mean Absolute Error)\", mae)\n",
        "print(\"r^2 score\", r2)\n",
        "print('RMSE (Root Mean Squared Error', np.sqrt(mean_squared_error(label_test, predictions)))"
      ],
      "execution_count": 115,
      "outputs": [
        {
          "output_type": "stream",
          "text": [
            "WARNING:tensorflow:6 out of the last 11 calls to <function Model.make_predict_function.<locals>.predict_function at 0x7f1eb8292e18> triggered tf.function retracing. Tracing is expensive and the excessive number of tracings could be due to (1) creating @tf.function repeatedly in a loop, (2) passing tensors with different shapes, (3) passing Python objects instead of tensors. For (1), please define your @tf.function outside of the loop. For (2), @tf.function has experimental_relax_shapes=True option that relaxes argument shapes that can avoid unnecessary retracing. For (3), please refer to https://www.tensorflow.org/tutorials/customization/performance#python_or_tensor_args and https://www.tensorflow.org/api_docs/python/tf/function for  more details.\n",
            "MSE (Mean Squared Error) 0.16116812462693447\n",
            "MAE (Mean Absolute Error) 0.2957762488155264\n",
            "r^2 score 0.7749433421238562\n",
            "RMSE (Root Mean Squared Error 0.40145750039940026\n"
          ],
          "name": "stdout"
        }
      ]
    },
    {
      "cell_type": "code",
      "metadata": {
        "id": "a4q6XNHqkQXF",
        "outputId": "1765dc5c-4397-46c9-88b3-b80600763525",
        "colab": {
          "base_uri": "https://localhost:8080/",
          "height": 419
        }
      },
      "source": [
        "history_tuned_dataframe = pd.DataFrame(history_tuned.history)\n",
        "history_tuned_dataframe['epoch'] = history_tuned.epoch\n",
        "history_tuned_dataframe.sort_values(by='val_loss', ascending=True)"
      ],
      "execution_count": 116,
      "outputs": [
        {
          "output_type": "execute_result",
          "data": {
            "text/html": [
              "<div>\n",
              "<style scoped>\n",
              "    .dataframe tbody tr th:only-of-type {\n",
              "        vertical-align: middle;\n",
              "    }\n",
              "\n",
              "    .dataframe tbody tr th {\n",
              "        vertical-align: top;\n",
              "    }\n",
              "\n",
              "    .dataframe thead th {\n",
              "        text-align: right;\n",
              "    }\n",
              "</style>\n",
              "<table border=\"1\" class=\"dataframe\">\n",
              "  <thead>\n",
              "    <tr style=\"text-align: right;\">\n",
              "      <th></th>\n",
              "      <th>loss</th>\n",
              "      <th>val_loss</th>\n",
              "      <th>epoch</th>\n",
              "    </tr>\n",
              "  </thead>\n",
              "  <tbody>\n",
              "    <tr>\n",
              "      <th>98</th>\n",
              "      <td>0.168156</td>\n",
              "      <td>0.159502</td>\n",
              "      <td>98</td>\n",
              "    </tr>\n",
              "    <tr>\n",
              "      <th>99</th>\n",
              "      <td>0.168298</td>\n",
              "      <td>0.161168</td>\n",
              "      <td>99</td>\n",
              "    </tr>\n",
              "    <tr>\n",
              "      <th>96</th>\n",
              "      <td>0.170058</td>\n",
              "      <td>0.161586</td>\n",
              "      <td>96</td>\n",
              "    </tr>\n",
              "    <tr>\n",
              "      <th>92</th>\n",
              "      <td>0.171580</td>\n",
              "      <td>0.162230</td>\n",
              "      <td>92</td>\n",
              "    </tr>\n",
              "    <tr>\n",
              "      <th>94</th>\n",
              "      <td>0.169577</td>\n",
              "      <td>0.162574</td>\n",
              "      <td>94</td>\n",
              "    </tr>\n",
              "    <tr>\n",
              "      <th>...</th>\n",
              "      <td>...</td>\n",
              "      <td>...</td>\n",
              "      <td>...</td>\n",
              "    </tr>\n",
              "    <tr>\n",
              "      <th>4</th>\n",
              "      <td>0.732097</td>\n",
              "      <td>0.557831</td>\n",
              "      <td>4</td>\n",
              "    </tr>\n",
              "    <tr>\n",
              "      <th>3</th>\n",
              "      <td>0.852754</td>\n",
              "      <td>0.606334</td>\n",
              "      <td>3</td>\n",
              "    </tr>\n",
              "    <tr>\n",
              "      <th>2</th>\n",
              "      <td>0.946482</td>\n",
              "      <td>0.649275</td>\n",
              "      <td>2</td>\n",
              "    </tr>\n",
              "    <tr>\n",
              "      <th>1</th>\n",
              "      <td>1.010401</td>\n",
              "      <td>0.683326</td>\n",
              "      <td>1</td>\n",
              "    </tr>\n",
              "    <tr>\n",
              "      <th>0</th>\n",
              "      <td>1.053884</td>\n",
              "      <td>0.705292</td>\n",
              "      <td>0</td>\n",
              "    </tr>\n",
              "  </tbody>\n",
              "</table>\n",
              "<p>100 rows × 3 columns</p>\n",
              "</div>"
            ],
            "text/plain": [
              "        loss  val_loss  epoch\n",
              "98  0.168156  0.159502     98\n",
              "99  0.168298  0.161168     99\n",
              "96  0.170058  0.161586     96\n",
              "92  0.171580  0.162230     92\n",
              "94  0.169577  0.162574     94\n",
              "..       ...       ...    ...\n",
              "4   0.732097  0.557831      4\n",
              "3   0.852754  0.606334      3\n",
              "2   0.946482  0.649275      2\n",
              "1   1.010401  0.683326      1\n",
              "0   1.053884  0.705292      0\n",
              "\n",
              "[100 rows x 3 columns]"
            ]
          },
          "metadata": {
            "tags": []
          },
          "execution_count": 116
        }
      ]
    },
    {
      "cell_type": "code",
      "metadata": {
        "id": "fB0Qkh28kafu",
        "outputId": "78c5e96b-31d8-4d5a-a4ad-1dccaab9175f",
        "colab": {
          "base_uri": "https://localhost:8080/",
          "height": 279
        }
      },
      "source": [
        "plot_loss(history_tuned) # epoch vs loss graph"
      ],
      "execution_count": 117,
      "outputs": [
        {
          "output_type": "display_data",
          "data": {
            "image/png": "[encoded data removed]",
            "text/plain": [
              "<Figure size 432x288 with 1 Axes>"
            ]
          },
          "metadata": {
            "tags": [],
            "needs_background": "light"
          }
        }
      ]
    },
    {
      "cell_type": "markdown",
      "metadata": {
        "id": "-CeJOhqpktXe"
      },
      "source": [
        "### **Optimizer RMSprop**"
      ]
    },
    {
      "cell_type": "code",
      "metadata": {
        "id": "gs4YeZEEk18f",
        "outputId": "016237b4-83cb-42d7-c8cf-ccd291df6274",
        "colab": {
          "base_uri": "https://localhost:8080/",
          "height": 221
        }
      },
      "source": [
        "wider_model_rmsprop = Sequential()\n",
        "wider_model_rmsprop.add(Dense(20, input_dim=8, kernel_initializer='normal', activation='relu'))\n",
        "wider_model_rmsprop.add(Dense(1, kernel_initializer='normal'))\n",
        "\n",
        "opt = RMSprop(lr=0.001)\n",
        "\n",
        "wider_model_rmsprop.compile(loss='mean_squared_error', optimizer=opt)\n",
        "\n",
        "wider_model_rmsprop.summary()"
      ],
      "execution_count": 118,
      "outputs": [
        {
          "output_type": "stream",
          "text": [
            "Model: \"sequential_14\"\n",
            "_________________________________________________________________\n",
            "Layer (type)                 Output Shape              Param #   \n",
            "=================================================================\n",
            "dense_31 (Dense)             (None, 20)                180       \n",
            "_________________________________________________________________\n",
            "dense_32 (Dense)             (None, 1)                 21        \n",
            "=================================================================\n",
            "Total params: 201\n",
            "Trainable params: 201\n",
            "Non-trainable params: 0\n",
            "_________________________________________________________________\n"
          ],
          "name": "stdout"
        }
      ]
    },
    {
      "cell_type": "code",
      "metadata": {
        "id": "2Wao2ul6k6yd",
        "outputId": "e14bdeda-7503-48b4-d8a7-c3355112e194",
        "colab": {
          "base_uri": "https://localhost:8080/",
          "height": 1000
        }
      },
      "source": [
        "history_rmsprop = wider_model_rmsprop.fit(x=feature_train, y=label_train, validation_data=(feature_test, label_test), epochs=100, batch_size=8)"
      ],
      "execution_count": 119,
      "outputs": [
        {
          "output_type": "stream",
          "text": [
            "Epoch 1/100\n",
            "20/20 [==============================] - 0s 6ms/step - loss: 1.0499 - val_loss: 0.6913\n",
            "Epoch 2/100\n",
            "20/20 [==============================] - 0s 2ms/step - loss: 0.9859 - val_loss: 0.6579\n",
            "Epoch 3/100\n",
            "20/20 [==============================] - 0s 2ms/step - loss: 0.9107 - val_loss: 0.6176\n",
            "Epoch 4/100\n",
            "20/20 [==============================] - 0s 2ms/step - loss: 0.8229 - val_loss: 0.5727\n",
            "Epoch 5/100\n",
            "20/20 [==============================] - 0s 2ms/step - loss: 0.7289 - val_loss: 0.5286\n",
            "Epoch 6/100\n",
            "20/20 [==============================] - 0s 2ms/step - loss: 0.6446 - val_loss: 0.4959\n",
            "Epoch 7/100\n",
            "20/20 [==============================] - 0s 2ms/step - loss: 0.5805 - val_loss: 0.4747\n",
            "Epoch 8/100\n",
            "20/20 [==============================] - 0s 2ms/step - loss: 0.5326 - val_loss: 0.4592\n",
            "Epoch 9/100\n",
            "20/20 [==============================] - 0s 2ms/step - loss: 0.4982 - val_loss: 0.4494\n",
            "Epoch 10/100\n",
            "20/20 [==============================] - 0s 2ms/step - loss: 0.4738 - val_loss: 0.4401\n",
            "Epoch 11/100\n",
            "20/20 [==============================] - 0s 2ms/step - loss: 0.4551 - val_loss: 0.4292\n",
            "Epoch 12/100\n",
            "20/20 [==============================] - 0s 2ms/step - loss: 0.4424 - val_loss: 0.4210\n",
            "Epoch 13/100\n",
            "20/20 [==============================] - 0s 2ms/step - loss: 0.4301 - val_loss: 0.4099\n",
            "Epoch 14/100\n",
            "20/20 [==============================] - 0s 2ms/step - loss: 0.4200 - val_loss: 0.4001\n",
            "Epoch 15/100\n",
            "20/20 [==============================] - 0s 2ms/step - loss: 0.4121 - val_loss: 0.3919\n",
            "Epoch 16/100\n",
            "20/20 [==============================] - 0s 3ms/step - loss: 0.4061 - val_loss: 0.3843\n",
            "Epoch 17/100\n",
            "20/20 [==============================] - 0s 2ms/step - loss: 0.3985 - val_loss: 0.3775\n",
            "Epoch 18/100\n",
            "20/20 [==============================] - 0s 2ms/step - loss: 0.3907 - val_loss: 0.3673\n",
            "Epoch 19/100\n",
            "20/20 [==============================] - 0s 2ms/step - loss: 0.3855 - val_loss: 0.3594\n",
            "Epoch 20/100\n",
            "20/20 [==============================] - 0s 2ms/step - loss: 0.3797 - val_loss: 0.3522\n",
            "Epoch 21/100\n",
            "20/20 [==============================] - 0s 2ms/step - loss: 0.3741 - val_loss: 0.3454\n",
            "Epoch 22/100\n",
            "20/20 [==============================] - 0s 2ms/step - loss: 0.3692 - val_loss: 0.3374\n",
            "Epoch 23/100\n",
            "20/20 [==============================] - 0s 2ms/step - loss: 0.3646 - val_loss: 0.3324\n",
            "Epoch 24/100\n",
            "20/20 [==============================] - 0s 2ms/step - loss: 0.3600 - val_loss: 0.3265\n",
            "Epoch 25/100\n",
            "20/20 [==============================] - 0s 2ms/step - loss: 0.3535 - val_loss: 0.3176\n",
            "Epoch 26/100\n",
            "20/20 [==============================] - 0s 2ms/step - loss: 0.3514 - val_loss: 0.3143\n",
            "Epoch 27/100\n",
            "20/20 [==============================] - 0s 2ms/step - loss: 0.3466 - val_loss: 0.3105\n",
            "Epoch 28/100\n",
            "20/20 [==============================] - 0s 2ms/step - loss: 0.3425 - val_loss: 0.3055\n",
            "Epoch 29/100\n",
            "20/20 [==============================] - 0s 2ms/step - loss: 0.3378 - val_loss: 0.2993\n",
            "Epoch 30/100\n",
            "20/20 [==============================] - 0s 2ms/step - loss: 0.3346 - val_loss: 0.2915\n",
            "Epoch 31/100\n",
            "20/20 [==============================] - 0s 2ms/step - loss: 0.3321 - val_loss: 0.2862\n",
            "Epoch 32/100\n",
            "20/20 [==============================] - 0s 2ms/step - loss: 0.3290 - val_loss: 0.2827\n",
            "Epoch 33/100\n",
            "20/20 [==============================] - 0s 2ms/step - loss: 0.3248 - val_loss: 0.2797\n",
            "Epoch 34/100\n",
            "20/20 [==============================] - 0s 2ms/step - loss: 0.3219 - val_loss: 0.2765\n",
            "Epoch 35/100\n",
            "20/20 [==============================] - 0s 2ms/step - loss: 0.3184 - val_loss: 0.2726\n",
            "Epoch 36/100\n",
            "20/20 [==============================] - 0s 2ms/step - loss: 0.3145 - val_loss: 0.2682\n",
            "Epoch 37/100\n",
            "20/20 [==============================] - 0s 2ms/step - loss: 0.3104 - val_loss: 0.2637\n",
            "Epoch 38/100\n",
            "20/20 [==============================] - 0s 2ms/step - loss: 0.3089 - val_loss: 0.2576\n",
            "Epoch 39/100\n",
            "20/20 [==============================] - 0s 3ms/step - loss: 0.3066 - val_loss: 0.2535\n",
            "Epoch 40/100\n",
            "20/20 [==============================] - 0s 2ms/step - loss: 0.3012 - val_loss: 0.2505\n",
            "Epoch 41/100\n",
            "20/20 [==============================] - 0s 2ms/step - loss: 0.2986 - val_loss: 0.2479\n",
            "Epoch 42/100\n",
            "20/20 [==============================] - 0s 2ms/step - loss: 0.2949 - val_loss: 0.2432\n",
            "Epoch 43/100\n",
            "20/20 [==============================] - 0s 2ms/step - loss: 0.2915 - val_loss: 0.2385\n",
            "Epoch 44/100\n",
            "20/20 [==============================] - 0s 2ms/step - loss: 0.2910 - val_loss: 0.2372\n",
            "Epoch 45/100\n",
            "20/20 [==============================] - 0s 2ms/step - loss: 0.2867 - val_loss: 0.2362\n",
            "Epoch 46/100\n",
            "20/20 [==============================] - 0s 2ms/step - loss: 0.2826 - val_loss: 0.2345\n",
            "Epoch 47/100\n",
            "20/20 [==============================] - 0s 2ms/step - loss: 0.2809 - val_loss: 0.2291\n",
            "Epoch 48/100\n",
            "20/20 [==============================] - 0s 2ms/step - loss: 0.2768 - val_loss: 0.2253\n",
            "Epoch 49/100\n",
            "20/20 [==============================] - 0s 2ms/step - loss: 0.2759 - val_loss: 0.2245\n",
            "Epoch 50/100\n",
            "20/20 [==============================] - 0s 2ms/step - loss: 0.2724 - val_loss: 0.2216\n",
            "Epoch 51/100\n",
            "20/20 [==============================] - 0s 2ms/step - loss: 0.2708 - val_loss: 0.2192\n",
            "Epoch 52/100\n",
            "20/20 [==============================] - 0s 2ms/step - loss: 0.2689 - val_loss: 0.2174\n",
            "Epoch 53/100\n",
            "20/20 [==============================] - 0s 2ms/step - loss: 0.2655 - val_loss: 0.2176\n",
            "Epoch 54/100\n",
            "20/20 [==============================] - 0s 2ms/step - loss: 0.2639 - val_loss: 0.2155\n",
            "Epoch 55/100\n",
            "20/20 [==============================] - 0s 2ms/step - loss: 0.2607 - val_loss: 0.2130\n",
            "Epoch 56/100\n",
            "20/20 [==============================] - 0s 2ms/step - loss: 0.2602 - val_loss: 0.2112\n",
            "Epoch 57/100\n",
            "20/20 [==============================] - 0s 2ms/step - loss: 0.2578 - val_loss: 0.2104\n",
            "Epoch 58/100\n",
            "20/20 [==============================] - 0s 2ms/step - loss: 0.2541 - val_loss: 0.2098\n",
            "Epoch 59/100\n",
            "20/20 [==============================] - 0s 2ms/step - loss: 0.2524 - val_loss: 0.2090\n",
            "Epoch 60/100\n",
            "20/20 [==============================] - 0s 2ms/step - loss: 0.2508 - val_loss: 0.2072\n",
            "Epoch 61/100\n",
            "20/20 [==============================] - 0s 3ms/step - loss: 0.2485 - val_loss: 0.2065\n",
            "Epoch 62/100\n",
            "20/20 [==============================] - 0s 2ms/step - loss: 0.2468 - val_loss: 0.2043\n",
            "Epoch 63/100\n",
            "20/20 [==============================] - 0s 2ms/step - loss: 0.2440 - val_loss: 0.2031\n",
            "Epoch 64/100\n",
            "20/20 [==============================] - 0s 2ms/step - loss: 0.2427 - val_loss: 0.2037\n",
            "Epoch 65/100\n",
            "20/20 [==============================] - 0s 2ms/step - loss: 0.2412 - val_loss: 0.2007\n",
            "Epoch 66/100\n",
            "20/20 [==============================] - 0s 2ms/step - loss: 0.2399 - val_loss: 0.1980\n",
            "Epoch 67/100\n",
            "20/20 [==============================] - 0s 2ms/step - loss: 0.2374 - val_loss: 0.1977\n",
            "Epoch 68/100\n",
            "20/20 [==============================] - 0s 2ms/step - loss: 0.2359 - val_loss: 0.1952\n",
            "Epoch 69/100\n",
            "20/20 [==============================] - 0s 2ms/step - loss: 0.2340 - val_loss: 0.1961\n",
            "Epoch 70/100\n",
            "20/20 [==============================] - 0s 2ms/step - loss: 0.2326 - val_loss: 0.1939\n",
            "Epoch 71/100\n",
            "20/20 [==============================] - 0s 2ms/step - loss: 0.2304 - val_loss: 0.1939\n",
            "Epoch 72/100\n",
            "20/20 [==============================] - 0s 2ms/step - loss: 0.2293 - val_loss: 0.1925\n",
            "Epoch 73/100\n",
            "20/20 [==============================] - 0s 2ms/step - loss: 0.2285 - val_loss: 0.1910\n",
            "Epoch 74/100\n",
            "20/20 [==============================] - 0s 2ms/step - loss: 0.2250 - val_loss: 0.1899\n",
            "Epoch 75/100\n",
            "20/20 [==============================] - 0s 2ms/step - loss: 0.2244 - val_loss: 0.1903\n",
            "Epoch 76/100\n",
            "20/20 [==============================] - 0s 2ms/step - loss: 0.2229 - val_loss: 0.1875\n",
            "Epoch 77/100\n",
            "20/20 [==============================] - 0s 2ms/step - loss: 0.2216 - val_loss: 0.1872\n",
            "Epoch 78/100\n",
            "20/20 [==============================] - 0s 2ms/step - loss: 0.2200 - val_loss: 0.1863\n",
            "Epoch 79/100\n",
            "20/20 [==============================] - 0s 2ms/step - loss: 0.2182 - val_loss: 0.1865\n",
            "Epoch 80/100\n",
            "20/20 [==============================] - 0s 2ms/step - loss: 0.2170 - val_loss: 0.1847\n",
            "Epoch 81/100\n",
            "20/20 [==============================] - 0s 2ms/step - loss: 0.2141 - val_loss: 0.1882\n",
            "Epoch 82/100\n",
            "20/20 [==============================] - 0s 2ms/step - loss: 0.2131 - val_loss: 0.1858\n",
            "Epoch 83/100\n",
            "20/20 [==============================] - 0s 2ms/step - loss: 0.2129 - val_loss: 0.1848\n",
            "Epoch 84/100\n",
            "20/20 [==============================] - 0s 2ms/step - loss: 0.2104 - val_loss: 0.1830\n",
            "Epoch 85/100\n",
            "20/20 [==============================] - 0s 3ms/step - loss: 0.2095 - val_loss: 0.1838\n",
            "Epoch 86/100\n",
            "20/20 [==============================] - 0s 2ms/step - loss: 0.2092 - val_loss: 0.1820\n",
            "Epoch 87/100\n",
            "20/20 [==============================] - 0s 2ms/step - loss: 0.2055 - val_loss: 0.1834\n",
            "Epoch 88/100\n",
            "20/20 [==============================] - 0s 2ms/step - loss: 0.2064 - val_loss: 0.1826\n",
            "Epoch 89/100\n",
            "20/20 [==============================] - 0s 2ms/step - loss: 0.2037 - val_loss: 0.1820\n",
            "Epoch 90/100\n",
            "20/20 [==============================] - 0s 2ms/step - loss: 0.2037 - val_loss: 0.1801\n",
            "Epoch 91/100\n",
            "20/20 [==============================] - 0s 2ms/step - loss: 0.2004 - val_loss: 0.1807\n",
            "Epoch 92/100\n",
            "20/20 [==============================] - 0s 2ms/step - loss: 0.2012 - val_loss: 0.1808\n",
            "Epoch 93/100\n",
            "20/20 [==============================] - 0s 2ms/step - loss: 0.1980 - val_loss: 0.1803\n",
            "Epoch 94/100\n",
            "20/20 [==============================] - 0s 2ms/step - loss: 0.1987 - val_loss: 0.1795\n",
            "Epoch 95/100\n",
            "20/20 [==============================] - 0s 2ms/step - loss: 0.1979 - val_loss: 0.1788\n",
            "Epoch 96/100\n",
            "20/20 [==============================] - 0s 2ms/step - loss: 0.1958 - val_loss: 0.1779\n",
            "Epoch 97/100\n",
            "20/20 [==============================] - 0s 2ms/step - loss: 0.1951 - val_loss: 0.1782\n",
            "Epoch 98/100\n",
            "20/20 [==============================] - 0s 2ms/step - loss: 0.1916 - val_loss: 0.1771\n",
            "Epoch 99/100\n",
            "20/20 [==============================] - 0s 2ms/step - loss: 0.1921 - val_loss: 0.1775\n",
            "Epoch 100/100\n",
            "20/20 [==============================] - 0s 2ms/step - loss: 0.1908 - val_loss: 0.1764\n"
          ],
          "name": "stdout"
        }
      ]
    },
    {
      "cell_type": "code",
      "metadata": {
        "id": "NhUCLU45lTby",
        "outputId": "e52520fb-4b12-4dff-a39a-e03d558b69a0",
        "colab": {
          "base_uri": "https://localhost:8080/",
          "height": 122
        }
      },
      "source": [
        "predictions = wider_model_rmsprop.predict(feature_test)\n",
        "predictions = predictions.flatten()\n",
        "\n",
        "mse = mean_squared_error(label_test, predictions)\n",
        "mae = mean_absolute_error(label_test, predictions)\n",
        "r2 = r2_score(label_test, predictions)\n",
        "print(\"MSE (Mean Squared Error)\", mse)\n",
        "print(\"MAE (Mean Absolute Error)\", mae)\n",
        "print(\"r^2 score\", r2)\n",
        "print('RMSE (Root Mean Squared Error', np.sqrt(mean_squared_error(label_test, predictions)))"
      ],
      "execution_count": 120,
      "outputs": [
        {
          "output_type": "stream",
          "text": [
            "WARNING:tensorflow:6 out of the last 11 calls to <function Model.make_predict_function.<locals>.predict_function at 0x7f1eb60f4400> triggered tf.function retracing. Tracing is expensive and the excessive number of tracings could be due to (1) creating @tf.function repeatedly in a loop, (2) passing tensors with different shapes, (3) passing Python objects instead of tensors. For (1), please define your @tf.function outside of the loop. For (2), @tf.function has experimental_relax_shapes=True option that relaxes argument shapes that can avoid unnecessary retracing. For (3), please refer to https://www.tensorflow.org/tutorials/customization/performance#python_or_tensor_args and https://www.tensorflow.org/api_docs/python/tf/function for  more details.\n",
            "MSE (Mean Squared Error) 0.17643450293947283\n",
            "MAE (Mean Absolute Error) 0.30737944639874837\n",
            "r^2 score 0.7536252304386468\n",
            "RMSE (Root Mean Squared Error 0.42004107291962867\n"
          ],
          "name": "stdout"
        }
      ]
    },
    {
      "cell_type": "code",
      "metadata": {
        "id": "OwWCSGjLlfJx",
        "outputId": "d26e645b-e63d-4e2d-9f3f-dc6ae0f97a07",
        "colab": {
          "base_uri": "https://localhost:8080/",
          "height": 419
        }
      },
      "source": [
        "history_rmsprop_dataframe = pd.DataFrame(history_rmsprop.history)\n",
        "history_rmsprop_dataframe['epoch'] = history_rmsprop.epoch\n",
        "history_rmsprop_dataframe.sort_values(by='val_loss', ascending=True)"
      ],
      "execution_count": 121,
      "outputs": [
        {
          "output_type": "execute_result",
          "data": {
            "text/html": [
              "<div>\n",
              "<style scoped>\n",
              "    .dataframe tbody tr th:only-of-type {\n",
              "        vertical-align: middle;\n",
              "    }\n",
              "\n",
              "    .dataframe tbody tr th {\n",
              "        vertical-align: top;\n",
              "    }\n",
              "\n",
              "    .dataframe thead th {\n",
              "        text-align: right;\n",
              "    }\n",
              "</style>\n",
              "<table border=\"1\" class=\"dataframe\">\n",
              "  <thead>\n",
              "    <tr style=\"text-align: right;\">\n",
              "      <th></th>\n",
              "      <th>loss</th>\n",
              "      <th>val_loss</th>\n",
              "      <th>epoch</th>\n",
              "    </tr>\n",
              "  </thead>\n",
              "  <tbody>\n",
              "    <tr>\n",
              "      <th>99</th>\n",
              "      <td>0.190774</td>\n",
              "      <td>0.176435</td>\n",
              "      <td>99</td>\n",
              "    </tr>\n",
              "    <tr>\n",
              "      <th>97</th>\n",
              "      <td>0.191599</td>\n",
              "      <td>0.177085</td>\n",
              "      <td>97</td>\n",
              "    </tr>\n",
              "    <tr>\n",
              "      <th>98</th>\n",
              "      <td>0.192126</td>\n",
              "      <td>0.177533</td>\n",
              "      <td>98</td>\n",
              "    </tr>\n",
              "    <tr>\n",
              "      <th>95</th>\n",
              "      <td>0.195821</td>\n",
              "      <td>0.177912</td>\n",
              "      <td>95</td>\n",
              "    </tr>\n",
              "    <tr>\n",
              "      <th>96</th>\n",
              "      <td>0.195101</td>\n",
              "      <td>0.178174</td>\n",
              "      <td>96</td>\n",
              "    </tr>\n",
              "    <tr>\n",
              "      <th>...</th>\n",
              "      <td>...</td>\n",
              "      <td>...</td>\n",
              "      <td>...</td>\n",
              "    </tr>\n",
              "    <tr>\n",
              "      <th>4</th>\n",
              "      <td>0.728874</td>\n",
              "      <td>0.528615</td>\n",
              "      <td>4</td>\n",
              "    </tr>\n",
              "    <tr>\n",
              "      <th>3</th>\n",
              "      <td>0.822851</td>\n",
              "      <td>0.572669</td>\n",
              "      <td>3</td>\n",
              "    </tr>\n",
              "    <tr>\n",
              "      <th>2</th>\n",
              "      <td>0.910725</td>\n",
              "      <td>0.617613</td>\n",
              "      <td>2</td>\n",
              "    </tr>\n",
              "    <tr>\n",
              "      <th>1</th>\n",
              "      <td>0.985902</td>\n",
              "      <td>0.657934</td>\n",
              "      <td>1</td>\n",
              "    </tr>\n",
              "    <tr>\n",
              "      <th>0</th>\n",
              "      <td>1.049865</td>\n",
              "      <td>0.691253</td>\n",
              "      <td>0</td>\n",
              "    </tr>\n",
              "  </tbody>\n",
              "</table>\n",
              "<p>100 rows × 3 columns</p>\n",
              "</div>"
            ],
            "text/plain": [
              "        loss  val_loss  epoch\n",
              "99  0.190774  0.176435     99\n",
              "97  0.191599  0.177085     97\n",
              "98  0.192126  0.177533     98\n",
              "95  0.195821  0.177912     95\n",
              "96  0.195101  0.178174     96\n",
              "..       ...       ...    ...\n",
              "4   0.728874  0.528615      4\n",
              "3   0.822851  0.572669      3\n",
              "2   0.910725  0.617613      2\n",
              "1   0.985902  0.657934      1\n",
              "0   1.049865  0.691253      0\n",
              "\n",
              "[100 rows x 3 columns]"
            ]
          },
          "metadata": {
            "tags": []
          },
          "execution_count": 121
        }
      ]
    },
    {
      "cell_type": "code",
      "metadata": {
        "id": "3ShQQbQ1lfJ0",
        "outputId": "b2e238ab-18e5-4825-9fad-bed6c73a2312",
        "colab": {
          "base_uri": "https://localhost:8080/",
          "height": 279
        }
      },
      "source": [
        "plot_loss(history_rmsprop) # epoch vs loss graph"
      ],
      "execution_count": 122,
      "outputs": [
        {
          "output_type": "display_data",
          "data": {
            "image/png": "[encoded data removed]",
            "text/plain": [
              "<Figure size 432x288 with 1 Axes>"
            ]
          },
          "metadata": {
            "tags": [],
            "needs_background": "light"
          }
        }
      ]
    },
    {
      "cell_type": "markdown",
      "metadata": {
        "id": "xfnhC4qznqCV"
      },
      "source": [
        "# **Kesimpulan**"
      ]
    },
    {
      "cell_type": "markdown",
      "metadata": {
        "id": "tYZVgJ8Dntfz"
      },
      "source": [
        "\n",
        "```\n",
        "linear regression r^2 score 0.6582019578480833\n",
        "Base Model DL r^2 score 0.6687845507769925\n",
        "Deeper Model DL r^2 score 0.7534524690621678\n",
        "Wider Model DL r^2 score 0.6985302624670158\n",
        "Opt SGD r^2 score 0.7749433421238562\n",
        "Opt RMSProp r^2 score 0.7536252304386468\n",
        "```\n",
        "\n",
        "Menurut hasil sekali run diatas Hasil yang di dapat untuk r^2 terbaik ada pada wider model dengan optimizer SGD "
      ]
    }
  ]
}