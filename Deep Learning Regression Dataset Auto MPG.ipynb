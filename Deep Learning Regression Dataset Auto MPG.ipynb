{
  "nbformat": 4,
  "nbformat_minor": 0,
  "metadata": {
    "colab": {
      "name": "Assignment16_RickyGunawan_Auto_MPG.ipynb",
      "provenance": [],
      "collapsed_sections": [],
      "toc_visible": true
    },
    "kernelspec": {
      "name": "python3",
      "display_name": "Python 3"
    }
  },
  "cells": [
    {
      "cell_type": "code",
      "metadata": {
        "id": "Ipe6byeT9FHw"
      },
      "source": [
        "import pandas as pd\n",
        "import numpy as np\n",
        "import matplotlib.pyplot as plt\n",
        "import os\n",
        "import seaborn as sb\n",
        "\n",
        "from sklearn import preprocessing\n",
        "from sklearn.model_selection import train_test_split\n",
        "from sklearn.linear_model import LinearRegression\n",
        "from sklearn.metrics import mean_squared_error, mean_absolute_error, r2_score\n",
        "\n",
        "from tensorflow.keras.models import Sequential\n",
        "from tensorflow.keras.layers import Dense\n",
        "from tensorflow.keras.optimizers import SGD\n",
        "from tensorflow.keras.optimizers import RMSprop"
      ],
      "execution_count": 281,
      "outputs": []
    },
    {
      "cell_type": "markdown",
      "metadata": {
        "id": "niwiqZeU8Fby"
      },
      "source": [
        "# **Dataset Auto_MPG**"
      ]
    },
    {
      "cell_type": "code",
      "metadata": {
        "id": "OaulOFjlpSGe",
        "outputId": "13aad2eb-fb1c-4b06-f159-54510fba6c13",
        "colab": {
          "base_uri": "https://localhost:8080/",
          "height": 266
        }
      },
      "source": [
        "dataset = pd.read_csv('/content/drive/My Drive/BCML/datasets/DeepLearning/auto-mpg.csv')\n",
        "\n",
        "dataset.describe().transpose()"
      ],
      "execution_count": 282,
      "outputs": [
        {
          "output_type": "execute_result",
          "data": {
            "text/html": [
              "<div>\n",
              "<style scoped>\n",
              "    .dataframe tbody tr th:only-of-type {\n",
              "        vertical-align: middle;\n",
              "    }\n",
              "\n",
              "    .dataframe tbody tr th {\n",
              "        vertical-align: top;\n",
              "    }\n",
              "\n",
              "    .dataframe thead th {\n",
              "        text-align: right;\n",
              "    }\n",
              "</style>\n",
              "<table border=\"1\" class=\"dataframe\">\n",
              "  <thead>\n",
              "    <tr style=\"text-align: right;\">\n",
              "      <th></th>\n",
              "      <th>count</th>\n",
              "      <th>mean</th>\n",
              "      <th>std</th>\n",
              "      <th>min</th>\n",
              "      <th>25%</th>\n",
              "      <th>50%</th>\n",
              "      <th>75%</th>\n",
              "      <th>max</th>\n",
              "    </tr>\n",
              "  </thead>\n",
              "  <tbody>\n",
              "    <tr>\n",
              "      <th>cylinders</th>\n",
              "      <td>398.0</td>\n",
              "      <td>5.454774</td>\n",
              "      <td>1.701004</td>\n",
              "      <td>3.0</td>\n",
              "      <td>4.000</td>\n",
              "      <td>4.0</td>\n",
              "      <td>8.000</td>\n",
              "      <td>8.0</td>\n",
              "    </tr>\n",
              "    <tr>\n",
              "      <th>displacement</th>\n",
              "      <td>398.0</td>\n",
              "      <td>193.425879</td>\n",
              "      <td>104.269838</td>\n",
              "      <td>68.0</td>\n",
              "      <td>104.250</td>\n",
              "      <td>148.5</td>\n",
              "      <td>262.000</td>\n",
              "      <td>455.0</td>\n",
              "    </tr>\n",
              "    <tr>\n",
              "      <th>weight</th>\n",
              "      <td>398.0</td>\n",
              "      <td>2970.424623</td>\n",
              "      <td>846.841774</td>\n",
              "      <td>1613.0</td>\n",
              "      <td>2223.750</td>\n",
              "      <td>2803.5</td>\n",
              "      <td>3608.000</td>\n",
              "      <td>5140.0</td>\n",
              "    </tr>\n",
              "    <tr>\n",
              "      <th>acceleration</th>\n",
              "      <td>398.0</td>\n",
              "      <td>15.568090</td>\n",
              "      <td>2.757689</td>\n",
              "      <td>8.0</td>\n",
              "      <td>13.825</td>\n",
              "      <td>15.5</td>\n",
              "      <td>17.175</td>\n",
              "      <td>24.8</td>\n",
              "    </tr>\n",
              "    <tr>\n",
              "      <th>model year</th>\n",
              "      <td>398.0</td>\n",
              "      <td>76.010050</td>\n",
              "      <td>3.697627</td>\n",
              "      <td>70.0</td>\n",
              "      <td>73.000</td>\n",
              "      <td>76.0</td>\n",
              "      <td>79.000</td>\n",
              "      <td>82.0</td>\n",
              "    </tr>\n",
              "    <tr>\n",
              "      <th>origin</th>\n",
              "      <td>398.0</td>\n",
              "      <td>1.572864</td>\n",
              "      <td>0.802055</td>\n",
              "      <td>1.0</td>\n",
              "      <td>1.000</td>\n",
              "      <td>1.0</td>\n",
              "      <td>2.000</td>\n",
              "      <td>3.0</td>\n",
              "    </tr>\n",
              "    <tr>\n",
              "      <th>mpg</th>\n",
              "      <td>398.0</td>\n",
              "      <td>23.514573</td>\n",
              "      <td>7.815984</td>\n",
              "      <td>9.0</td>\n",
              "      <td>17.500</td>\n",
              "      <td>23.0</td>\n",
              "      <td>29.000</td>\n",
              "      <td>46.6</td>\n",
              "    </tr>\n",
              "  </tbody>\n",
              "</table>\n",
              "</div>"
            ],
            "text/plain": [
              "              count         mean         std  ...     50%       75%     max\n",
              "cylinders     398.0     5.454774    1.701004  ...     4.0     8.000     8.0\n",
              "displacement  398.0   193.425879  104.269838  ...   148.5   262.000   455.0\n",
              "weight        398.0  2970.424623  846.841774  ...  2803.5  3608.000  5140.0\n",
              "acceleration  398.0    15.568090    2.757689  ...    15.5    17.175    24.8\n",
              "model year    398.0    76.010050    3.697627  ...    76.0    79.000    82.0\n",
              "origin        398.0     1.572864    0.802055  ...     1.0     2.000     3.0\n",
              "mpg           398.0    23.514573    7.815984  ...    23.0    29.000    46.6\n",
              "\n",
              "[7 rows x 8 columns]"
            ]
          },
          "metadata": {
            "tags": []
          },
          "execution_count": 282
        }
      ]
    },
    {
      "cell_type": "code",
      "metadata": {
        "id": "xRKLLi3w9msa",
        "outputId": "e74badfa-42e5-4409-aa39-591bf0695f73",
        "colab": {
          "base_uri": "https://localhost:8080/",
          "height": 289
        }
      },
      "source": [
        "dataset.info()"
      ],
      "execution_count": 283,
      "outputs": [
        {
          "output_type": "stream",
          "text": [
            "<class 'pandas.core.frame.DataFrame'>\n",
            "RangeIndex: 398 entries, 0 to 397\n",
            "Data columns (total 9 columns):\n",
            " #   Column        Non-Null Count  Dtype  \n",
            "---  ------        --------------  -----  \n",
            " 0   cylinders     398 non-null    int64  \n",
            " 1   displacement  398 non-null    float64\n",
            " 2   horsepower    398 non-null    object \n",
            " 3   weight        398 non-null    int64  \n",
            " 4   acceleration  398 non-null    float64\n",
            " 5   model year    398 non-null    int64  \n",
            " 6   origin        398 non-null    int64  \n",
            " 7   car name      398 non-null    object \n",
            " 8   mpg           398 non-null    float64\n",
            "dtypes: float64(3), int64(4), object(2)\n",
            "memory usage: 28.1+ KB\n"
          ],
          "name": "stdout"
        }
      ]
    },
    {
      "cell_type": "code",
      "metadata": {
        "id": "T0Flg4Ik9owu",
        "outputId": "bebc5322-cc64-4699-ca9b-19566c2a7d3b",
        "colab": {
          "base_uri": "https://localhost:8080/",
          "height": 204
        }
      },
      "source": [
        "dataset.head()"
      ],
      "execution_count": 284,
      "outputs": [
        {
          "output_type": "execute_result",
          "data": {
            "text/html": [
              "<div>\n",
              "<style scoped>\n",
              "    .dataframe tbody tr th:only-of-type {\n",
              "        vertical-align: middle;\n",
              "    }\n",
              "\n",
              "    .dataframe tbody tr th {\n",
              "        vertical-align: top;\n",
              "    }\n",
              "\n",
              "    .dataframe thead th {\n",
              "        text-align: right;\n",
              "    }\n",
              "</style>\n",
              "<table border=\"1\" class=\"dataframe\">\n",
              "  <thead>\n",
              "    <tr style=\"text-align: right;\">\n",
              "      <th></th>\n",
              "      <th>cylinders</th>\n",
              "      <th>displacement</th>\n",
              "      <th>horsepower</th>\n",
              "      <th>weight</th>\n",
              "      <th>acceleration</th>\n",
              "      <th>model year</th>\n",
              "      <th>origin</th>\n",
              "      <th>car name</th>\n",
              "      <th>mpg</th>\n",
              "    </tr>\n",
              "  </thead>\n",
              "  <tbody>\n",
              "    <tr>\n",
              "      <th>0</th>\n",
              "      <td>8</td>\n",
              "      <td>307.0</td>\n",
              "      <td>130</td>\n",
              "      <td>3504</td>\n",
              "      <td>12.0</td>\n",
              "      <td>70</td>\n",
              "      <td>1</td>\n",
              "      <td>chevrolet chevelle malibu</td>\n",
              "      <td>18.0</td>\n",
              "    </tr>\n",
              "    <tr>\n",
              "      <th>1</th>\n",
              "      <td>8</td>\n",
              "      <td>350.0</td>\n",
              "      <td>165</td>\n",
              "      <td>3693</td>\n",
              "      <td>11.5</td>\n",
              "      <td>70</td>\n",
              "      <td>1</td>\n",
              "      <td>buick skylark 320</td>\n",
              "      <td>15.0</td>\n",
              "    </tr>\n",
              "    <tr>\n",
              "      <th>2</th>\n",
              "      <td>8</td>\n",
              "      <td>318.0</td>\n",
              "      <td>150</td>\n",
              "      <td>3436</td>\n",
              "      <td>11.0</td>\n",
              "      <td>70</td>\n",
              "      <td>1</td>\n",
              "      <td>plymouth satellite</td>\n",
              "      <td>18.0</td>\n",
              "    </tr>\n",
              "    <tr>\n",
              "      <th>3</th>\n",
              "      <td>8</td>\n",
              "      <td>304.0</td>\n",
              "      <td>150</td>\n",
              "      <td>3433</td>\n",
              "      <td>12.0</td>\n",
              "      <td>70</td>\n",
              "      <td>1</td>\n",
              "      <td>amc rebel sst</td>\n",
              "      <td>16.0</td>\n",
              "    </tr>\n",
              "    <tr>\n",
              "      <th>4</th>\n",
              "      <td>8</td>\n",
              "      <td>302.0</td>\n",
              "      <td>140</td>\n",
              "      <td>3449</td>\n",
              "      <td>10.5</td>\n",
              "      <td>70</td>\n",
              "      <td>1</td>\n",
              "      <td>ford torino</td>\n",
              "      <td>17.0</td>\n",
              "    </tr>\n",
              "  </tbody>\n",
              "</table>\n",
              "</div>"
            ],
            "text/plain": [
              "   cylinders  displacement horsepower  ...  origin                   car name   mpg\n",
              "0          8         307.0        130  ...       1  chevrolet chevelle malibu  18.0\n",
              "1          8         350.0        165  ...       1          buick skylark 320  15.0\n",
              "2          8         318.0        150  ...       1         plymouth satellite  18.0\n",
              "3          8         304.0        150  ...       1              amc rebel sst  16.0\n",
              "4          8         302.0        140  ...       1                ford torino  17.0\n",
              "\n",
              "[5 rows x 9 columns]"
            ]
          },
          "metadata": {
            "tags": []
          },
          "execution_count": 284
        }
      ]
    },
    {
      "cell_type": "code",
      "metadata": {
        "id": "yQlEnezC-y7S",
        "outputId": "5369c686-beb9-432c-a034-ec1b77d0af68",
        "colab": {
          "base_uri": "https://localhost:8080/",
          "height": 187
        }
      },
      "source": [
        "dataset.replace('?',np.nan,inplace=True)\n",
        "dataset.isnull().sum().sort_values()"
      ],
      "execution_count": 285,
      "outputs": [
        {
          "output_type": "execute_result",
          "data": {
            "text/plain": [
              "cylinders       0\n",
              "displacement    0\n",
              "weight          0\n",
              "acceleration    0\n",
              "model year      0\n",
              "origin          0\n",
              "car name        0\n",
              "mpg             0\n",
              "horsepower      6\n",
              "dtype: int64"
            ]
          },
          "metadata": {
            "tags": []
          },
          "execution_count": 285
        }
      ]
    },
    {
      "cell_type": "code",
      "metadata": {
        "id": "jaoy-Tx7_J_0"
      },
      "source": [
        "for i in dataset.columns:\n",
        "    if dataset[i].isnull().sum() > 0:\n",
        "        dataset[i].fillna(dataset[i].astype(float).mean(), inplace=True)\n",
        "\n",
        "dataset[[\"horsepower\"]] = dataset[[\"horsepower\"]].astype(\"int\")\n"
      ],
      "execution_count": 286,
      "outputs": []
    },
    {
      "cell_type": "code",
      "metadata": {
        "id": "depFb8a0_NN_",
        "outputId": "d15152b5-8672-46cf-e515-0487eb4f587c",
        "colab": {
          "base_uri": "https://localhost:8080/",
          "height": 187
        }
      },
      "source": [
        "dataset.isnull().sum().sort_values()"
      ],
      "execution_count": 287,
      "outputs": [
        {
          "output_type": "execute_result",
          "data": {
            "text/plain": [
              "cylinders       0\n",
              "displacement    0\n",
              "horsepower      0\n",
              "weight          0\n",
              "acceleration    0\n",
              "model year      0\n",
              "origin          0\n",
              "car name        0\n",
              "mpg             0\n",
              "dtype: int64"
            ]
          },
          "metadata": {
            "tags": []
          },
          "execution_count": 287
        }
      ]
    },
    {
      "cell_type": "code",
      "metadata": {
        "id": "EcliLtHjJ-sg",
        "outputId": "160b4ade-aed4-4046-bf69-f0fc4daf8b94",
        "colab": {
          "base_uri": "https://localhost:8080/",
          "height": 255
        }
      },
      "source": [
        "dataset['model year'].value_counts()"
      ],
      "execution_count": 288,
      "outputs": [
        {
          "output_type": "execute_result",
          "data": {
            "text/plain": [
              "73    40\n",
              "78    36\n",
              "76    34\n",
              "82    31\n",
              "75    30\n",
              "81    29\n",
              "80    29\n",
              "79    29\n",
              "70    29\n",
              "77    28\n",
              "72    28\n",
              "71    28\n",
              "74    27\n",
              "Name: model year, dtype: int64"
            ]
          },
          "metadata": {
            "tags": []
          },
          "execution_count": 288
        }
      ]
    },
    {
      "cell_type": "code",
      "metadata": {
        "id": "QHZ4qCyHLBM7"
      },
      "source": [
        "dataset.drop(['car name'],axis=1,inplace=True)"
      ],
      "execution_count": 289,
      "outputs": []
    },
    {
      "cell_type": "code",
      "metadata": {
        "id": "TAeT56yMLc7E",
        "outputId": "b17d7b69-b36c-4c6b-ba1f-e224580e576e",
        "colab": {
          "base_uri": "https://localhost:8080/",
          "height": 272
        }
      },
      "source": [
        "dataset.info()"
      ],
      "execution_count": 290,
      "outputs": [
        {
          "output_type": "stream",
          "text": [
            "<class 'pandas.core.frame.DataFrame'>\n",
            "RangeIndex: 398 entries, 0 to 397\n",
            "Data columns (total 8 columns):\n",
            " #   Column        Non-Null Count  Dtype  \n",
            "---  ------        --------------  -----  \n",
            " 0   cylinders     398 non-null    int64  \n",
            " 1   displacement  398 non-null    float64\n",
            " 2   horsepower    398 non-null    int64  \n",
            " 3   weight        398 non-null    int64  \n",
            " 4   acceleration  398 non-null    float64\n",
            " 5   model year    398 non-null    int64  \n",
            " 6   origin        398 non-null    int64  \n",
            " 7   mpg           398 non-null    float64\n",
            "dtypes: float64(3), int64(5)\n",
            "memory usage: 25.0 KB\n"
          ],
          "name": "stdout"
        }
      ]
    },
    {
      "cell_type": "code",
      "metadata": {
        "id": "_Q2AyQHRLjWl",
        "outputId": "e5ddece0-32c0-4306-bf8d-a76bc9a822f8",
        "colab": {
          "base_uri": "https://localhost:8080/",
          "height": 1000
        }
      },
      "source": [
        "dataset.hist(figsize=(18, 22), bins=50, xlabelsize=8, ylabelsize=8)"
      ],
      "execution_count": 291,
      "outputs": [
        {
          "output_type": "execute_result",
          "data": {
            "text/plain": [
              "array([[<matplotlib.axes._subplots.AxesSubplot object at 0x7efbbdf80128>,\n",
              "        <matplotlib.axes._subplots.AxesSubplot object at 0x7efbe3a90eb8>,\n",
              "        <matplotlib.axes._subplots.AxesSubplot object at 0x7efbc794c278>],\n",
              "       [<matplotlib.axes._subplots.AxesSubplot object at 0x7efbe3ca05f8>,\n",
              "        <matplotlib.axes._subplots.AxesSubplot object at 0x7efbe3b78978>,\n",
              "        <matplotlib.axes._subplots.AxesSubplot object at 0x7efbe39fecf8>],\n",
              "       [<matplotlib.axes._subplots.AxesSubplot object at 0x7efbe3a220b8>,\n",
              "        <matplotlib.axes._subplots.AxesSubplot object at 0x7efbbd5583c8>,\n",
              "        <matplotlib.axes._subplots.AxesSubplot object at 0x7efbbd558438>]],\n",
              "      dtype=object)"
            ]
          },
          "metadata": {
            "tags": []
          },
          "execution_count": 291
        },
        {
          "output_type": "display_data",
          "data": {
            "image/png": "[encoded data removed]",
            "text/plain": [
              "<Figure size 1296x1584 with 9 Axes>"
            ]
          },
          "metadata": {
            "tags": [],
            "needs_background": "light"
          }
        }
      ]
    },
    {
      "cell_type": "code",
      "metadata": {
        "id": "nAWdx_00Luxe",
        "outputId": "20928d97-a1fe-4797-f451-fdcd8ae1d9e0",
        "colab": {
          "base_uri": "https://localhost:8080/",
          "height": 1000
        }
      },
      "source": [
        "corr = dataset.corr()\n",
        "plt.figure(figsize=(20,20))\n",
        "sb.heatmap(corr, cbar=True, square= True, fmt='.1f', annot=True, annot_kws={'size':15}, cmap='Greens')"
      ],
      "execution_count": 292,
      "outputs": [
        {
          "output_type": "execute_result",
          "data": {
            "text/plain": [
              "<matplotlib.axes._subplots.AxesSubplot at 0x7efbbf9b51d0>"
            ]
          },
          "metadata": {
            "tags": []
          },
          "execution_count": 292
        },
        {
          "output_type": "display_data",
          "data": {
            "image/png": "[encoded data removed]",
            "text/plain": [
              "<Figure size 1440x1440 with 2 Axes>"
            ]
          },
          "metadata": {
            "tags": [],
            "needs_background": "light"
          }
        }
      ]
    },
    {
      "cell_type": "markdown",
      "metadata": {
        "id": "ap35nFgazKB5"
      },
      "source": [
        "# **Linear Regression**"
      ]
    },
    {
      "cell_type": "markdown",
      "metadata": {
        "id": "5Mzf-o6f0xVL"
      },
      "source": [
        "## **Feature Engineering**"
      ]
    },
    {
      "cell_type": "code",
      "metadata": {
        "id": "uelGnt3DzImO"
      },
      "source": [
        "label = dataset['mpg']\n",
        "features = dataset.drop(['mpg'], axis=1)\n",
        "\n",
        "scaler = preprocessing.StandardScaler()\n",
        "\n",
        "features = scaler.fit_transform(features.values)\n",
        "label = scaler.fit_transform(label.values.reshape(-1,1)).flatten()\n",
        "\n",
        "feature_train, feature_test, label_train, label_test = train_test_split(features, label, test_size=0.2, random_state=10)"
      ],
      "execution_count": 293,
      "outputs": []
    },
    {
      "cell_type": "code",
      "metadata": {
        "id": "hlbqpuQu1emh",
        "outputId": "fa52618a-fa16-496e-e204-b20331d92f8f",
        "colab": {
          "base_uri": "https://localhost:8080/",
          "height": 85
        }
      },
      "source": [
        "linear_reg = LinearRegression()\n",
        "linear_reg.fit(feature_train, label_train)\n",
        "\n",
        "predictions = linear_reg.predict(feature_test)\n",
        "\n",
        "mse = mean_squared_error(label_test, predictions)\n",
        "mae = mean_absolute_error(label_test, predictions)\n",
        "r2 = r2_score(label_test, predictions)\n",
        "print(\"MSE (Mean Squared Error)\", mse)\n",
        "print(\"MAE (Mean Absolute Error)\", mae)\n",
        "print(\"r^2 score\", r2)\n",
        "print('RMSE (Root Mean Squared Error', np.sqrt(mean_squared_error(label_test, predictions)))"
      ],
      "execution_count": 294,
      "outputs": [
        {
          "output_type": "stream",
          "text": [
            "MSE (Mean Squared Error) 0.20826660169611802\n",
            "MAE (Mean Absolute Error) 0.3684271684436153\n",
            "r^2 score 0.792478802889181\n",
            "RMSE (Root Mean Squared Error 0.4563623578869296\n"
          ],
          "name": "stdout"
        }
      ]
    },
    {
      "cell_type": "markdown",
      "metadata": {
        "id": "JwwSzCjF5HCT"
      },
      "source": [
        "## **Base Model DL**"
      ]
    },
    {
      "cell_type": "code",
      "metadata": {
        "id": "4SEGfnpB1z8b"
      },
      "source": [
        "model = Sequential()\n",
        "model.add(Dense(7,input_dim=7, kernel_initializer='normal', activation='relu')) # 13 neuron, sesuai dengan 13 features\n",
        "model.add(Dense(1, kernel_initializer='normal'))\n",
        "\n",
        "model.compile(loss='mean_squared_error', optimizer='adam')"
      ],
      "execution_count": 337,
      "outputs": []
    },
    {
      "cell_type": "code",
      "metadata": {
        "id": "gG_fsfis1_QE",
        "outputId": "8a03c993-29e9-4b56-c8a8-3144e7340f94",
        "colab": {
          "base_uri": "https://localhost:8080/",
          "height": 1000
        }
      },
      "source": [
        "model.fit(x=feature_train, y=label_train, validation_data=(feature_test, label_test), epochs=50, batch_size=8)"
      ],
      "execution_count": 338,
      "outputs": [
        {
          "output_type": "stream",
          "text": [
            "Epoch 1/50\n",
            "40/40 [==============================] - 0s 3ms/step - loss: 0.9671 - val_loss: 0.9335\n",
            "Epoch 2/50\n",
            "40/40 [==============================] - 0s 1ms/step - loss: 0.8522 - val_loss: 0.7688\n",
            "Epoch 3/50\n",
            "40/40 [==============================] - 0s 2ms/step - loss: 0.6309 - val_loss: 0.5088\n",
            "Epoch 4/50\n",
            "40/40 [==============================] - 0s 1ms/step - loss: 0.3972 - val_loss: 0.3332\n",
            "Epoch 5/50\n",
            "40/40 [==============================] - 0s 1ms/step - loss: 0.2799 - val_loss: 0.2736\n",
            "Epoch 6/50\n",
            "40/40 [==============================] - 0s 1ms/step - loss: 0.2348 - val_loss: 0.2564\n",
            "Epoch 7/50\n",
            "40/40 [==============================] - 0s 1ms/step - loss: 0.2180 - val_loss: 0.2457\n",
            "Epoch 8/50\n",
            "40/40 [==============================] - 0s 1ms/step - loss: 0.2044 - val_loss: 0.2340\n",
            "Epoch 9/50\n",
            "40/40 [==============================] - 0s 1ms/step - loss: 0.1933 - val_loss: 0.2253\n",
            "Epoch 10/50\n",
            "40/40 [==============================] - 0s 1ms/step - loss: 0.1837 - val_loss: 0.2170\n",
            "Epoch 11/50\n",
            "40/40 [==============================] - 0s 1ms/step - loss: 0.1738 - val_loss: 0.2088\n",
            "Epoch 12/50\n",
            "40/40 [==============================] - 0s 1ms/step - loss: 0.1670 - val_loss: 0.2023\n",
            "Epoch 13/50\n",
            "40/40 [==============================] - 0s 1ms/step - loss: 0.1597 - val_loss: 0.1972\n",
            "Epoch 14/50\n",
            "40/40 [==============================] - 0s 1ms/step - loss: 0.1541 - val_loss: 0.1954\n",
            "Epoch 15/50\n",
            "40/40 [==============================] - 0s 1ms/step - loss: 0.1496 - val_loss: 0.1904\n",
            "Epoch 16/50\n",
            "40/40 [==============================] - 0s 1ms/step - loss: 0.1467 - val_loss: 0.1887\n",
            "Epoch 17/50\n",
            "40/40 [==============================] - 0s 1ms/step - loss: 0.1426 - val_loss: 0.1861\n",
            "Epoch 18/50\n",
            "40/40 [==============================] - 0s 1ms/step - loss: 0.1391 - val_loss: 0.1834\n",
            "Epoch 19/50\n",
            "40/40 [==============================] - 0s 1ms/step - loss: 0.1362 - val_loss: 0.1825\n",
            "Epoch 20/50\n",
            "40/40 [==============================] - 0s 2ms/step - loss: 0.1345 - val_loss: 0.1791\n",
            "Epoch 21/50\n",
            "40/40 [==============================] - 0s 1ms/step - loss: 0.1321 - val_loss: 0.1786\n",
            "Epoch 22/50\n",
            "40/40 [==============================] - 0s 1ms/step - loss: 0.1300 - val_loss: 0.1760\n",
            "Epoch 23/50\n",
            "40/40 [==============================] - 0s 1ms/step - loss: 0.1285 - val_loss: 0.1754\n",
            "Epoch 24/50\n",
            "40/40 [==============================] - 0s 2ms/step - loss: 0.1267 - val_loss: 0.1743\n",
            "Epoch 25/50\n",
            "40/40 [==============================] - 0s 2ms/step - loss: 0.1253 - val_loss: 0.1701\n",
            "Epoch 26/50\n",
            "40/40 [==============================] - 0s 1ms/step - loss: 0.1239 - val_loss: 0.1713\n",
            "Epoch 27/50\n",
            "40/40 [==============================] - 0s 1ms/step - loss: 0.1232 - val_loss: 0.1692\n",
            "Epoch 28/50\n",
            "40/40 [==============================] - 0s 1ms/step - loss: 0.1228 - val_loss: 0.1681\n",
            "Epoch 29/50\n",
            "40/40 [==============================] - 0s 2ms/step - loss: 0.1210 - val_loss: 0.1669\n",
            "Epoch 30/50\n",
            "40/40 [==============================] - 0s 1ms/step - loss: 0.1205 - val_loss: 0.1649\n",
            "Epoch 31/50\n",
            "40/40 [==============================] - 0s 1ms/step - loss: 0.1201 - val_loss: 0.1653\n",
            "Epoch 32/50\n",
            "40/40 [==============================] - 0s 1ms/step - loss: 0.1186 - val_loss: 0.1636\n",
            "Epoch 33/50\n",
            "40/40 [==============================] - 0s 1ms/step - loss: 0.1185 - val_loss: 0.1649\n",
            "Epoch 34/50\n",
            "40/40 [==============================] - 0s 1ms/step - loss: 0.1178 - val_loss: 0.1629\n",
            "Epoch 35/50\n",
            "40/40 [==============================] - 0s 1ms/step - loss: 0.1175 - val_loss: 0.1617\n",
            "Epoch 36/50\n",
            "40/40 [==============================] - 0s 2ms/step - loss: 0.1171 - val_loss: 0.1632\n",
            "Epoch 37/50\n",
            "40/40 [==============================] - 0s 1ms/step - loss: 0.1161 - val_loss: 0.1621\n",
            "Epoch 38/50\n",
            "40/40 [==============================] - 0s 1ms/step - loss: 0.1156 - val_loss: 0.1617\n",
            "Epoch 39/50\n",
            "40/40 [==============================] - 0s 2ms/step - loss: 0.1151 - val_loss: 0.1625\n",
            "Epoch 40/50\n",
            "40/40 [==============================] - 0s 1ms/step - loss: 0.1148 - val_loss: 0.1611\n",
            "Epoch 41/50\n",
            "40/40 [==============================] - 0s 1ms/step - loss: 0.1147 - val_loss: 0.1576\n",
            "Epoch 42/50\n",
            "40/40 [==============================] - 0s 1ms/step - loss: 0.1144 - val_loss: 0.1613\n",
            "Epoch 43/50\n",
            "40/40 [==============================] - 0s 1ms/step - loss: 0.1133 - val_loss: 0.1612\n",
            "Epoch 44/50\n",
            "40/40 [==============================] - 0s 1ms/step - loss: 0.1133 - val_loss: 0.1586\n",
            "Epoch 45/50\n",
            "40/40 [==============================] - 0s 1ms/step - loss: 0.1131 - val_loss: 0.1597\n",
            "Epoch 46/50\n",
            "40/40 [==============================] - 0s 1ms/step - loss: 0.1129 - val_loss: 0.1600\n",
            "Epoch 47/50\n",
            "40/40 [==============================] - 0s 1ms/step - loss: 0.1124 - val_loss: 0.1583\n",
            "Epoch 48/50\n",
            "40/40 [==============================] - 0s 1ms/step - loss: 0.1123 - val_loss: 0.1587\n",
            "Epoch 49/50\n",
            "40/40 [==============================] - 0s 2ms/step - loss: 0.1116 - val_loss: 0.1566\n",
            "Epoch 50/50\n",
            "40/40 [==============================] - 0s 1ms/step - loss: 0.1114 - val_loss: 0.1577\n"
          ],
          "name": "stdout"
        },
        {
          "output_type": "execute_result",
          "data": {
            "text/plain": [
              "<tensorflow.python.keras.callbacks.History at 0x7efbabf49080>"
            ]
          },
          "metadata": {
            "tags": []
          },
          "execution_count": 338
        }
      ]
    },
    {
      "cell_type": "code",
      "metadata": {
        "id": "obSwIi4G44Ig",
        "outputId": "c1af91e1-cc6d-4358-a736-62e3a6d7f29d",
        "colab": {
          "base_uri": "https://localhost:8080/",
          "height": 122
        }
      },
      "source": [
        "predictions = model.predict(feature_test)\n",
        "predictions = predictions.flatten()\n",
        "\n",
        "mse = mean_squared_error(label_test, predictions)\n",
        "mae = mean_absolute_error(label_test, predictions)\n",
        "r2 = r2_score(label_test, predictions)\n",
        "print(\"MSE (Mean Squared Error)\", mse)\n",
        "print(\"MAE (Mean Absolute Error)\", mae)\n",
        "print(\"r^2 score\", r2)\n",
        "print('RMSE (Root Mean Squared Error', np.sqrt(mean_squared_error(label_test, predictions)))"
      ],
      "execution_count": 339,
      "outputs": [
        {
          "output_type": "stream",
          "text": [
            "WARNING:tensorflow:5 out of the last 13 calls to <function Model.make_predict_function.<locals>.predict_function at 0x7efbabfbb6a8> triggered tf.function retracing. Tracing is expensive and the excessive number of tracings could be due to (1) creating @tf.function repeatedly in a loop, (2) passing tensors with different shapes, (3) passing Python objects instead of tensors. For (1), please define your @tf.function outside of the loop. For (2), @tf.function has experimental_relax_shapes=True option that relaxes argument shapes that can avoid unnecessary retracing. For (3), please refer to https://www.tensorflow.org/tutorials/customization/performance#python_or_tensor_args and https://www.tensorflow.org/api_docs/python/tf/function for  more details.\n",
            "MSE (Mean Squared Error) 0.15771143900367993\n",
            "MAE (Mean Absolute Error) 0.30847694243624807\n",
            "r^2 score 0.8428530241835525\n",
            "RMSE (Root Mean Squared Error 0.39712899542048036\n"
          ],
          "name": "stdout"
        }
      ]
    },
    {
      "cell_type": "markdown",
      "metadata": {
        "id": "9mkPLcIj5MEA"
      },
      "source": [
        "## **Deeper Model DL**"
      ]
    },
    {
      "cell_type": "code",
      "metadata": {
        "id": "8FDbHiHm5ZfE",
        "outputId": "cd27fb87-94ae-4360-ca3d-619d08db5171",
        "colab": {
          "base_uri": "https://localhost:8080/",
          "height": 1000
        }
      },
      "source": [
        "deeper_model = Sequential()\n",
        "deeper_model.add(Dense(7,input_dim=7, kernel_initializer='normal', activation='relu'))\n",
        "deeper_model.add(Dense(6, kernel_initializer='normal', activation='relu'))\n",
        "deeper_model.add(Dense(1, kernel_initializer='normal'))\n",
        "\n",
        "deeper_model.compile(loss='mean_squared_error', optimizer='adam')\n",
        "\n",
        "deeper_model.fit(x=feature_train, y=label_train, validation_data=(feature_test, label_test), epochs=50, batch_size=8)"
      ],
      "execution_count": 340,
      "outputs": [
        {
          "output_type": "stream",
          "text": [
            "Epoch 1/50\n",
            "40/40 [==============================] - 1s 19ms/step - loss: 0.9940 - val_loss: 0.9946\n",
            "Epoch 2/50\n",
            "40/40 [==============================] - 0s 2ms/step - loss: 0.9602 - val_loss: 0.9308\n",
            "Epoch 3/50\n",
            "40/40 [==============================] - 0s 1ms/step - loss: 0.8499 - val_loss: 0.7646\n",
            "Epoch 4/50\n",
            "40/40 [==============================] - 0s 1ms/step - loss: 0.6466 - val_loss: 0.5412\n",
            "Epoch 5/50\n",
            "40/40 [==============================] - 0s 1ms/step - loss: 0.4490 - val_loss: 0.3881\n",
            "Epoch 6/50\n",
            "40/40 [==============================] - 0s 1ms/step - loss: 0.3343 - val_loss: 0.3179\n",
            "Epoch 7/50\n",
            "40/40 [==============================] - 0s 1ms/step - loss: 0.2719 - val_loss: 0.2820\n",
            "Epoch 8/50\n",
            "40/40 [==============================] - 0s 1ms/step - loss: 0.2446 - val_loss: 0.2680\n",
            "Epoch 9/50\n",
            "40/40 [==============================] - 0s 1ms/step - loss: 0.2273 - val_loss: 0.2571\n",
            "Epoch 10/50\n",
            "40/40 [==============================] - 0s 1ms/step - loss: 0.2148 - val_loss: 0.2447\n",
            "Epoch 11/50\n",
            "40/40 [==============================] - 0s 1ms/step - loss: 0.2010 - val_loss: 0.2323\n",
            "Epoch 12/50\n",
            "40/40 [==============================] - 0s 2ms/step - loss: 0.1880 - val_loss: 0.2215\n",
            "Epoch 13/50\n",
            "40/40 [==============================] - 0s 1ms/step - loss: 0.1752 - val_loss: 0.2133\n",
            "Epoch 14/50\n",
            "40/40 [==============================] - 0s 2ms/step - loss: 0.1620 - val_loss: 0.2036\n",
            "Epoch 15/50\n",
            "40/40 [==============================] - 0s 1ms/step - loss: 0.1524 - val_loss: 0.1996\n",
            "Epoch 16/50\n",
            "40/40 [==============================] - 0s 1ms/step - loss: 0.1441 - val_loss: 0.1918\n",
            "Epoch 17/50\n",
            "40/40 [==============================] - 0s 2ms/step - loss: 0.1392 - val_loss: 0.1905\n",
            "Epoch 18/50\n",
            "40/40 [==============================] - 0s 1ms/step - loss: 0.1349 - val_loss: 0.1850\n",
            "Epoch 19/50\n",
            "40/40 [==============================] - 0s 2ms/step - loss: 0.1317 - val_loss: 0.1803\n",
            "Epoch 20/50\n",
            "40/40 [==============================] - 0s 2ms/step - loss: 0.1298 - val_loss: 0.1741\n",
            "Epoch 21/50\n",
            "40/40 [==============================] - 0s 1ms/step - loss: 0.1276 - val_loss: 0.1679\n",
            "Epoch 22/50\n",
            "40/40 [==============================] - 0s 2ms/step - loss: 0.1246 - val_loss: 0.1650\n",
            "Epoch 23/50\n",
            "40/40 [==============================] - 0s 2ms/step - loss: 0.1231 - val_loss: 0.1630\n",
            "Epoch 24/50\n",
            "40/40 [==============================] - 0s 1ms/step - loss: 0.1208 - val_loss: 0.1622\n",
            "Epoch 25/50\n",
            "40/40 [==============================] - 0s 1ms/step - loss: 0.1186 - val_loss: 0.1575\n",
            "Epoch 26/50\n",
            "40/40 [==============================] - 0s 1ms/step - loss: 0.1164 - val_loss: 0.1588\n",
            "Epoch 27/50\n",
            "40/40 [==============================] - 0s 1ms/step - loss: 0.1150 - val_loss: 0.1582\n",
            "Epoch 28/50\n",
            "40/40 [==============================] - 0s 2ms/step - loss: 0.1141 - val_loss: 0.1587\n",
            "Epoch 29/50\n",
            "40/40 [==============================] - 0s 1ms/step - loss: 0.1140 - val_loss: 0.1586\n",
            "Epoch 30/50\n",
            "40/40 [==============================] - 0s 2ms/step - loss: 0.1128 - val_loss: 0.1568\n",
            "Epoch 31/50\n",
            "40/40 [==============================] - 0s 1ms/step - loss: 0.1121 - val_loss: 0.1566\n",
            "Epoch 32/50\n",
            "40/40 [==============================] - 0s 1ms/step - loss: 0.1109 - val_loss: 0.1547\n",
            "Epoch 33/50\n",
            "40/40 [==============================] - 0s 1ms/step - loss: 0.1114 - val_loss: 0.1559\n",
            "Epoch 34/50\n",
            "40/40 [==============================] - 0s 1ms/step - loss: 0.1102 - val_loss: 0.1529\n",
            "Epoch 35/50\n",
            "40/40 [==============================] - 0s 1ms/step - loss: 0.1100 - val_loss: 0.1535\n",
            "Epoch 36/50\n",
            "40/40 [==============================] - 0s 1ms/step - loss: 0.1091 - val_loss: 0.1567\n",
            "Epoch 37/50\n",
            "40/40 [==============================] - 0s 2ms/step - loss: 0.1090 - val_loss: 0.1537\n",
            "Epoch 38/50\n",
            "40/40 [==============================] - 0s 2ms/step - loss: 0.1080 - val_loss: 0.1578\n",
            "Epoch 39/50\n",
            "40/40 [==============================] - 0s 2ms/step - loss: 0.1076 - val_loss: 0.1547\n",
            "Epoch 40/50\n",
            "40/40 [==============================] - 0s 1ms/step - loss: 0.1080 - val_loss: 0.1583\n",
            "Epoch 41/50\n",
            "40/40 [==============================] - 0s 1ms/step - loss: 0.1067 - val_loss: 0.1545\n",
            "Epoch 42/50\n",
            "40/40 [==============================] - 0s 1ms/step - loss: 0.1065 - val_loss: 0.1569\n",
            "Epoch 43/50\n",
            "40/40 [==============================] - 0s 1ms/step - loss: 0.1060 - val_loss: 0.1539\n",
            "Epoch 44/50\n",
            "40/40 [==============================] - 0s 2ms/step - loss: 0.1047 - val_loss: 0.1551\n",
            "Epoch 45/50\n",
            "40/40 [==============================] - 0s 2ms/step - loss: 0.1064 - val_loss: 0.1554\n",
            "Epoch 46/50\n",
            "40/40 [==============================] - 0s 2ms/step - loss: 0.1040 - val_loss: 0.1533\n",
            "Epoch 47/50\n",
            "40/40 [==============================] - 0s 2ms/step - loss: 0.1030 - val_loss: 0.1569\n",
            "Epoch 48/50\n",
            "40/40 [==============================] - 0s 1ms/step - loss: 0.1034 - val_loss: 0.1556\n",
            "Epoch 49/50\n",
            "40/40 [==============================] - 0s 1ms/step - loss: 0.1025 - val_loss: 0.1552\n",
            "Epoch 50/50\n",
            "40/40 [==============================] - 0s 1ms/step - loss: 0.1021 - val_loss: 0.1577\n"
          ],
          "name": "stdout"
        },
        {
          "output_type": "execute_result",
          "data": {
            "text/plain": [
              "<tensorflow.python.keras.callbacks.History at 0x7efbab65e518>"
            ]
          },
          "metadata": {
            "tags": []
          },
          "execution_count": 340
        }
      ]
    },
    {
      "cell_type": "code",
      "metadata": {
        "id": "h86IPhQ25iix",
        "outputId": "baee161e-894e-4142-820e-416d2fc109c0",
        "colab": {
          "base_uri": "https://localhost:8080/",
          "height": 122
        }
      },
      "source": [
        "predictions = deeper_model.predict(feature_test)\n",
        "predictions = predictions.flatten()\n",
        "\n",
        "mse = mean_squared_error(label_test, predictions)\n",
        "mae = mean_absolute_error(label_test, predictions)\n",
        "r2 = r2_score(label_test, predictions)\n",
        "print(\"MSE (Mean Squared Error)\", mse)\n",
        "print(\"MAE (Mean Absolute Error)\", mae)\n",
        "print(\"r^2 score\", r2)\n",
        "print('RMSE (Root Mean Squared Error', np.sqrt(mean_squared_error(label_test, predictions)))"
      ],
      "execution_count": 341,
      "outputs": [
        {
          "output_type": "stream",
          "text": [
            "WARNING:tensorflow:5 out of the last 13 calls to <function Model.make_predict_function.<locals>.predict_function at 0x7efbabf7e8c8> triggered tf.function retracing. Tracing is expensive and the excessive number of tracings could be due to (1) creating @tf.function repeatedly in a loop, (2) passing tensors with different shapes, (3) passing Python objects instead of tensors. For (1), please define your @tf.function outside of the loop. For (2), @tf.function has experimental_relax_shapes=True option that relaxes argument shapes that can avoid unnecessary retracing. For (3), please refer to https://www.tensorflow.org/tutorials/customization/performance#python_or_tensor_args and https://www.tensorflow.org/api_docs/python/tf/function for  more details.\n",
            "MSE (Mean Squared Error) 0.1576851553540551\n",
            "MAE (Mean Absolute Error) 0.3070258370985159\n",
            "r^2 score 0.842879213761671\n",
            "RMSE (Root Mean Squared Error 0.39709590196079225\n"
          ],
          "name": "stdout"
        }
      ]
    },
    {
      "cell_type": "markdown",
      "metadata": {
        "id": "mhI5GNRM5n9Q"
      },
      "source": [
        "## **Wider Model DL**"
      ]
    },
    {
      "cell_type": "code",
      "metadata": {
        "id": "hfxp5yDv5nM0",
        "outputId": "8225a74e-b8bf-486d-9f7b-153e9b31df86",
        "colab": {
          "base_uri": "https://localhost:8080/",
          "height": 1000
        }
      },
      "source": [
        "wider_model = Sequential()\n",
        "wider_model.add(Dense(20,input_dim=7, kernel_initializer='normal', activation='relu'))\n",
        "wider_model.add(Dense(1, kernel_initializer='normal'))\n",
        "\n",
        "wider_model.compile(loss='mean_squared_error', optimizer='adam')\n",
        "\n",
        "history = wider_model.fit(x=feature_train, y=label_train, validation_data=(feature_test, label_test), epochs=100, batch_size=8)"
      ],
      "execution_count": 342,
      "outputs": [
        {
          "output_type": "stream",
          "text": [
            "Epoch 1/100\n",
            "40/40 [==============================] - 0s 4ms/step - loss: 0.8721 - val_loss: 0.7654\n",
            "Epoch 2/100\n",
            "40/40 [==============================] - 0s 2ms/step - loss: 0.5862 - val_loss: 0.4404\n",
            "Epoch 3/100\n",
            "40/40 [==============================] - 0s 2ms/step - loss: 0.3141 - val_loss: 0.2822\n",
            "Epoch 4/100\n",
            "40/40 [==============================] - 0s 2ms/step - loss: 0.2335 - val_loss: 0.2528\n",
            "Epoch 5/100\n",
            "40/40 [==============================] - 0s 2ms/step - loss: 0.2079 - val_loss: 0.2327\n",
            "Epoch 6/100\n",
            "40/40 [==============================] - 0s 2ms/step - loss: 0.1888 - val_loss: 0.2137\n",
            "Epoch 7/100\n",
            "40/40 [==============================] - 0s 2ms/step - loss: 0.1733 - val_loss: 0.2004\n",
            "Epoch 8/100\n",
            "40/40 [==============================] - 0s 2ms/step - loss: 0.1592 - val_loss: 0.1902\n",
            "Epoch 9/100\n",
            "40/40 [==============================] - 0s 1ms/step - loss: 0.1478 - val_loss: 0.1827\n",
            "Epoch 10/100\n",
            "40/40 [==============================] - 0s 2ms/step - loss: 0.1390 - val_loss: 0.1764\n",
            "Epoch 11/100\n",
            "40/40 [==============================] - 0s 2ms/step - loss: 0.1343 - val_loss: 0.1779\n",
            "Epoch 12/100\n",
            "40/40 [==============================] - 0s 2ms/step - loss: 0.1301 - val_loss: 0.1702\n",
            "Epoch 13/100\n",
            "40/40 [==============================] - 0s 2ms/step - loss: 0.1263 - val_loss: 0.1670\n",
            "Epoch 14/100\n",
            "40/40 [==============================] - 0s 2ms/step - loss: 0.1238 - val_loss: 0.1630\n",
            "Epoch 15/100\n",
            "40/40 [==============================] - 0s 2ms/step - loss: 0.1218 - val_loss: 0.1639\n",
            "Epoch 16/100\n",
            "40/40 [==============================] - 0s 2ms/step - loss: 0.1205 - val_loss: 0.1671\n",
            "Epoch 17/100\n",
            "40/40 [==============================] - 0s 2ms/step - loss: 0.1202 - val_loss: 0.1638\n",
            "Epoch 18/100\n",
            "40/40 [==============================] - 0s 2ms/step - loss: 0.1162 - val_loss: 0.1618\n",
            "Epoch 19/100\n",
            "40/40 [==============================] - 0s 1ms/step - loss: 0.1154 - val_loss: 0.1610\n",
            "Epoch 20/100\n",
            "40/40 [==============================] - 0s 1ms/step - loss: 0.1135 - val_loss: 0.1603\n",
            "Epoch 21/100\n",
            "40/40 [==============================] - 0s 1ms/step - loss: 0.1129 - val_loss: 0.1563\n",
            "Epoch 22/100\n",
            "40/40 [==============================] - 0s 2ms/step - loss: 0.1114 - val_loss: 0.1595\n",
            "Epoch 23/100\n",
            "40/40 [==============================] - 0s 2ms/step - loss: 0.1110 - val_loss: 0.1558\n",
            "Epoch 24/100\n",
            "40/40 [==============================] - 0s 1ms/step - loss: 0.1108 - val_loss: 0.1566\n",
            "Epoch 25/100\n",
            "40/40 [==============================] - 0s 1ms/step - loss: 0.1107 - val_loss: 0.1560\n",
            "Epoch 26/100\n",
            "40/40 [==============================] - 0s 2ms/step - loss: 0.1088 - val_loss: 0.1596\n",
            "Epoch 27/100\n",
            "40/40 [==============================] - 0s 1ms/step - loss: 0.1082 - val_loss: 0.1533\n",
            "Epoch 28/100\n",
            "40/40 [==============================] - 0s 2ms/step - loss: 0.1083 - val_loss: 0.1529\n",
            "Epoch 29/100\n",
            "40/40 [==============================] - 0s 2ms/step - loss: 0.1070 - val_loss: 0.1541\n",
            "Epoch 30/100\n",
            "40/40 [==============================] - 0s 2ms/step - loss: 0.1063 - val_loss: 0.1580\n",
            "Epoch 31/100\n",
            "40/40 [==============================] - 0s 2ms/step - loss: 0.1065 - val_loss: 0.1534\n",
            "Epoch 32/100\n",
            "40/40 [==============================] - 0s 2ms/step - loss: 0.1070 - val_loss: 0.1604\n",
            "Epoch 33/100\n",
            "40/40 [==============================] - 0s 2ms/step - loss: 0.1058 - val_loss: 0.1506\n",
            "Epoch 34/100\n",
            "40/40 [==============================] - 0s 2ms/step - loss: 0.1051 - val_loss: 0.1544\n",
            "Epoch 35/100\n",
            "40/40 [==============================] - 0s 2ms/step - loss: 0.1052 - val_loss: 0.1556\n",
            "Epoch 36/100\n",
            "40/40 [==============================] - 0s 2ms/step - loss: 0.1045 - val_loss: 0.1553\n",
            "Epoch 37/100\n",
            "40/40 [==============================] - 0s 1ms/step - loss: 0.1052 - val_loss: 0.1541\n",
            "Epoch 38/100\n",
            "40/40 [==============================] - 0s 2ms/step - loss: 0.1038 - val_loss: 0.1533\n",
            "Epoch 39/100\n",
            "40/40 [==============================] - 0s 1ms/step - loss: 0.1041 - val_loss: 0.1527\n",
            "Epoch 40/100\n",
            "40/40 [==============================] - 0s 2ms/step - loss: 0.1034 - val_loss: 0.1496\n",
            "Epoch 41/100\n",
            "40/40 [==============================] - 0s 2ms/step - loss: 0.1033 - val_loss: 0.1545\n",
            "Epoch 42/100\n",
            "40/40 [==============================] - 0s 2ms/step - loss: 0.1027 - val_loss: 0.1549\n",
            "Epoch 43/100\n",
            "40/40 [==============================] - 0s 1ms/step - loss: 0.1019 - val_loss: 0.1538\n",
            "Epoch 44/100\n",
            "40/40 [==============================] - 0s 2ms/step - loss: 0.1038 - val_loss: 0.1571\n",
            "Epoch 45/100\n",
            "40/40 [==============================] - 0s 2ms/step - loss: 0.1018 - val_loss: 0.1523\n",
            "Epoch 46/100\n",
            "40/40 [==============================] - 0s 2ms/step - loss: 0.1020 - val_loss: 0.1519\n",
            "Epoch 47/100\n",
            "40/40 [==============================] - 0s 2ms/step - loss: 0.1015 - val_loss: 0.1520\n",
            "Epoch 48/100\n",
            "40/40 [==============================] - 0s 2ms/step - loss: 0.1026 - val_loss: 0.1482\n",
            "Epoch 49/100\n",
            "40/40 [==============================] - 0s 2ms/step - loss: 0.1022 - val_loss: 0.1506\n",
            "Epoch 50/100\n",
            "40/40 [==============================] - 0s 2ms/step - loss: 0.1013 - val_loss: 0.1539\n",
            "Epoch 51/100\n",
            "40/40 [==============================] - 0s 2ms/step - loss: 0.1015 - val_loss: 0.1533\n",
            "Epoch 52/100\n",
            "40/40 [==============================] - 0s 2ms/step - loss: 0.1014 - val_loss: 0.1514\n",
            "Epoch 53/100\n",
            "40/40 [==============================] - 0s 2ms/step - loss: 0.1010 - val_loss: 0.1572\n",
            "Epoch 54/100\n",
            "40/40 [==============================] - 0s 2ms/step - loss: 0.1023 - val_loss: 0.1522\n",
            "Epoch 55/100\n",
            "40/40 [==============================] - 0s 2ms/step - loss: 0.1009 - val_loss: 0.1492\n",
            "Epoch 56/100\n",
            "40/40 [==============================] - 0s 2ms/step - loss: 0.1024 - val_loss: 0.1488\n",
            "Epoch 57/100\n",
            "40/40 [==============================] - 0s 2ms/step - loss: 0.1017 - val_loss: 0.1511\n",
            "Epoch 58/100\n",
            "40/40 [==============================] - 0s 2ms/step - loss: 0.0994 - val_loss: 0.1515\n",
            "Epoch 59/100\n",
            "40/40 [==============================] - 0s 2ms/step - loss: 0.0997 - val_loss: 0.1542\n",
            "Epoch 60/100\n",
            "40/40 [==============================] - 0s 2ms/step - loss: 0.1000 - val_loss: 0.1480\n",
            "Epoch 61/100\n",
            "40/40 [==============================] - 0s 2ms/step - loss: 0.0992 - val_loss: 0.1518\n",
            "Epoch 62/100\n",
            "40/40 [==============================] - 0s 2ms/step - loss: 0.0994 - val_loss: 0.1551\n",
            "Epoch 63/100\n",
            "40/40 [==============================] - 0s 2ms/step - loss: 0.1001 - val_loss: 0.1570\n",
            "Epoch 64/100\n",
            "40/40 [==============================] - 0s 2ms/step - loss: 0.0985 - val_loss: 0.1497\n",
            "Epoch 65/100\n",
            "40/40 [==============================] - 0s 2ms/step - loss: 0.0990 - val_loss: 0.1541\n",
            "Epoch 66/100\n",
            "40/40 [==============================] - 0s 2ms/step - loss: 0.0977 - val_loss: 0.1507\n",
            "Epoch 67/100\n",
            "40/40 [==============================] - 0s 2ms/step - loss: 0.0985 - val_loss: 0.1542\n",
            "Epoch 68/100\n",
            "40/40 [==============================] - 0s 2ms/step - loss: 0.0973 - val_loss: 0.1506\n",
            "Epoch 69/100\n",
            "40/40 [==============================] - 0s 2ms/step - loss: 0.0978 - val_loss: 0.1535\n",
            "Epoch 70/100\n",
            "40/40 [==============================] - 0s 2ms/step - loss: 0.0984 - val_loss: 0.1607\n",
            "Epoch 71/100\n",
            "40/40 [==============================] - 0s 1ms/step - loss: 0.0998 - val_loss: 0.1591\n",
            "Epoch 72/100\n",
            "40/40 [==============================] - 0s 1ms/step - loss: 0.0977 - val_loss: 0.1535\n",
            "Epoch 73/100\n",
            "40/40 [==============================] - 0s 2ms/step - loss: 0.0979 - val_loss: 0.1507\n",
            "Epoch 74/100\n",
            "40/40 [==============================] - 0s 2ms/step - loss: 0.0977 - val_loss: 0.1569\n",
            "Epoch 75/100\n",
            "40/40 [==============================] - 0s 2ms/step - loss: 0.0969 - val_loss: 0.1503\n",
            "Epoch 76/100\n",
            "40/40 [==============================] - 0s 2ms/step - loss: 0.0967 - val_loss: 0.1492\n",
            "Epoch 77/100\n",
            "40/40 [==============================] - 0s 2ms/step - loss: 0.0983 - val_loss: 0.1456\n",
            "Epoch 78/100\n",
            "40/40 [==============================] - 0s 2ms/step - loss: 0.0964 - val_loss: 0.1513\n",
            "Epoch 79/100\n",
            "40/40 [==============================] - 0s 2ms/step - loss: 0.0963 - val_loss: 0.1488\n",
            "Epoch 80/100\n",
            "40/40 [==============================] - 0s 1ms/step - loss: 0.0957 - val_loss: 0.1554\n",
            "Epoch 81/100\n",
            "40/40 [==============================] - 0s 2ms/step - loss: 0.0967 - val_loss: 0.1467\n",
            "Epoch 82/100\n",
            "40/40 [==============================] - 0s 2ms/step - loss: 0.0950 - val_loss: 0.1508\n",
            "Epoch 83/100\n",
            "40/40 [==============================] - 0s 2ms/step - loss: 0.0961 - val_loss: 0.1522\n",
            "Epoch 84/100\n",
            "40/40 [==============================] - 0s 2ms/step - loss: 0.0958 - val_loss: 0.1534\n",
            "Epoch 85/100\n",
            "40/40 [==============================] - 0s 2ms/step - loss: 0.0948 - val_loss: 0.1469\n",
            "Epoch 86/100\n",
            "40/40 [==============================] - 0s 1ms/step - loss: 0.0950 - val_loss: 0.1596\n",
            "Epoch 87/100\n",
            "40/40 [==============================] - 0s 2ms/step - loss: 0.0969 - val_loss: 0.1486\n",
            "Epoch 88/100\n",
            "40/40 [==============================] - 0s 2ms/step - loss: 0.0948 - val_loss: 0.1490\n",
            "Epoch 89/100\n",
            "40/40 [==============================] - 0s 2ms/step - loss: 0.0945 - val_loss: 0.1556\n",
            "Epoch 90/100\n",
            "40/40 [==============================] - 0s 2ms/step - loss: 0.0946 - val_loss: 0.1449\n",
            "Epoch 91/100\n",
            "40/40 [==============================] - 0s 2ms/step - loss: 0.0940 - val_loss: 0.1494\n",
            "Epoch 92/100\n",
            "40/40 [==============================] - 0s 2ms/step - loss: 0.0961 - val_loss: 0.1514\n",
            "Epoch 93/100\n",
            "40/40 [==============================] - 0s 2ms/step - loss: 0.0947 - val_loss: 0.1500\n",
            "Epoch 94/100\n",
            "40/40 [==============================] - 0s 2ms/step - loss: 0.0946 - val_loss: 0.1492\n",
            "Epoch 95/100\n",
            "40/40 [==============================] - 0s 2ms/step - loss: 0.0938 - val_loss: 0.1470\n",
            "Epoch 96/100\n",
            "40/40 [==============================] - 0s 2ms/step - loss: 0.0953 - val_loss: 0.1464\n",
            "Epoch 97/100\n",
            "40/40 [==============================] - 0s 2ms/step - loss: 0.0947 - val_loss: 0.1540\n",
            "Epoch 98/100\n",
            "40/40 [==============================] - 0s 2ms/step - loss: 0.0931 - val_loss: 0.1489\n",
            "Epoch 99/100\n",
            "40/40 [==============================] - 0s 1ms/step - loss: 0.0934 - val_loss: 0.1503\n",
            "Epoch 100/100\n",
            "40/40 [==============================] - 0s 2ms/step - loss: 0.0931 - val_loss: 0.1485\n"
          ],
          "name": "stdout"
        }
      ]
    },
    {
      "cell_type": "code",
      "metadata": {
        "id": "tgkMPhT063sq",
        "outputId": "ba54b674-6d81-4531-c25c-5d526298b6a4",
        "colab": {
          "base_uri": "https://localhost:8080/",
          "height": 122
        }
      },
      "source": [
        "predictions = wider_model.predict(feature_test)\n",
        "predictions = predictions.flatten()\n",
        "\n",
        "mse = mean_squared_error(label_test, predictions)\n",
        "mae = mean_absolute_error(label_test, predictions)\n",
        "r2 = r2_score(label_test, predictions)\n",
        "print(\"MSE (Mean Squared Error)\", mse)\n",
        "print(\"MAE (Mean Absolute Error)\", mae)\n",
        "print(\"r^2 score\", r2)\n",
        "print('RMSE (Root Mean Squared Error', np.sqrt(mean_squared_error(label_test, predictions)))"
      ],
      "execution_count": 343,
      "outputs": [
        {
          "output_type": "stream",
          "text": [
            "WARNING:tensorflow:5 out of the last 13 calls to <function Model.make_predict_function.<locals>.predict_function at 0x7efbae9ab510> triggered tf.function retracing. Tracing is expensive and the excessive number of tracings could be due to (1) creating @tf.function repeatedly in a loop, (2) passing tensors with different shapes, (3) passing Python objects instead of tensors. For (1), please define your @tf.function outside of the loop. For (2), @tf.function has experimental_relax_shapes=True option that relaxes argument shapes that can avoid unnecessary retracing. For (3), please refer to https://www.tensorflow.org/tutorials/customization/performance#python_or_tensor_args and https://www.tensorflow.org/api_docs/python/tf/function for  more details.\n",
            "MSE (Mean Squared Error) 0.14851992723902346\n",
            "MAE (Mean Absolute Error) 0.2919318463297486\n",
            "r^2 score 0.8520116387147619\n",
            "RMSE (Root Mean Squared Error 0.3853828320501881\n"
          ],
          "name": "stdout"
        }
      ]
    },
    {
      "cell_type": "code",
      "metadata": {
        "id": "yUB62LGt7Pz6"
      },
      "source": [
        "def plot_loss(history):\n",
        "  plt.plot(history.history['loss'], label='loss')\n",
        "  plt.plot(history.history['val_loss'], label='val_loss')\n",
        "  plt.xlabel('Epoch')\n",
        "  plt.ylabel('Loss (MSE)')\n",
        "  plt.legend()\n",
        "  plt.grid(True)"
      ],
      "execution_count": 344,
      "outputs": []
    },
    {
      "cell_type": "code",
      "metadata": {
        "id": "vkPCFAle7Q_C",
        "outputId": "3ab20a62-69fd-400c-e26a-3405cd644989",
        "colab": {
          "base_uri": "https://localhost:8080/",
          "height": 419
        }
      },
      "source": [
        "history_dataframe = pd.DataFrame(history.history)\n",
        "history_dataframe['epoch'] = history.epoch\n",
        "history_dataframe"
      ],
      "execution_count": 345,
      "outputs": [
        {
          "output_type": "execute_result",
          "data": {
            "text/html": [
              "<div>\n",
              "<style scoped>\n",
              "    .dataframe tbody tr th:only-of-type {\n",
              "        vertical-align: middle;\n",
              "    }\n",
              "\n",
              "    .dataframe tbody tr th {\n",
              "        vertical-align: top;\n",
              "    }\n",
              "\n",
              "    .dataframe thead th {\n",
              "        text-align: right;\n",
              "    }\n",
              "</style>\n",
              "<table border=\"1\" class=\"dataframe\">\n",
              "  <thead>\n",
              "    <tr style=\"text-align: right;\">\n",
              "      <th></th>\n",
              "      <th>loss</th>\n",
              "      <th>val_loss</th>\n",
              "      <th>epoch</th>\n",
              "    </tr>\n",
              "  </thead>\n",
              "  <tbody>\n",
              "    <tr>\n",
              "      <th>0</th>\n",
              "      <td>0.872061</td>\n",
              "      <td>0.765351</td>\n",
              "      <td>0</td>\n",
              "    </tr>\n",
              "    <tr>\n",
              "      <th>1</th>\n",
              "      <td>0.586248</td>\n",
              "      <td>0.440375</td>\n",
              "      <td>1</td>\n",
              "    </tr>\n",
              "    <tr>\n",
              "      <th>2</th>\n",
              "      <td>0.314134</td>\n",
              "      <td>0.282195</td>\n",
              "      <td>2</td>\n",
              "    </tr>\n",
              "    <tr>\n",
              "      <th>3</th>\n",
              "      <td>0.233519</td>\n",
              "      <td>0.252825</td>\n",
              "      <td>3</td>\n",
              "    </tr>\n",
              "    <tr>\n",
              "      <th>4</th>\n",
              "      <td>0.207878</td>\n",
              "      <td>0.232710</td>\n",
              "      <td>4</td>\n",
              "    </tr>\n",
              "    <tr>\n",
              "      <th>...</th>\n",
              "      <td>...</td>\n",
              "      <td>...</td>\n",
              "      <td>...</td>\n",
              "    </tr>\n",
              "    <tr>\n",
              "      <th>95</th>\n",
              "      <td>0.095252</td>\n",
              "      <td>0.146405</td>\n",
              "      <td>95</td>\n",
              "    </tr>\n",
              "    <tr>\n",
              "      <th>96</th>\n",
              "      <td>0.094707</td>\n",
              "      <td>0.154047</td>\n",
              "      <td>96</td>\n",
              "    </tr>\n",
              "    <tr>\n",
              "      <th>97</th>\n",
              "      <td>0.093074</td>\n",
              "      <td>0.148913</td>\n",
              "      <td>97</td>\n",
              "    </tr>\n",
              "    <tr>\n",
              "      <th>98</th>\n",
              "      <td>0.093423</td>\n",
              "      <td>0.150290</td>\n",
              "      <td>98</td>\n",
              "    </tr>\n",
              "    <tr>\n",
              "      <th>99</th>\n",
              "      <td>0.093061</td>\n",
              "      <td>0.148520</td>\n",
              "      <td>99</td>\n",
              "    </tr>\n",
              "  </tbody>\n",
              "</table>\n",
              "<p>100 rows × 3 columns</p>\n",
              "</div>"
            ],
            "text/plain": [
              "        loss  val_loss  epoch\n",
              "0   0.872061  0.765351      0\n",
              "1   0.586248  0.440375      1\n",
              "2   0.314134  0.282195      2\n",
              "3   0.233519  0.252825      3\n",
              "4   0.207878  0.232710      4\n",
              "..       ...       ...    ...\n",
              "95  0.095252  0.146405     95\n",
              "96  0.094707  0.154047     96\n",
              "97  0.093074  0.148913     97\n",
              "98  0.093423  0.150290     98\n",
              "99  0.093061  0.148520     99\n",
              "\n",
              "[100 rows x 3 columns]"
            ]
          },
          "metadata": {
            "tags": []
          },
          "execution_count": 345
        }
      ]
    },
    {
      "cell_type": "code",
      "metadata": {
        "id": "2Rupgn9opHD3",
        "outputId": "f4d8563c-0cd5-4525-893a-83a02e3851bc",
        "colab": {
          "base_uri": "https://localhost:8080/",
          "height": 419
        }
      },
      "source": [
        "history_dataframe.sort_values(by='val_loss', ascending=True)"
      ],
      "execution_count": 346,
      "outputs": [
        {
          "output_type": "execute_result",
          "data": {
            "text/html": [
              "<div>\n",
              "<style scoped>\n",
              "    .dataframe tbody tr th:only-of-type {\n",
              "        vertical-align: middle;\n",
              "    }\n",
              "\n",
              "    .dataframe tbody tr th {\n",
              "        vertical-align: top;\n",
              "    }\n",
              "\n",
              "    .dataframe thead th {\n",
              "        text-align: right;\n",
              "    }\n",
              "</style>\n",
              "<table border=\"1\" class=\"dataframe\">\n",
              "  <thead>\n",
              "    <tr style=\"text-align: right;\">\n",
              "      <th></th>\n",
              "      <th>loss</th>\n",
              "      <th>val_loss</th>\n",
              "      <th>epoch</th>\n",
              "    </tr>\n",
              "  </thead>\n",
              "  <tbody>\n",
              "    <tr>\n",
              "      <th>89</th>\n",
              "      <td>0.094586</td>\n",
              "      <td>0.144865</td>\n",
              "      <td>89</td>\n",
              "    </tr>\n",
              "    <tr>\n",
              "      <th>76</th>\n",
              "      <td>0.098287</td>\n",
              "      <td>0.145587</td>\n",
              "      <td>76</td>\n",
              "    </tr>\n",
              "    <tr>\n",
              "      <th>95</th>\n",
              "      <td>0.095252</td>\n",
              "      <td>0.146405</td>\n",
              "      <td>95</td>\n",
              "    </tr>\n",
              "    <tr>\n",
              "      <th>80</th>\n",
              "      <td>0.096699</td>\n",
              "      <td>0.146677</td>\n",
              "      <td>80</td>\n",
              "    </tr>\n",
              "    <tr>\n",
              "      <th>84</th>\n",
              "      <td>0.094827</td>\n",
              "      <td>0.146909</td>\n",
              "      <td>84</td>\n",
              "    </tr>\n",
              "    <tr>\n",
              "      <th>...</th>\n",
              "      <td>...</td>\n",
              "      <td>...</td>\n",
              "      <td>...</td>\n",
              "    </tr>\n",
              "    <tr>\n",
              "      <th>4</th>\n",
              "      <td>0.207878</td>\n",
              "      <td>0.232710</td>\n",
              "      <td>4</td>\n",
              "    </tr>\n",
              "    <tr>\n",
              "      <th>3</th>\n",
              "      <td>0.233519</td>\n",
              "      <td>0.252825</td>\n",
              "      <td>3</td>\n",
              "    </tr>\n",
              "    <tr>\n",
              "      <th>2</th>\n",
              "      <td>0.314134</td>\n",
              "      <td>0.282195</td>\n",
              "      <td>2</td>\n",
              "    </tr>\n",
              "    <tr>\n",
              "      <th>1</th>\n",
              "      <td>0.586248</td>\n",
              "      <td>0.440375</td>\n",
              "      <td>1</td>\n",
              "    </tr>\n",
              "    <tr>\n",
              "      <th>0</th>\n",
              "      <td>0.872061</td>\n",
              "      <td>0.765351</td>\n",
              "      <td>0</td>\n",
              "    </tr>\n",
              "  </tbody>\n",
              "</table>\n",
              "<p>100 rows × 3 columns</p>\n",
              "</div>"
            ],
            "text/plain": [
              "        loss  val_loss  epoch\n",
              "89  0.094586  0.144865     89\n",
              "76  0.098287  0.145587     76\n",
              "95  0.095252  0.146405     95\n",
              "80  0.096699  0.146677     80\n",
              "84  0.094827  0.146909     84\n",
              "..       ...       ...    ...\n",
              "4   0.207878  0.232710      4\n",
              "3   0.233519  0.252825      3\n",
              "2   0.314134  0.282195      2\n",
              "1   0.586248  0.440375      1\n",
              "0   0.872061  0.765351      0\n",
              "\n",
              "[100 rows x 3 columns]"
            ]
          },
          "metadata": {
            "tags": []
          },
          "execution_count": 346
        }
      ]
    },
    {
      "cell_type": "code",
      "metadata": {
        "id": "_2rnNXWY7Wmq",
        "outputId": "d2c3ba6a-ec0a-4657-9bc5-95b6645290d2",
        "colab": {
          "base_uri": "https://localhost:8080/",
          "height": 281
        }
      },
      "source": [
        "plot_loss(history) # epoch vs loss graph"
      ],
      "execution_count": 347,
      "outputs": [
        {
          "output_type": "display_data",
          "data": {
            "image/png": "[encoded data removed]",
            "text/plain": [
              "<Figure size 432x288 with 1 Axes>"
            ]
          },
          "metadata": {
            "tags": [],
            "needs_background": "light"
          }
        }
      ]
    },
    {
      "cell_type": "markdown",
      "metadata": {
        "id": "7TDa0NNzj2H3"
      },
      "source": [
        "### **Optimizer SGD**"
      ]
    },
    {
      "cell_type": "code",
      "metadata": {
        "id": "LJS7Hqjbj1QI",
        "outputId": "4bcc08b7-19af-4bb5-a507-eebcb193d9f5",
        "colab": {
          "base_uri": "https://localhost:8080/",
          "height": 221
        }
      },
      "source": [
        "wider_model_tuned = Sequential()\n",
        "wider_model_tuned.add(Dense(20,input_dim=7, kernel_initializer='normal', activation='relu'))\n",
        "wider_model_tuned.add(Dense(1, kernel_initializer='normal'))\n",
        "\n",
        "opt = SGD(lr=0.001, momentum=0.9)\n",
        "\n",
        "wider_model_tuned.compile(loss='mean_squared_error', optimizer=opt)\n",
        "\n",
        "wider_model_tuned.summary()"
      ],
      "execution_count": 348,
      "outputs": [
        {
          "output_type": "stream",
          "text": [
            "Model: \"sequential_53\"\n",
            "_________________________________________________________________\n",
            "Layer (type)                 Output Shape              Param #   \n",
            "=================================================================\n",
            "dense_117 (Dense)            (None, 20)                160       \n",
            "_________________________________________________________________\n",
            "dense_118 (Dense)            (None, 1)                 21        \n",
            "=================================================================\n",
            "Total params: 181\n",
            "Trainable params: 181\n",
            "Non-trainable params: 0\n",
            "_________________________________________________________________\n"
          ],
          "name": "stdout"
        }
      ]
    },
    {
      "cell_type": "code",
      "metadata": {
        "id": "TEbFbfYAkF2d",
        "outputId": "cae6b288-18a7-4c42-8a33-e89dfe1d3a2e",
        "colab": {
          "base_uri": "https://localhost:8080/",
          "height": 1000
        }
      },
      "source": [
        "history_tuned = wider_model_tuned.fit(x=feature_train, y=label_train, validation_data=(feature_test, label_test), epochs=100, batch_size=8)"
      ],
      "execution_count": 349,
      "outputs": [
        {
          "output_type": "stream",
          "text": [
            "Epoch 1/100\n",
            "40/40 [==============================] - 0s 3ms/step - loss: 0.9430 - val_loss: 0.8600\n",
            "Epoch 2/100\n",
            "40/40 [==============================] - 0s 1ms/step - loss: 0.7297 - val_loss: 0.5737\n",
            "Epoch 3/100\n",
            "40/40 [==============================] - 0s 2ms/step - loss: 0.4391 - val_loss: 0.3365\n",
            "Epoch 4/100\n",
            "40/40 [==============================] - 0s 2ms/step - loss: 0.2775 - val_loss: 0.2754\n",
            "Epoch 5/100\n",
            "40/40 [==============================] - 0s 1ms/step - loss: 0.2311 - val_loss: 0.2519\n",
            "Epoch 6/100\n",
            "40/40 [==============================] - 0s 2ms/step - loss: 0.2083 - val_loss: 0.2296\n",
            "Epoch 7/100\n",
            "40/40 [==============================] - 0s 2ms/step - loss: 0.1886 - val_loss: 0.2147\n",
            "Epoch 8/100\n",
            "40/40 [==============================] - 0s 2ms/step - loss: 0.1754 - val_loss: 0.2038\n",
            "Epoch 9/100\n",
            "40/40 [==============================] - 0s 1ms/step - loss: 0.1647 - val_loss: 0.1969\n",
            "Epoch 10/100\n",
            "40/40 [==============================] - 0s 2ms/step - loss: 0.1566 - val_loss: 0.1876\n",
            "Epoch 11/100\n",
            "40/40 [==============================] - 0s 2ms/step - loss: 0.1516 - val_loss: 0.1830\n",
            "Epoch 12/100\n",
            "40/40 [==============================] - 0s 1ms/step - loss: 0.1464 - val_loss: 0.1779\n",
            "Epoch 13/100\n",
            "40/40 [==============================] - 0s 1ms/step - loss: 0.1439 - val_loss: 0.1737\n",
            "Epoch 14/100\n",
            "40/40 [==============================] - 0s 1ms/step - loss: 0.1398 - val_loss: 0.1736\n",
            "Epoch 15/100\n",
            "40/40 [==============================] - 0s 1ms/step - loss: 0.1384 - val_loss: 0.1725\n",
            "Epoch 16/100\n",
            "40/40 [==============================] - 0s 1ms/step - loss: 0.1357 - val_loss: 0.1706\n",
            "Epoch 17/100\n",
            "40/40 [==============================] - 0s 2ms/step - loss: 0.1339 - val_loss: 0.1647\n",
            "Epoch 18/100\n",
            "40/40 [==============================] - 0s 1ms/step - loss: 0.1327 - val_loss: 0.1652\n",
            "Epoch 19/100\n",
            "40/40 [==============================] - 0s 1ms/step - loss: 0.1310 - val_loss: 0.1647\n",
            "Epoch 20/100\n",
            "40/40 [==============================] - 0s 2ms/step - loss: 0.1292 - val_loss: 0.1654\n",
            "Epoch 21/100\n",
            "40/40 [==============================] - 0s 1ms/step - loss: 0.1279 - val_loss: 0.1620\n",
            "Epoch 22/100\n",
            "40/40 [==============================] - 0s 1ms/step - loss: 0.1267 - val_loss: 0.1626\n",
            "Epoch 23/100\n",
            "40/40 [==============================] - 0s 1ms/step - loss: 0.1266 - val_loss: 0.1657\n",
            "Epoch 24/100\n",
            "40/40 [==============================] - 0s 2ms/step - loss: 0.1245 - val_loss: 0.1598\n",
            "Epoch 25/100\n",
            "40/40 [==============================] - 0s 2ms/step - loss: 0.1234 - val_loss: 0.1606\n",
            "Epoch 26/100\n",
            "40/40 [==============================] - 0s 2ms/step - loss: 0.1224 - val_loss: 0.1605\n",
            "Epoch 27/100\n",
            "40/40 [==============================] - 0s 1ms/step - loss: 0.1237 - val_loss: 0.1571\n",
            "Epoch 28/100\n",
            "40/40 [==============================] - 0s 2ms/step - loss: 0.1208 - val_loss: 0.1616\n",
            "Epoch 29/100\n",
            "40/40 [==============================] - 0s 1ms/step - loss: 0.1205 - val_loss: 0.1567\n",
            "Epoch 30/100\n",
            "40/40 [==============================] - 0s 1ms/step - loss: 0.1194 - val_loss: 0.1594\n",
            "Epoch 31/100\n",
            "40/40 [==============================] - 0s 2ms/step - loss: 0.1183 - val_loss: 0.1562\n",
            "Epoch 32/100\n",
            "40/40 [==============================] - 0s 2ms/step - loss: 0.1179 - val_loss: 0.1579\n",
            "Epoch 33/100\n",
            "40/40 [==============================] - 0s 1ms/step - loss: 0.1171 - val_loss: 0.1586\n",
            "Epoch 34/100\n",
            "40/40 [==============================] - 0s 1ms/step - loss: 0.1167 - val_loss: 0.1580\n",
            "Epoch 35/100\n",
            "40/40 [==============================] - 0s 2ms/step - loss: 0.1157 - val_loss: 0.1595\n",
            "Epoch 36/100\n",
            "40/40 [==============================] - 0s 2ms/step - loss: 0.1156 - val_loss: 0.1570\n",
            "Epoch 37/100\n",
            "40/40 [==============================] - 0s 1ms/step - loss: 0.1154 - val_loss: 0.1545\n",
            "Epoch 38/100\n",
            "40/40 [==============================] - 0s 2ms/step - loss: 0.1150 - val_loss: 0.1532\n",
            "Epoch 39/100\n",
            "40/40 [==============================] - 0s 1ms/step - loss: 0.1138 - val_loss: 0.1614\n",
            "Epoch 40/100\n",
            "40/40 [==============================] - 0s 2ms/step - loss: 0.1139 - val_loss: 0.1594\n",
            "Epoch 41/100\n",
            "40/40 [==============================] - 0s 1ms/step - loss: 0.1131 - val_loss: 0.1546\n",
            "Epoch 42/100\n",
            "40/40 [==============================] - 0s 2ms/step - loss: 0.1127 - val_loss: 0.1576\n",
            "Epoch 43/100\n",
            "40/40 [==============================] - 0s 1ms/step - loss: 0.1117 - val_loss: 0.1591\n",
            "Epoch 44/100\n",
            "40/40 [==============================] - 0s 2ms/step - loss: 0.1114 - val_loss: 0.1561\n",
            "Epoch 45/100\n",
            "40/40 [==============================] - 0s 1ms/step - loss: 0.1110 - val_loss: 0.1551\n",
            "Epoch 46/100\n",
            "40/40 [==============================] - 0s 1ms/step - loss: 0.1110 - val_loss: 0.1574\n",
            "Epoch 47/100\n",
            "40/40 [==============================] - 0s 1ms/step - loss: 0.1104 - val_loss: 0.1573\n",
            "Epoch 48/100\n",
            "40/40 [==============================] - 0s 1ms/step - loss: 0.1108 - val_loss: 0.1554\n",
            "Epoch 49/100\n",
            "40/40 [==============================] - 0s 2ms/step - loss: 0.1105 - val_loss: 0.1554\n",
            "Epoch 50/100\n",
            "40/40 [==============================] - 0s 2ms/step - loss: 0.1097 - val_loss: 0.1580\n",
            "Epoch 51/100\n",
            "40/40 [==============================] - 0s 2ms/step - loss: 0.1094 - val_loss: 0.1534\n",
            "Epoch 52/100\n",
            "40/40 [==============================] - 0s 1ms/step - loss: 0.1096 - val_loss: 0.1562\n",
            "Epoch 53/100\n",
            "40/40 [==============================] - 0s 1ms/step - loss: 0.1091 - val_loss: 0.1551\n",
            "Epoch 54/100\n",
            "40/40 [==============================] - 0s 1ms/step - loss: 0.1093 - val_loss: 0.1554\n",
            "Epoch 55/100\n",
            "40/40 [==============================] - 0s 1ms/step - loss: 0.1088 - val_loss: 0.1533\n",
            "Epoch 56/100\n",
            "40/40 [==============================] - 0s 1ms/step - loss: 0.1083 - val_loss: 0.1586\n",
            "Epoch 57/100\n",
            "40/40 [==============================] - 0s 2ms/step - loss: 0.1095 - val_loss: 0.1524\n",
            "Epoch 58/100\n",
            "40/40 [==============================] - 0s 1ms/step - loss: 0.1075 - val_loss: 0.1603\n",
            "Epoch 59/100\n",
            "40/40 [==============================] - 0s 1ms/step - loss: 0.1088 - val_loss: 0.1569\n",
            "Epoch 60/100\n",
            "40/40 [==============================] - 0s 2ms/step - loss: 0.1079 - val_loss: 0.1569\n",
            "Epoch 61/100\n",
            "40/40 [==============================] - 0s 2ms/step - loss: 0.1064 - val_loss: 0.1521\n",
            "Epoch 62/100\n",
            "40/40 [==============================] - 0s 2ms/step - loss: 0.1079 - val_loss: 0.1549\n",
            "Epoch 63/100\n",
            "40/40 [==============================] - 0s 2ms/step - loss: 0.1096 - val_loss: 0.1583\n",
            "Epoch 64/100\n",
            "40/40 [==============================] - 0s 2ms/step - loss: 0.1063 - val_loss: 0.1543\n",
            "Epoch 65/100\n",
            "40/40 [==============================] - 0s 1ms/step - loss: 0.1074 - val_loss: 0.1524\n",
            "Epoch 66/100\n",
            "40/40 [==============================] - 0s 2ms/step - loss: 0.1059 - val_loss: 0.1540\n",
            "Epoch 67/100\n",
            "40/40 [==============================] - 0s 1ms/step - loss: 0.1062 - val_loss: 0.1516\n",
            "Epoch 68/100\n",
            "40/40 [==============================] - 0s 1ms/step - loss: 0.1056 - val_loss: 0.1540\n",
            "Epoch 69/100\n",
            "40/40 [==============================] - 0s 2ms/step - loss: 0.1056 - val_loss: 0.1526\n",
            "Epoch 70/100\n",
            "40/40 [==============================] - 0s 1ms/step - loss: 0.1057 - val_loss: 0.1551\n",
            "Epoch 71/100\n",
            "40/40 [==============================] - 0s 2ms/step - loss: 0.1052 - val_loss: 0.1559\n",
            "Epoch 72/100\n",
            "40/40 [==============================] - 0s 1ms/step - loss: 0.1059 - val_loss: 0.1569\n",
            "Epoch 73/100\n",
            "40/40 [==============================] - 0s 2ms/step - loss: 0.1042 - val_loss: 0.1521\n",
            "Epoch 74/100\n",
            "40/40 [==============================] - 0s 2ms/step - loss: 0.1050 - val_loss: 0.1531\n",
            "Epoch 75/100\n",
            "40/40 [==============================] - 0s 1ms/step - loss: 0.1047 - val_loss: 0.1523\n",
            "Epoch 76/100\n",
            "40/40 [==============================] - 0s 1ms/step - loss: 0.1046 - val_loss: 0.1540\n",
            "Epoch 77/100\n",
            "40/40 [==============================] - 0s 1ms/step - loss: 0.1051 - val_loss: 0.1545\n",
            "Epoch 78/100\n",
            "40/40 [==============================] - 0s 2ms/step - loss: 0.1050 - val_loss: 0.1531\n",
            "Epoch 79/100\n",
            "40/40 [==============================] - 0s 2ms/step - loss: 0.1043 - val_loss: 0.1525\n",
            "Epoch 80/100\n",
            "40/40 [==============================] - 0s 2ms/step - loss: 0.1047 - val_loss: 0.1560\n",
            "Epoch 81/100\n",
            "40/40 [==============================] - 0s 2ms/step - loss: 0.1040 - val_loss: 0.1517\n",
            "Epoch 82/100\n",
            "40/40 [==============================] - 0s 2ms/step - loss: 0.1039 - val_loss: 0.1562\n",
            "Epoch 83/100\n",
            "40/40 [==============================] - 0s 1ms/step - loss: 0.1034 - val_loss: 0.1551\n",
            "Epoch 84/100\n",
            "40/40 [==============================] - 0s 2ms/step - loss: 0.1037 - val_loss: 0.1531\n",
            "Epoch 85/100\n",
            "40/40 [==============================] - 0s 1ms/step - loss: 0.1034 - val_loss: 0.1530\n",
            "Epoch 86/100\n",
            "40/40 [==============================] - 0s 1ms/step - loss: 0.1030 - val_loss: 0.1557\n",
            "Epoch 87/100\n",
            "40/40 [==============================] - 0s 2ms/step - loss: 0.1028 - val_loss: 0.1527\n",
            "Epoch 88/100\n",
            "40/40 [==============================] - 0s 2ms/step - loss: 0.1026 - val_loss: 0.1533\n",
            "Epoch 89/100\n",
            "40/40 [==============================] - 0s 1ms/step - loss: 0.1028 - val_loss: 0.1535\n",
            "Epoch 90/100\n",
            "40/40 [==============================] - 0s 2ms/step - loss: 0.1027 - val_loss: 0.1519\n",
            "Epoch 91/100\n",
            "40/40 [==============================] - 0s 2ms/step - loss: 0.1026 - val_loss: 0.1506\n",
            "Epoch 92/100\n",
            "40/40 [==============================] - 0s 2ms/step - loss: 0.1021 - val_loss: 0.1519\n",
            "Epoch 93/100\n",
            "40/40 [==============================] - 0s 2ms/step - loss: 0.1027 - val_loss: 0.1520\n",
            "Epoch 94/100\n",
            "40/40 [==============================] - 0s 2ms/step - loss: 0.1031 - val_loss: 0.1488\n",
            "Epoch 95/100\n",
            "40/40 [==============================] - 0s 2ms/step - loss: 0.1030 - val_loss: 0.1558\n",
            "Epoch 96/100\n",
            "40/40 [==============================] - 0s 1ms/step - loss: 0.1021 - val_loss: 0.1510\n",
            "Epoch 97/100\n",
            "40/40 [==============================] - 0s 1ms/step - loss: 0.1010 - val_loss: 0.1549\n",
            "Epoch 98/100\n",
            "40/40 [==============================] - 0s 1ms/step - loss: 0.1020 - val_loss: 0.1515\n",
            "Epoch 99/100\n",
            "40/40 [==============================] - 0s 1ms/step - loss: 0.1013 - val_loss: 0.1518\n",
            "Epoch 100/100\n",
            "40/40 [==============================] - 0s 1ms/step - loss: 0.1014 - val_loss: 0.1509\n"
          ],
          "name": "stdout"
        }
      ]
    },
    {
      "cell_type": "code",
      "metadata": {
        "id": "y_GR4CHxlIdR",
        "outputId": "9f6e36cb-c311-4dd0-91a3-b7a40d80c234",
        "colab": {
          "base_uri": "https://localhost:8080/",
          "height": 122
        }
      },
      "source": [
        "predictions = wider_model_tuned.predict(feature_test)\n",
        "predictions = predictions.flatten()\n",
        "\n",
        "mse = mean_squared_error(label_test, predictions)\n",
        "mae = mean_absolute_error(label_test, predictions)\n",
        "r2 = r2_score(label_test, predictions)\n",
        "print(\"MSE (Mean Squared Error)\", mse)\n",
        "print(\"MAE (Mean Absolute Error)\", mae)\n",
        "print(\"r^2 score\", r2)\n",
        "print('RMSE (Root Mean Squared Error', np.sqrt(mean_squared_error(label_test, predictions)))"
      ],
      "execution_count": 350,
      "outputs": [
        {
          "output_type": "stream",
          "text": [
            "WARNING:tensorflow:5 out of the last 13 calls to <function Model.make_predict_function.<locals>.predict_function at 0x7efbbbf2bd90> triggered tf.function retracing. Tracing is expensive and the excessive number of tracings could be due to (1) creating @tf.function repeatedly in a loop, (2) passing tensors with different shapes, (3) passing Python objects instead of tensors. For (1), please define your @tf.function outside of the loop. For (2), @tf.function has experimental_relax_shapes=True option that relaxes argument shapes that can avoid unnecessary retracing. For (3), please refer to https://www.tensorflow.org/tutorials/customization/performance#python_or_tensor_args and https://www.tensorflow.org/api_docs/python/tf/function for  more details.\n",
            "MSE (Mean Squared Error) 0.15093339263924638\n",
            "MAE (Mean Absolute Error) 0.29637474855415136\n",
            "r^2 score 0.8496068113206386\n",
            "RMSE (Root Mean Squared Error 0.3885014705753974\n"
          ],
          "name": "stdout"
        }
      ]
    },
    {
      "cell_type": "code",
      "metadata": {
        "id": "a4q6XNHqkQXF",
        "outputId": "240dd240-b08e-41cd-b3e1-f65201388ba7",
        "colab": {
          "base_uri": "https://localhost:8080/",
          "height": 419
        }
      },
      "source": [
        "history_tuned_dataframe = pd.DataFrame(history_tuned.history)\n",
        "history_tuned_dataframe['epoch'] = history_tuned.epoch\n",
        "history_tuned_dataframe.sort_values(by='val_loss', ascending=True)"
      ],
      "execution_count": 351,
      "outputs": [
        {
          "output_type": "execute_result",
          "data": {
            "text/html": [
              "<div>\n",
              "<style scoped>\n",
              "    .dataframe tbody tr th:only-of-type {\n",
              "        vertical-align: middle;\n",
              "    }\n",
              "\n",
              "    .dataframe tbody tr th {\n",
              "        vertical-align: top;\n",
              "    }\n",
              "\n",
              "    .dataframe thead th {\n",
              "        text-align: right;\n",
              "    }\n",
              "</style>\n",
              "<table border=\"1\" class=\"dataframe\">\n",
              "  <thead>\n",
              "    <tr style=\"text-align: right;\">\n",
              "      <th></th>\n",
              "      <th>loss</th>\n",
              "      <th>val_loss</th>\n",
              "      <th>epoch</th>\n",
              "    </tr>\n",
              "  </thead>\n",
              "  <tbody>\n",
              "    <tr>\n",
              "      <th>93</th>\n",
              "      <td>0.103142</td>\n",
              "      <td>0.148815</td>\n",
              "      <td>93</td>\n",
              "    </tr>\n",
              "    <tr>\n",
              "      <th>90</th>\n",
              "      <td>0.102626</td>\n",
              "      <td>0.150622</td>\n",
              "      <td>90</td>\n",
              "    </tr>\n",
              "    <tr>\n",
              "      <th>99</th>\n",
              "      <td>0.101392</td>\n",
              "      <td>0.150933</td>\n",
              "      <td>99</td>\n",
              "    </tr>\n",
              "    <tr>\n",
              "      <th>95</th>\n",
              "      <td>0.102147</td>\n",
              "      <td>0.150969</td>\n",
              "      <td>95</td>\n",
              "    </tr>\n",
              "    <tr>\n",
              "      <th>97</th>\n",
              "      <td>0.102019</td>\n",
              "      <td>0.151527</td>\n",
              "      <td>97</td>\n",
              "    </tr>\n",
              "    <tr>\n",
              "      <th>...</th>\n",
              "      <td>...</td>\n",
              "      <td>...</td>\n",
              "      <td>...</td>\n",
              "    </tr>\n",
              "    <tr>\n",
              "      <th>4</th>\n",
              "      <td>0.231142</td>\n",
              "      <td>0.251853</td>\n",
              "      <td>4</td>\n",
              "    </tr>\n",
              "    <tr>\n",
              "      <th>3</th>\n",
              "      <td>0.277507</td>\n",
              "      <td>0.275440</td>\n",
              "      <td>3</td>\n",
              "    </tr>\n",
              "    <tr>\n",
              "      <th>2</th>\n",
              "      <td>0.439147</td>\n",
              "      <td>0.336478</td>\n",
              "      <td>2</td>\n",
              "    </tr>\n",
              "    <tr>\n",
              "      <th>1</th>\n",
              "      <td>0.729658</td>\n",
              "      <td>0.573728</td>\n",
              "      <td>1</td>\n",
              "    </tr>\n",
              "    <tr>\n",
              "      <th>0</th>\n",
              "      <td>0.942984</td>\n",
              "      <td>0.860041</td>\n",
              "      <td>0</td>\n",
              "    </tr>\n",
              "  </tbody>\n",
              "</table>\n",
              "<p>100 rows × 3 columns</p>\n",
              "</div>"
            ],
            "text/plain": [
              "        loss  val_loss  epoch\n",
              "93  0.103142  0.148815     93\n",
              "90  0.102626  0.150622     90\n",
              "99  0.101392  0.150933     99\n",
              "95  0.102147  0.150969     95\n",
              "97  0.102019  0.151527     97\n",
              "..       ...       ...    ...\n",
              "4   0.231142  0.251853      4\n",
              "3   0.277507  0.275440      3\n",
              "2   0.439147  0.336478      2\n",
              "1   0.729658  0.573728      1\n",
              "0   0.942984  0.860041      0\n",
              "\n",
              "[100 rows x 3 columns]"
            ]
          },
          "metadata": {
            "tags": []
          },
          "execution_count": 351
        }
      ]
    },
    {
      "cell_type": "code",
      "metadata": {
        "id": "fB0Qkh28kafu",
        "outputId": "4bfd90bc-48b8-42b8-d904-be9c08ba3e6e",
        "colab": {
          "base_uri": "https://localhost:8080/",
          "height": 279
        }
      },
      "source": [
        "plot_loss(history_tuned) # epoch vs loss graph"
      ],
      "execution_count": 352,
      "outputs": [
        {
          "output_type": "display_data",
          "data": {
            "image/png": "[encoded data removed]",
            "text/plain": [
              "<Figure size 432x288 with 1 Axes>"
            ]
          },
          "metadata": {
            "tags": [],
            "needs_background": "light"
          }
        }
      ]
    },
    {
      "cell_type": "markdown",
      "metadata": {
        "id": "-CeJOhqpktXe"
      },
      "source": [
        "### **Optimizer RMSprop**"
      ]
    },
    {
      "cell_type": "code",
      "metadata": {
        "id": "gs4YeZEEk18f",
        "outputId": "5df45f58-64de-41af-c7d1-3636f3aa703a",
        "colab": {
          "base_uri": "https://localhost:8080/",
          "height": 221
        }
      },
      "source": [
        "wider_model_rmsprop = Sequential()\n",
        "wider_model_rmsprop.add(Dense(20, input_dim=7, kernel_initializer='normal', activation='relu'))\n",
        "wider_model_rmsprop.add(Dense(1, kernel_initializer='normal'))\n",
        "\n",
        "opt = RMSprop(lr=0.001)\n",
        "\n",
        "wider_model_rmsprop.compile(loss='mean_squared_error', optimizer=opt)\n",
        "\n",
        "wider_model_rmsprop.summary()"
      ],
      "execution_count": 353,
      "outputs": [
        {
          "output_type": "stream",
          "text": [
            "Model: \"sequential_54\"\n",
            "_________________________________________________________________\n",
            "Layer (type)                 Output Shape              Param #   \n",
            "=================================================================\n",
            "dense_119 (Dense)            (None, 20)                160       \n",
            "_________________________________________________________________\n",
            "dense_120 (Dense)            (None, 1)                 21        \n",
            "=================================================================\n",
            "Total params: 181\n",
            "Trainable params: 181\n",
            "Non-trainable params: 0\n",
            "_________________________________________________________________\n"
          ],
          "name": "stdout"
        }
      ]
    },
    {
      "cell_type": "code",
      "metadata": {
        "id": "2Wao2ul6k6yd",
        "outputId": "01589b30-78a7-438c-ca07-3f10676f241f",
        "colab": {
          "base_uri": "https://localhost:8080/",
          "height": 1000
        }
      },
      "source": [
        "history_rmsprop = wider_model_rmsprop.fit(x=feature_train, y=label_train, validation_data=(feature_test, label_test), epochs=100, batch_size=8)"
      ],
      "execution_count": 354,
      "outputs": [
        {
          "output_type": "stream",
          "text": [
            "Epoch 1/100\n",
            "40/40 [==============================] - 0s 4ms/step - loss: 0.8429 - val_loss: 0.6935\n",
            "Epoch 2/100\n",
            "40/40 [==============================] - 0s 2ms/step - loss: 0.5259 - val_loss: 0.3928\n",
            "Epoch 3/100\n",
            "40/40 [==============================] - 0s 1ms/step - loss: 0.2911 - val_loss: 0.2655\n",
            "Epoch 4/100\n",
            "40/40 [==============================] - 0s 2ms/step - loss: 0.2225 - val_loss: 0.2406\n",
            "Epoch 5/100\n",
            "40/40 [==============================] - 0s 2ms/step - loss: 0.1983 - val_loss: 0.2209\n",
            "Epoch 6/100\n",
            "40/40 [==============================] - 0s 1ms/step - loss: 0.1785 - val_loss: 0.2067\n",
            "Epoch 7/100\n",
            "40/40 [==============================] - 0s 1ms/step - loss: 0.1639 - val_loss: 0.1968\n",
            "Epoch 8/100\n",
            "40/40 [==============================] - 0s 1ms/step - loss: 0.1533 - val_loss: 0.1887\n",
            "Epoch 9/100\n",
            "40/40 [==============================] - 0s 1ms/step - loss: 0.1457 - val_loss: 0.1803\n",
            "Epoch 10/100\n",
            "40/40 [==============================] - 0s 1ms/step - loss: 0.1394 - val_loss: 0.1759\n",
            "Epoch 11/100\n",
            "40/40 [==============================] - 0s 2ms/step - loss: 0.1354 - val_loss: 0.1731\n",
            "Epoch 12/100\n",
            "40/40 [==============================] - 0s 1ms/step - loss: 0.1315 - val_loss: 0.1691\n",
            "Epoch 13/100\n",
            "40/40 [==============================] - 0s 2ms/step - loss: 0.1298 - val_loss: 0.1736\n",
            "Epoch 14/100\n",
            "40/40 [==============================] - 0s 2ms/step - loss: 0.1270 - val_loss: 0.1681\n",
            "Epoch 15/100\n",
            "40/40 [==============================] - 0s 1ms/step - loss: 0.1259 - val_loss: 0.1661\n",
            "Epoch 16/100\n",
            "40/40 [==============================] - 0s 1ms/step - loss: 0.1235 - val_loss: 0.1646\n",
            "Epoch 17/100\n",
            "40/40 [==============================] - 0s 1ms/step - loss: 0.1217 - val_loss: 0.1615\n",
            "Epoch 18/100\n",
            "40/40 [==============================] - 0s 2ms/step - loss: 0.1200 - val_loss: 0.1680\n",
            "Epoch 19/100\n",
            "40/40 [==============================] - 0s 1ms/step - loss: 0.1185 - val_loss: 0.1669\n",
            "Epoch 20/100\n",
            "40/40 [==============================] - 0s 2ms/step - loss: 0.1177 - val_loss: 0.1590\n",
            "Epoch 21/100\n",
            "40/40 [==============================] - 0s 1ms/step - loss: 0.1167 - val_loss: 0.1607\n",
            "Epoch 22/100\n",
            "40/40 [==============================] - 0s 1ms/step - loss: 0.1159 - val_loss: 0.1614\n",
            "Epoch 23/100\n",
            "40/40 [==============================] - 0s 2ms/step - loss: 0.1143 - val_loss: 0.1664\n",
            "Epoch 24/100\n",
            "40/40 [==============================] - 0s 2ms/step - loss: 0.1140 - val_loss: 0.1596\n",
            "Epoch 25/100\n",
            "40/40 [==============================] - 0s 2ms/step - loss: 0.1134 - val_loss: 0.1572\n",
            "Epoch 26/100\n",
            "40/40 [==============================] - 0s 1ms/step - loss: 0.1128 - val_loss: 0.1607\n",
            "Epoch 27/100\n",
            "40/40 [==============================] - 0s 2ms/step - loss: 0.1129 - val_loss: 0.1572\n",
            "Epoch 28/100\n",
            "40/40 [==============================] - 0s 2ms/step - loss: 0.1114 - val_loss: 0.1558\n",
            "Epoch 29/100\n",
            "40/40 [==============================] - 0s 2ms/step - loss: 0.1101 - val_loss: 0.1606\n",
            "Epoch 30/100\n",
            "40/40 [==============================] - 0s 1ms/step - loss: 0.1099 - val_loss: 0.1555\n",
            "Epoch 31/100\n",
            "40/40 [==============================] - 0s 2ms/step - loss: 0.1100 - val_loss: 0.1600\n",
            "Epoch 32/100\n",
            "40/40 [==============================] - 0s 2ms/step - loss: 0.1095 - val_loss: 0.1555\n",
            "Epoch 33/100\n",
            "40/40 [==============================] - 0s 2ms/step - loss: 0.1084 - val_loss: 0.1522\n",
            "Epoch 34/100\n",
            "40/40 [==============================] - 0s 1ms/step - loss: 0.1078 - val_loss: 0.1607\n",
            "Epoch 35/100\n",
            "40/40 [==============================] - 0s 2ms/step - loss: 0.1072 - val_loss: 0.1551\n",
            "Epoch 36/100\n",
            "40/40 [==============================] - 0s 2ms/step - loss: 0.1064 - val_loss: 0.1499\n",
            "Epoch 37/100\n",
            "40/40 [==============================] - 0s 1ms/step - loss: 0.1068 - val_loss: 0.1542\n",
            "Epoch 38/100\n",
            "40/40 [==============================] - 0s 2ms/step - loss: 0.1053 - val_loss: 0.1486\n",
            "Epoch 39/100\n",
            "40/40 [==============================] - 0s 2ms/step - loss: 0.1058 - val_loss: 0.1519\n",
            "Epoch 40/100\n",
            "40/40 [==============================] - 0s 2ms/step - loss: 0.1047 - val_loss: 0.1557\n",
            "Epoch 41/100\n",
            "40/40 [==============================] - 0s 2ms/step - loss: 0.1054 - val_loss: 0.1516\n",
            "Epoch 42/100\n",
            "40/40 [==============================] - 0s 1ms/step - loss: 0.1041 - val_loss: 0.1514\n",
            "Epoch 43/100\n",
            "40/40 [==============================] - 0s 2ms/step - loss: 0.1041 - val_loss: 0.1513\n",
            "Epoch 44/100\n",
            "40/40 [==============================] - 0s 1ms/step - loss: 0.1039 - val_loss: 0.1539\n",
            "Epoch 45/100\n",
            "40/40 [==============================] - 0s 1ms/step - loss: 0.1028 - val_loss: 0.1538\n",
            "Epoch 46/100\n",
            "40/40 [==============================] - 0s 2ms/step - loss: 0.1034 - val_loss: 0.1537\n",
            "Epoch 47/100\n",
            "40/40 [==============================] - 0s 2ms/step - loss: 0.1029 - val_loss: 0.1506\n",
            "Epoch 48/100\n",
            "40/40 [==============================] - 0s 2ms/step - loss: 0.1035 - val_loss: 0.1515\n",
            "Epoch 49/100\n",
            "40/40 [==============================] - 0s 2ms/step - loss: 0.1007 - val_loss: 0.1544\n",
            "Epoch 50/100\n",
            "40/40 [==============================] - 0s 1ms/step - loss: 0.1019 - val_loss: 0.1536\n",
            "Epoch 51/100\n",
            "40/40 [==============================] - 0s 1ms/step - loss: 0.1013 - val_loss: 0.1486\n",
            "Epoch 52/100\n",
            "40/40 [==============================] - 0s 1ms/step - loss: 0.1015 - val_loss: 0.1505\n",
            "Epoch 53/100\n",
            "40/40 [==============================] - 0s 2ms/step - loss: 0.1014 - val_loss: 0.1528\n",
            "Epoch 54/100\n",
            "40/40 [==============================] - 0s 2ms/step - loss: 0.1007 - val_loss: 0.1562\n",
            "Epoch 55/100\n",
            "40/40 [==============================] - 0s 1ms/step - loss: 0.1000 - val_loss: 0.1507\n",
            "Epoch 56/100\n",
            "40/40 [==============================] - 0s 2ms/step - loss: 0.1000 - val_loss: 0.1510\n",
            "Epoch 57/100\n",
            "40/40 [==============================] - 0s 1ms/step - loss: 0.0998 - val_loss: 0.1568\n",
            "Epoch 58/100\n",
            "40/40 [==============================] - 0s 2ms/step - loss: 0.0996 - val_loss: 0.1478\n",
            "Epoch 59/100\n",
            "40/40 [==============================] - 0s 1ms/step - loss: 0.0988 - val_loss: 0.1452\n",
            "Epoch 60/100\n",
            "40/40 [==============================] - 0s 1ms/step - loss: 0.1003 - val_loss: 0.1491\n",
            "Epoch 61/100\n",
            "40/40 [==============================] - 0s 2ms/step - loss: 0.0994 - val_loss: 0.1537\n",
            "Epoch 62/100\n",
            "40/40 [==============================] - 0s 2ms/step - loss: 0.0988 - val_loss: 0.1486\n",
            "Epoch 63/100\n",
            "40/40 [==============================] - 0s 1ms/step - loss: 0.0981 - val_loss: 0.1598\n",
            "Epoch 64/100\n",
            "40/40 [==============================] - 0s 2ms/step - loss: 0.0986 - val_loss: 0.1524\n",
            "Epoch 65/100\n",
            "40/40 [==============================] - 0s 1ms/step - loss: 0.0982 - val_loss: 0.1506\n",
            "Epoch 66/100\n",
            "40/40 [==============================] - 0s 1ms/step - loss: 0.0977 - val_loss: 0.1537\n",
            "Epoch 67/100\n",
            "40/40 [==============================] - 0s 2ms/step - loss: 0.0982 - val_loss: 0.1501\n",
            "Epoch 68/100\n",
            "40/40 [==============================] - 0s 1ms/step - loss: 0.0979 - val_loss: 0.1521\n",
            "Epoch 69/100\n",
            "40/40 [==============================] - 0s 2ms/step - loss: 0.0975 - val_loss: 0.1575\n",
            "Epoch 70/100\n",
            "40/40 [==============================] - 0s 2ms/step - loss: 0.0975 - val_loss: 0.1571\n",
            "Epoch 71/100\n",
            "40/40 [==============================] - 0s 2ms/step - loss: 0.0943 - val_loss: 0.1436\n",
            "Epoch 72/100\n",
            "40/40 [==============================] - 0s 1ms/step - loss: 0.0968 - val_loss: 0.1613\n",
            "Epoch 73/100\n",
            "40/40 [==============================] - 0s 2ms/step - loss: 0.0963 - val_loss: 0.1488\n",
            "Epoch 74/100\n",
            "40/40 [==============================] - 0s 1ms/step - loss: 0.0959 - val_loss: 0.1464\n",
            "Epoch 75/100\n",
            "40/40 [==============================] - 0s 2ms/step - loss: 0.0967 - val_loss: 0.1484\n",
            "Epoch 76/100\n",
            "40/40 [==============================] - 0s 1ms/step - loss: 0.0958 - val_loss: 0.1458\n",
            "Epoch 77/100\n",
            "40/40 [==============================] - 0s 1ms/step - loss: 0.0964 - val_loss: 0.1478\n",
            "Epoch 78/100\n",
            "40/40 [==============================] - 0s 1ms/step - loss: 0.0956 - val_loss: 0.1580\n",
            "Epoch 79/100\n",
            "40/40 [==============================] - 0s 2ms/step - loss: 0.0953 - val_loss: 0.1516\n",
            "Epoch 80/100\n",
            "40/40 [==============================] - 0s 2ms/step - loss: 0.0957 - val_loss: 0.1460\n",
            "Epoch 81/100\n",
            "40/40 [==============================] - 0s 2ms/step - loss: 0.0949 - val_loss: 0.1544\n",
            "Epoch 82/100\n",
            "40/40 [==============================] - 0s 1ms/step - loss: 0.0951 - val_loss: 0.1467\n",
            "Epoch 83/100\n",
            "40/40 [==============================] - 0s 1ms/step - loss: 0.0959 - val_loss: 0.1473\n",
            "Epoch 84/100\n",
            "40/40 [==============================] - 0s 1ms/step - loss: 0.0952 - val_loss: 0.1451\n",
            "Epoch 85/100\n",
            "40/40 [==============================] - 0s 2ms/step - loss: 0.0952 - val_loss: 0.1493\n",
            "Epoch 86/100\n",
            "40/40 [==============================] - 0s 1ms/step - loss: 0.0943 - val_loss: 0.1471\n",
            "Epoch 87/100\n",
            "40/40 [==============================] - 0s 2ms/step - loss: 0.0952 - val_loss: 0.1560\n",
            "Epoch 88/100\n",
            "40/40 [==============================] - 0s 2ms/step - loss: 0.0954 - val_loss: 0.1511\n",
            "Epoch 89/100\n",
            "40/40 [==============================] - 0s 1ms/step - loss: 0.0927 - val_loss: 0.1448\n",
            "Epoch 90/100\n",
            "40/40 [==============================] - 0s 1ms/step - loss: 0.0952 - val_loss: 0.1500\n",
            "Epoch 91/100\n",
            "40/40 [==============================] - 0s 1ms/step - loss: 0.0947 - val_loss: 0.1497\n",
            "Epoch 92/100\n",
            "40/40 [==============================] - 0s 2ms/step - loss: 0.0939 - val_loss: 0.1482\n",
            "Epoch 93/100\n",
            "40/40 [==============================] - 0s 2ms/step - loss: 0.0945 - val_loss: 0.1488\n",
            "Epoch 94/100\n",
            "40/40 [==============================] - 0s 1ms/step - loss: 0.0942 - val_loss: 0.1472\n",
            "Epoch 95/100\n",
            "40/40 [==============================] - 0s 1ms/step - loss: 0.0938 - val_loss: 0.1460\n",
            "Epoch 96/100\n",
            "40/40 [==============================] - 0s 2ms/step - loss: 0.0942 - val_loss: 0.1469\n",
            "Epoch 97/100\n",
            "40/40 [==============================] - 0s 1ms/step - loss: 0.0940 - val_loss: 0.1466\n",
            "Epoch 98/100\n",
            "40/40 [==============================] - 0s 1ms/step - loss: 0.0943 - val_loss: 0.1557\n",
            "Epoch 99/100\n",
            "40/40 [==============================] - 0s 1ms/step - loss: 0.0941 - val_loss: 0.1496\n",
            "Epoch 100/100\n",
            "40/40 [==============================] - 0s 2ms/step - loss: 0.0941 - val_loss: 0.1519\n"
          ],
          "name": "stdout"
        }
      ]
    },
    {
      "cell_type": "code",
      "metadata": {
        "id": "NhUCLU45lTby",
        "outputId": "4b044f03-285a-4a90-eee9-924fcb007835",
        "colab": {
          "base_uri": "https://localhost:8080/",
          "height": 122
        }
      },
      "source": [
        "predictions = wider_model_rmsprop.predict(feature_test)\n",
        "predictions = predictions.flatten()\n",
        "\n",
        "mse = mean_squared_error(label_test, predictions)\n",
        "mae = mean_absolute_error(label_test, predictions)\n",
        "r2 = r2_score(label_test, predictions)\n",
        "print(\"MSE (Mean Squared Error)\", mse)\n",
        "print(\"MAE (Mean Absolute Error)\", mae)\n",
        "print(\"r^2 score\", r2)\n",
        "print('RMSE (Root Mean Squared Error', np.sqrt(mean_squared_error(label_test, predictions)))"
      ],
      "execution_count": 355,
      "outputs": [
        {
          "output_type": "stream",
          "text": [
            "WARNING:tensorflow:5 out of the last 13 calls to <function Model.make_predict_function.<locals>.predict_function at 0x7efbe39adc80> triggered tf.function retracing. Tracing is expensive and the excessive number of tracings could be due to (1) creating @tf.function repeatedly in a loop, (2) passing tensors with different shapes, (3) passing Python objects instead of tensors. For (1), please define your @tf.function outside of the loop. For (2), @tf.function has experimental_relax_shapes=True option that relaxes argument shapes that can avoid unnecessary retracing. For (3), please refer to https://www.tensorflow.org/tutorials/customization/performance#python_or_tensor_args and https://www.tensorflow.org/api_docs/python/tf/function for  more details.\n",
            "MSE (Mean Squared Error) 0.15187030606009527\n",
            "MAE (Mean Absolute Error) 0.2987786783283517\n",
            "r^2 score 0.8486732511957779\n",
            "RMSE (Root Mean Squared Error 0.3897054093287586\n"
          ],
          "name": "stdout"
        }
      ]
    },
    {
      "cell_type": "code",
      "metadata": {
        "id": "OwWCSGjLlfJx",
        "outputId": "36501cab-c13d-4eec-b2ad-761351814bf0",
        "colab": {
          "base_uri": "https://localhost:8080/",
          "height": 419
        }
      },
      "source": [
        "history_rmsprop_dataframe = pd.DataFrame(history_rmsprop.history)\n",
        "history_rmsprop_dataframe['epoch'] = history_rmsprop.epoch\n",
        "history_rmsprop_dataframe.sort_values(by='val_loss', ascending=True)"
      ],
      "execution_count": 356,
      "outputs": [
        {
          "output_type": "execute_result",
          "data": {
            "text/html": [
              "<div>\n",
              "<style scoped>\n",
              "    .dataframe tbody tr th:only-of-type {\n",
              "        vertical-align: middle;\n",
              "    }\n",
              "\n",
              "    .dataframe tbody tr th {\n",
              "        vertical-align: top;\n",
              "    }\n",
              "\n",
              "    .dataframe thead th {\n",
              "        text-align: right;\n",
              "    }\n",
              "</style>\n",
              "<table border=\"1\" class=\"dataframe\">\n",
              "  <thead>\n",
              "    <tr style=\"text-align: right;\">\n",
              "      <th></th>\n",
              "      <th>loss</th>\n",
              "      <th>val_loss</th>\n",
              "      <th>epoch</th>\n",
              "    </tr>\n",
              "  </thead>\n",
              "  <tbody>\n",
              "    <tr>\n",
              "      <th>70</th>\n",
              "      <td>0.094279</td>\n",
              "      <td>0.143615</td>\n",
              "      <td>70</td>\n",
              "    </tr>\n",
              "    <tr>\n",
              "      <th>88</th>\n",
              "      <td>0.092661</td>\n",
              "      <td>0.144836</td>\n",
              "      <td>88</td>\n",
              "    </tr>\n",
              "    <tr>\n",
              "      <th>83</th>\n",
              "      <td>0.095247</td>\n",
              "      <td>0.145147</td>\n",
              "      <td>83</td>\n",
              "    </tr>\n",
              "    <tr>\n",
              "      <th>58</th>\n",
              "      <td>0.098786</td>\n",
              "      <td>0.145181</td>\n",
              "      <td>58</td>\n",
              "    </tr>\n",
              "    <tr>\n",
              "      <th>75</th>\n",
              "      <td>0.095760</td>\n",
              "      <td>0.145842</td>\n",
              "      <td>75</td>\n",
              "    </tr>\n",
              "    <tr>\n",
              "      <th>...</th>\n",
              "      <td>...</td>\n",
              "      <td>...</td>\n",
              "      <td>...</td>\n",
              "    </tr>\n",
              "    <tr>\n",
              "      <th>4</th>\n",
              "      <td>0.198276</td>\n",
              "      <td>0.220871</td>\n",
              "      <td>4</td>\n",
              "    </tr>\n",
              "    <tr>\n",
              "      <th>3</th>\n",
              "      <td>0.222536</td>\n",
              "      <td>0.240643</td>\n",
              "      <td>3</td>\n",
              "    </tr>\n",
              "    <tr>\n",
              "      <th>2</th>\n",
              "      <td>0.291090</td>\n",
              "      <td>0.265540</td>\n",
              "      <td>2</td>\n",
              "    </tr>\n",
              "    <tr>\n",
              "      <th>1</th>\n",
              "      <td>0.525870</td>\n",
              "      <td>0.392765</td>\n",
              "      <td>1</td>\n",
              "    </tr>\n",
              "    <tr>\n",
              "      <th>0</th>\n",
              "      <td>0.842920</td>\n",
              "      <td>0.693474</td>\n",
              "      <td>0</td>\n",
              "    </tr>\n",
              "  </tbody>\n",
              "</table>\n",
              "<p>100 rows × 3 columns</p>\n",
              "</div>"
            ],
            "text/plain": [
              "        loss  val_loss  epoch\n",
              "70  0.094279  0.143615     70\n",
              "88  0.092661  0.144836     88\n",
              "83  0.095247  0.145147     83\n",
              "58  0.098786  0.145181     58\n",
              "75  0.095760  0.145842     75\n",
              "..       ...       ...    ...\n",
              "4   0.198276  0.220871      4\n",
              "3   0.222536  0.240643      3\n",
              "2   0.291090  0.265540      2\n",
              "1   0.525870  0.392765      1\n",
              "0   0.842920  0.693474      0\n",
              "\n",
              "[100 rows x 3 columns]"
            ]
          },
          "metadata": {
            "tags": []
          },
          "execution_count": 356
        }
      ]
    },
    {
      "cell_type": "code",
      "metadata": {
        "id": "3ShQQbQ1lfJ0",
        "outputId": "02bd5e33-25fa-4aca-d2c3-40d3c407eef4",
        "colab": {
          "base_uri": "https://localhost:8080/",
          "height": 279
        }
      },
      "source": [
        "plot_loss(history_rmsprop) # epoch vs loss graph"
      ],
      "execution_count": 357,
      "outputs": [
        {
          "output_type": "display_data",
          "data": {
            "image/png": "[encoded data removed]",
            "text/plain": [
              "<Figure size 432x288 with 1 Axes>"
            ]
          },
          "metadata": {
            "tags": [],
            "needs_background": "light"
          }
        }
      ]
    },
    {
      "cell_type": "markdown",
      "metadata": {
        "id": "xfnhC4qznqCV"
      },
      "source": [
        "# **Kesimpulan**"
      ]
    },
    {
      "cell_type": "markdown",
      "metadata": {
        "id": "tYZVgJ8Dntfz"
      },
      "source": [
        "\n",
        "```\n",
        "linear regression r^2 score 0.792478802889181\n",
        "Base Model DL r^2 score 0.8428530241835525\n",
        "Deeper Model DL r^2 score 0.842879213761671\n",
        "Wider Model DL r^2 score 0.8520116387147619\n",
        "opt SGD r^2 score 0.8496068113206386\n",
        "opt RMSProp r^2 score 0.8486732511957779\n",
        "```\n",
        "\n",
        "Menurut hasil sekali run diatas Hasil yang di dapat untuk r^2 terbaik ada pada wider model dengan optimizer Adam "
      ]
    }
  ]
}