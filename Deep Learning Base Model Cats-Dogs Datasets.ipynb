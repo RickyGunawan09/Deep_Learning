{
  "nbformat": 4,
  "nbformat_minor": 0,
  "metadata": {
    "colab": {
      "name": "Assignment15_RickyGunawan_Base.ipynb",
      "provenance": [],
      "collapsed_sections": [],
      "toc_visible": true
    },
    "kernelspec": {
      "name": "python3",
      "display_name": "Python 3"
    },
    "accelerator": "GPU"
  },
  "cells": [
    {
      "cell_type": "code",
      "metadata": {
        "id": "sCn4y6io1E07"
      },
      "source": [
        "zip_path = '/content/drive/My\\ Drive/BCML/datasets/DeepLearning/cats-dogs.zip'\n",
        "\n",
        "!cp {zip_path} /content/\n",
        "\n",
        "!cd /content/\n",
        "\n",
        "!unzip -q /content/cats-dogs.zip -d /content\n",
        "\n",
        "!rm /content/cats-dogs.zip"
      ],
      "execution_count": 1,
      "outputs": []
    },
    {
      "cell_type": "code",
      "metadata": {
        "id": "ek83tzRrIy7Y"
      },
      "source": [
        "def plot_loss(history):\n",
        "    plt.plot(history.history['loss'], label='loss')\n",
        "    plt.plot(history.history['val_loss'], label='val_loss')\n",
        "    plt.plot(history.history['val_accuracy'], label='val_accuracy')\n",
        "    plt.xlabel('Epoch')\n",
        "    plt.ylabel('Loss')\n",
        "    plt.legend()\n",
        "    plt.grid(True)"
      ],
      "execution_count": 2,
      "outputs": []
    },
    {
      "cell_type": "code",
      "metadata": {
        "id": "IXyxQWL7v12W"
      },
      "source": [
        "import matplotlib.pyplot as plt\n",
        "import numpy as np\n",
        "import os\n",
        "\n",
        "import tensorflow as tf\n",
        "from tensorflow.keras.preprocessing.image import ImageDataGenerator\n",
        "from tensorflow.keras.utils import to_categorical\n",
        "from tensorflow.keras.models import Sequential\n",
        "from tensorflow.keras.layers import Conv2D\n",
        "from tensorflow.keras.layers import MaxPooling2D\n",
        "from tensorflow.keras.layers import Dense\n",
        "from tensorflow.keras.layers import Flatten\n",
        "from tensorflow.keras.optimizers import SGD\n",
        "from tensorflow.keras.layers import BatchNormalization"
      ],
      "execution_count": 1,
      "outputs": []
    },
    {
      "cell_type": "markdown",
      "metadata": {
        "id": "ObPuYkN8ql-O"
      },
      "source": [
        "# **Base Model**"
      ]
    },
    {
      "cell_type": "code",
      "metadata": {
        "id": "SlSM8yCJwSXQ",
        "outputId": "d54717b4-f68c-487d-dbe9-42c2ea2cde6d",
        "colab": {
          "base_uri": "https://localhost:8080/",
          "height": 323
        }
      },
      "source": [
        "model = Sequential()\n",
        "model.add(Conv2D(32, (3, 3), activation='relu', kernel_initializer='he_uniform', padding='same', input_shape=(200, 200, 3)))\n",
        "model.add(MaxPooling2D((2, 2)))\n",
        "\n",
        "model.add(Flatten())\n",
        "\n",
        "model.add(Dense(128, activation='relu', kernel_initializer='he_uniform'))\n",
        "model.add(Dense(1, activation='sigmoid'))\n",
        "\n",
        "opt = SGD(lr=0.001, momentum=0.9)\n",
        "\n",
        "model.compile(optimizer=opt, loss='binary_crossentropy', metrics=['accuracy'])\n",
        "\n",
        "model.summary()"
      ],
      "execution_count": 2,
      "outputs": [
        {
          "output_type": "stream",
          "text": [
            "Model: \"sequential\"\n",
            "_________________________________________________________________\n",
            "Layer (type)                 Output Shape              Param #   \n",
            "=================================================================\n",
            "conv2d (Conv2D)              (None, 200, 200, 32)      896       \n",
            "_________________________________________________________________\n",
            "max_pooling2d (MaxPooling2D) (None, 100, 100, 32)      0         \n",
            "_________________________________________________________________\n",
            "flatten (Flatten)            (None, 320000)            0         \n",
            "_________________________________________________________________\n",
            "dense (Dense)                (None, 128)               40960128  \n",
            "_________________________________________________________________\n",
            "dense_1 (Dense)              (None, 1)                 129       \n",
            "=================================================================\n",
            "Total params: 40,961,153\n",
            "Trainable params: 40,961,153\n",
            "Non-trainable params: 0\n",
            "_________________________________________________________________\n"
          ],
          "name": "stdout"
        }
      ]
    },
    {
      "cell_type": "code",
      "metadata": {
        "id": "3OUmunEpzExb",
        "outputId": "7971f02b-4ff9-4c22-8569-12475f4409fe",
        "colab": {
          "base_uri": "https://localhost:8080/",
          "height": 51
        }
      },
      "source": [
        "dataset_dir = '/content/'\n",
        "\n",
        "datagen = ImageDataGenerator(rescale=1.0/255.0)\n",
        "\n",
        "train_iterator = datagen.flow_from_directory(os.path.join(dataset_dir, 'train'), class_mode='binary', batch_size=128, target_size=(200, 200))\n",
        "test_iterator = datagen.flow_from_directory(os.path.join(dataset_dir, 'test'), class_mode='binary', batch_size=128, target_size=(200, 200))"
      ],
      "execution_count": 3,
      "outputs": [
        {
          "output_type": "stream",
          "text": [
            "Found 12749 images belonging to 2 classes.\n",
            "Found 2252 images belonging to 2 classes.\n"
          ],
          "name": "stdout"
        }
      ]
    },
    {
      "cell_type": "code",
      "metadata": {
        "id": "SumVfASyzyzs",
        "outputId": "2ce731f0-8355-4cf6-94e7-a6e801fa8f7d",
        "colab": {
          "base_uri": "https://localhost:8080/",
          "height": 1000
        }
      },
      "source": [
        "history=model.fit(train_iterator, steps_per_epoch=len(train_iterator), validation_data=test_iterator, validation_steps=len(test_iterator), epochs=75)"
      ],
      "execution_count": 4,
      "outputs": [
        {
          "output_type": "stream",
          "text": [
            "Epoch 1/75\n",
            "100/100 [==============================] - 47s 466ms/step - loss: 0.8080 - accuracy: 0.5449 - val_loss: 0.6788 - val_accuracy: 0.5524\n",
            "Epoch 2/75\n",
            "100/100 [==============================] - 46s 462ms/step - loss: 0.6677 - accuracy: 0.5924 - val_loss: 0.6499 - val_accuracy: 0.6190\n",
            "Epoch 3/75\n",
            "100/100 [==============================] - 47s 469ms/step - loss: 0.6457 - accuracy: 0.6181 - val_loss: 0.6370 - val_accuracy: 0.6212\n",
            "Epoch 4/75\n",
            "100/100 [==============================] - 47s 466ms/step - loss: 0.6324 - accuracy: 0.6336 - val_loss: 0.6700 - val_accuracy: 0.5884\n",
            "Epoch 5/75\n",
            "100/100 [==============================] - 46s 463ms/step - loss: 0.6286 - accuracy: 0.6393 - val_loss: 0.6220 - val_accuracy: 0.6430\n",
            "Epoch 6/75\n",
            "100/100 [==============================] - 46s 461ms/step - loss: 0.6222 - accuracy: 0.6453 - val_loss: 0.6371 - val_accuracy: 0.6070\n",
            "Epoch 7/75\n",
            "100/100 [==============================] - 46s 459ms/step - loss: 0.6158 - accuracy: 0.6524 - val_loss: 0.6299 - val_accuracy: 0.6470\n",
            "Epoch 8/75\n",
            "100/100 [==============================] - 45s 453ms/step - loss: 0.6161 - accuracy: 0.6539 - val_loss: 0.6144 - val_accuracy: 0.6594\n",
            "Epoch 9/75\n",
            "100/100 [==============================] - 45s 451ms/step - loss: 0.6066 - accuracy: 0.6625 - val_loss: 0.6389 - val_accuracy: 0.6306\n",
            "Epoch 10/75\n",
            "100/100 [==============================] - 45s 453ms/step - loss: 0.5922 - accuracy: 0.6783 - val_loss: 0.5989 - val_accuracy: 0.6665\n",
            "Epoch 11/75\n",
            "100/100 [==============================] - 46s 457ms/step - loss: 0.5948 - accuracy: 0.6709 - val_loss: 0.6125 - val_accuracy: 0.6585\n",
            "Epoch 12/75\n",
            "100/100 [==============================] - 46s 465ms/step - loss: 0.5745 - accuracy: 0.6972 - val_loss: 0.6065 - val_accuracy: 0.6639\n",
            "Epoch 13/75\n",
            "100/100 [==============================] - 46s 461ms/step - loss: 0.5842 - accuracy: 0.6869 - val_loss: 0.6444 - val_accuracy: 0.6190\n",
            "Epoch 14/75\n",
            "100/100 [==============================] - 46s 455ms/step - loss: 0.5877 - accuracy: 0.6816 - val_loss: 0.6290 - val_accuracy: 0.6345\n",
            "Epoch 15/75\n",
            "100/100 [==============================] - 46s 456ms/step - loss: 0.5538 - accuracy: 0.7136 - val_loss: 0.5884 - val_accuracy: 0.6816\n",
            "Epoch 16/75\n",
            "100/100 [==============================] - 46s 456ms/step - loss: 0.5495 - accuracy: 0.7188 - val_loss: 0.5859 - val_accuracy: 0.6776\n",
            "Epoch 17/75\n",
            "100/100 [==============================] - 46s 456ms/step - loss: 0.5630 - accuracy: 0.7072 - val_loss: 0.5928 - val_accuracy: 0.6758\n",
            "Epoch 18/75\n",
            "100/100 [==============================] - 46s 457ms/step - loss: 0.5326 - accuracy: 0.7307 - val_loss: 0.5862 - val_accuracy: 0.6909\n",
            "Epoch 19/75\n",
            "100/100 [==============================] - 46s 458ms/step - loss: 0.5258 - accuracy: 0.7393 - val_loss: 0.6197 - val_accuracy: 0.6710\n",
            "Epoch 20/75\n",
            "100/100 [==============================] - 46s 455ms/step - loss: 0.5239 - accuracy: 0.7367 - val_loss: 0.5719 - val_accuracy: 0.6998\n",
            "Epoch 21/75\n",
            "100/100 [==============================] - 45s 454ms/step - loss: 0.5072 - accuracy: 0.7492 - val_loss: 0.5868 - val_accuracy: 0.6887\n",
            "Epoch 22/75\n",
            "100/100 [==============================] - 46s 458ms/step - loss: 0.5022 - accuracy: 0.7525 - val_loss: 0.5753 - val_accuracy: 0.7060\n",
            "Epoch 23/75\n",
            "100/100 [==============================] - 46s 455ms/step - loss: 0.4779 - accuracy: 0.7732 - val_loss: 0.5878 - val_accuracy: 0.6936\n",
            "Epoch 24/75\n",
            "100/100 [==============================] - 45s 453ms/step - loss: 0.4752 - accuracy: 0.7779 - val_loss: 0.7565 - val_accuracy: 0.5653\n",
            "Epoch 25/75\n",
            "100/100 [==============================] - 45s 455ms/step - loss: 0.5078 - accuracy: 0.7472 - val_loss: 0.5577 - val_accuracy: 0.7123\n",
            "Epoch 26/75\n",
            "100/100 [==============================] - 45s 452ms/step - loss: 0.4527 - accuracy: 0.7939 - val_loss: 0.6550 - val_accuracy: 0.6741\n",
            "Epoch 27/75\n",
            "100/100 [==============================] - 45s 451ms/step - loss: 0.4449 - accuracy: 0.7953 - val_loss: 0.6079 - val_accuracy: 0.6758\n",
            "Epoch 28/75\n",
            "100/100 [==============================] - 45s 450ms/step - loss: 0.4234 - accuracy: 0.8130 - val_loss: 0.5552 - val_accuracy: 0.7163\n",
            "Epoch 29/75\n",
            "100/100 [==============================] - 45s 454ms/step - loss: 0.3899 - accuracy: 0.8338 - val_loss: 0.5622 - val_accuracy: 0.7238\n",
            "Epoch 30/75\n",
            "100/100 [==============================] - 45s 451ms/step - loss: 0.3758 - accuracy: 0.8409 - val_loss: 0.5601 - val_accuracy: 0.7167\n",
            "Epoch 31/75\n",
            "100/100 [==============================] - 45s 452ms/step - loss: 0.3430 - accuracy: 0.8616 - val_loss: 0.5952 - val_accuracy: 0.7083\n",
            "Epoch 32/75\n",
            "100/100 [==============================] - 45s 455ms/step - loss: 0.3263 - accuracy: 0.8692 - val_loss: 0.5818 - val_accuracy: 0.7207\n",
            "Epoch 33/75\n",
            "100/100 [==============================] - 45s 452ms/step - loss: 0.3105 - accuracy: 0.8761 - val_loss: 0.5657 - val_accuracy: 0.7296\n",
            "Epoch 34/75\n",
            "100/100 [==============================] - 45s 451ms/step - loss: 0.3007 - accuracy: 0.8791 - val_loss: 0.5739 - val_accuracy: 0.7282\n",
            "Epoch 35/75\n",
            "100/100 [==============================] - 45s 449ms/step - loss: 0.2813 - accuracy: 0.8913 - val_loss: 0.6312 - val_accuracy: 0.7100\n",
            "Epoch 36/75\n",
            "100/100 [==============================] - 45s 450ms/step - loss: 0.2803 - accuracy: 0.8907 - val_loss: 0.5625 - val_accuracy: 0.7358\n",
            "Epoch 37/75\n",
            "100/100 [==============================] - 45s 448ms/step - loss: 0.2443 - accuracy: 0.9158 - val_loss: 0.5773 - val_accuracy: 0.7291\n",
            "Epoch 38/75\n",
            "100/100 [==============================] - 45s 450ms/step - loss: 0.2441 - accuracy: 0.9049 - val_loss: 0.5896 - val_accuracy: 0.7220\n",
            "Epoch 39/75\n",
            "100/100 [==============================] - 45s 453ms/step - loss: 0.2361 - accuracy: 0.9147 - val_loss: 0.5754 - val_accuracy: 0.7340\n",
            "Epoch 40/75\n",
            "100/100 [==============================] - 45s 452ms/step - loss: 0.2114 - accuracy: 0.9288 - val_loss: 0.5811 - val_accuracy: 0.7425\n",
            "Epoch 41/75\n",
            "100/100 [==============================] - 45s 450ms/step - loss: 0.1868 - accuracy: 0.9439 - val_loss: 0.6057 - val_accuracy: 0.7340\n",
            "Epoch 42/75\n",
            "100/100 [==============================] - 45s 447ms/step - loss: 0.1711 - accuracy: 0.9510 - val_loss: 0.6439 - val_accuracy: 0.7265\n",
            "Epoch 43/75\n",
            "100/100 [==============================] - 45s 453ms/step - loss: 0.1621 - accuracy: 0.9520 - val_loss: 0.6254 - val_accuracy: 0.7300\n",
            "Epoch 44/75\n",
            "100/100 [==============================] - 45s 451ms/step - loss: 0.1402 - accuracy: 0.9662 - val_loss: 0.6333 - val_accuracy: 0.7313\n",
            "Epoch 45/75\n",
            "100/100 [==============================] - 45s 452ms/step - loss: 0.1293 - accuracy: 0.9704 - val_loss: 0.7144 - val_accuracy: 0.7180\n",
            "Epoch 46/75\n",
            "100/100 [==============================] - 45s 452ms/step - loss: 0.1220 - accuracy: 0.9726 - val_loss: 0.7044 - val_accuracy: 0.7247\n",
            "Epoch 47/75\n",
            "100/100 [==============================] - 45s 450ms/step - loss: 0.1130 - accuracy: 0.9754 - val_loss: 0.8140 - val_accuracy: 0.7012\n",
            "Epoch 48/75\n",
            "100/100 [==============================] - 45s 450ms/step - loss: 0.1140 - accuracy: 0.9724 - val_loss: 0.6722 - val_accuracy: 0.7331\n",
            "Epoch 49/75\n",
            "100/100 [==============================] - 45s 448ms/step - loss: 0.0913 - accuracy: 0.9863 - val_loss: 0.7029 - val_accuracy: 0.7282\n",
            "Epoch 50/75\n",
            "100/100 [==============================] - 45s 451ms/step - loss: 0.0853 - accuracy: 0.9857 - val_loss: 0.7324 - val_accuracy: 0.7225\n",
            "Epoch 51/75\n",
            "100/100 [==============================] - 45s 450ms/step - loss: 0.0792 - accuracy: 0.9881 - val_loss: 0.7068 - val_accuracy: 0.7265\n",
            "Epoch 52/75\n",
            "100/100 [==============================] - 45s 450ms/step - loss: 0.0812 - accuracy: 0.9862 - val_loss: 0.7335 - val_accuracy: 0.7216\n",
            "Epoch 53/75\n",
            "100/100 [==============================] - 45s 449ms/step - loss: 0.0783 - accuracy: 0.9856 - val_loss: 0.7283 - val_accuracy: 0.7282\n",
            "Epoch 54/75\n",
            "100/100 [==============================] - 47s 465ms/step - loss: 0.0597 - accuracy: 0.9944 - val_loss: 0.7315 - val_accuracy: 0.7296\n",
            "Epoch 55/75\n",
            "100/100 [==============================] - 46s 458ms/step - loss: 0.0559 - accuracy: 0.9945 - val_loss: 0.7664 - val_accuracy: 0.7251\n",
            "Epoch 56/75\n",
            "100/100 [==============================] - 46s 457ms/step - loss: 0.0497 - accuracy: 0.9963 - val_loss: 0.7561 - val_accuracy: 0.7340\n",
            "Epoch 57/75\n",
            "100/100 [==============================] - 46s 456ms/step - loss: 0.0552 - accuracy: 0.9930 - val_loss: 0.7624 - val_accuracy: 0.7260\n",
            "Epoch 58/75\n",
            "100/100 [==============================] - 45s 453ms/step - loss: 0.0632 - accuracy: 0.9893 - val_loss: 0.7560 - val_accuracy: 0.7349\n",
            "Epoch 59/75\n",
            "100/100 [==============================] - 46s 455ms/step - loss: 0.0426 - accuracy: 0.9979 - val_loss: 0.7773 - val_accuracy: 0.7340\n",
            "Epoch 60/75\n",
            "100/100 [==============================] - 46s 459ms/step - loss: 0.0384 - accuracy: 0.9975 - val_loss: 0.7865 - val_accuracy: 0.7282\n",
            "Epoch 61/75\n",
            "100/100 [==============================] - 46s 461ms/step - loss: 0.0347 - accuracy: 0.9983 - val_loss: 0.8101 - val_accuracy: 0.7305\n",
            "Epoch 62/75\n",
            "100/100 [==============================] - 46s 461ms/step - loss: 0.0317 - accuracy: 0.9989 - val_loss: 0.8075 - val_accuracy: 0.7282\n",
            "Epoch 63/75\n",
            "100/100 [==============================] - 46s 458ms/step - loss: 0.0291 - accuracy: 0.9986 - val_loss: 0.8285 - val_accuracy: 0.7296\n",
            "Epoch 64/75\n",
            "100/100 [==============================] - 46s 460ms/step - loss: 0.0285 - accuracy: 0.9987 - val_loss: 0.8491 - val_accuracy: 0.7207\n",
            "Epoch 65/75\n",
            "100/100 [==============================] - 46s 461ms/step - loss: 0.0273 - accuracy: 0.9991 - val_loss: 0.8484 - val_accuracy: 0.7349\n",
            "Epoch 66/75\n",
            "100/100 [==============================] - 46s 465ms/step - loss: 0.0249 - accuracy: 0.9992 - val_loss: 0.8431 - val_accuracy: 0.7291\n",
            "Epoch 67/75\n",
            "100/100 [==============================] - 46s 462ms/step - loss: 0.0238 - accuracy: 0.9992 - val_loss: 0.8657 - val_accuracy: 0.7282\n",
            "Epoch 68/75\n",
            "100/100 [==============================] - 46s 460ms/step - loss: 0.0216 - accuracy: 0.9994 - val_loss: 0.8746 - val_accuracy: 0.7309\n",
            "Epoch 69/75\n",
            "100/100 [==============================] - 46s 461ms/step - loss: 0.0215 - accuracy: 0.9994 - val_loss: 0.8837 - val_accuracy: 0.7287\n",
            "Epoch 70/75\n",
            "100/100 [==============================] - 46s 455ms/step - loss: 0.0210 - accuracy: 0.9993 - val_loss: 0.8913 - val_accuracy: 0.7265\n",
            "Epoch 71/75\n",
            "100/100 [==============================] - 46s 457ms/step - loss: 0.0184 - accuracy: 0.9995 - val_loss: 0.9118 - val_accuracy: 0.7256\n",
            "Epoch 72/75\n",
            "100/100 [==============================] - 46s 455ms/step - loss: 0.0181 - accuracy: 0.9998 - val_loss: 0.8926 - val_accuracy: 0.7318\n",
            "Epoch 73/75\n",
            "100/100 [==============================] - 46s 456ms/step - loss: 0.0161 - accuracy: 0.9998 - val_loss: 0.9055 - val_accuracy: 0.7309\n",
            "Epoch 74/75\n",
            "100/100 [==============================] - 45s 451ms/step - loss: 0.0168 - accuracy: 0.9998 - val_loss: 0.9110 - val_accuracy: 0.7327\n",
            "Epoch 75/75\n",
            "100/100 [==============================] - 45s 449ms/step - loss: 0.0150 - accuracy: 0.9998 - val_loss: 0.9362 - val_accuracy: 0.7287\n"
          ],
          "name": "stdout"
        }
      ]
    },
    {
      "cell_type": "code",
      "metadata": {
        "id": "vOgx5QygI0aP",
        "outputId": "cc19654c-2bda-4a07-853a-a4a7ed8bc156",
        "colab": {
          "base_uri": "https://localhost:8080/",
          "height": 279
        }
      },
      "source": [
        "plot_loss(history)"
      ],
      "execution_count": 6,
      "outputs": [
        {
          "output_type": "display_data",
          "data": {
            "image/png": "[encoded data removed]",
            "text/plain": [
              "<Figure size 432x288 with 1 Axes>"
            ]
          },
          "metadata": {
            "tags": [],
            "needs_background": "light"
          }
        }
      ]
    },
    {
      "cell_type": "markdown",
      "metadata": {
        "id": "YvptLOT0qqYy"
      },
      "source": [
        "Kesimpulan ada pada file Assignment15_RickyGunawan_imageaug_filteradd"
      ]
    }
  ]
}