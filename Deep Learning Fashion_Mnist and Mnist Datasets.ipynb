{
  "nbformat": 4,
  "nbformat_minor": 0,
  "metadata": {
    "colab": {
      "name": "Assignment14_RickyGunawan.ipynb",
      "provenance": []
    },
    "kernelspec": {
      "name": "python3",
      "display_name": "Python 3"
    },
    "accelerator": "GPU"
  },
  "cells": [
    {
      "cell_type": "code",
      "metadata": {
        "id": "FJBY0gqxSepu"
      },
      "source": [
        "from tensorflow.keras.datasets import fashion_mnist\n",
        "from tensorflow.keras.datasets import mnist\n",
        "import matplotlib.pyplot as plt\n",
        "from tensorflow.keras.utils import to_categorical\n",
        "\n",
        "from tensorflow.keras.models import Sequential\n",
        "from tensorflow.keras.layers import Conv2D\n",
        "from tensorflow.keras.layers import MaxPooling2D\n",
        "from tensorflow.keras.layers import Dense\n",
        "from tensorflow.keras.layers import Flatten\n",
        "from tensorflow.keras.optimizers import SGD\n",
        "from tensorflow.keras.layers import BatchNormalization"
      ],
      "execution_count": 5,
      "outputs": []
    },
    {
      "cell_type": "code",
      "metadata": {
        "id": "WrPsKEOfmY_q"
      },
      "source": [
        "def plot_loss(history):\n",
        "    plt.plot(history.history['loss'], label='loss')\n",
        "    plt.plot(history.history['val_loss'], label='val_loss')\n",
        "    plt.xlabel('Epoch')\n",
        "    plt.ylabel('Loss')\n",
        "    plt.legend()\n",
        "    plt.grid(True)"
      ],
      "execution_count": 6,
      "outputs": []
    },
    {
      "cell_type": "markdown",
      "metadata": {
        "id": "fOgRKonPR5Kh"
      },
      "source": [
        "# **Inisialisasi Dataset**"
      ]
    },
    {
      "cell_type": "markdown",
      "metadata": {
        "id": "BZ0od5VJR_rJ"
      },
      "source": [
        "## **Dataset Fashion mnist**"
      ]
    },
    {
      "cell_type": "code",
      "metadata": {
        "id": "4Q6wwNd2ETv_",
        "outputId": "448f93a1-a150-4a32-8c6e-b20ba94fbe5a",
        "colab": {
          "base_uri": "https://localhost:8080/",
          "height": 317
        }
      },
      "source": [
        "(feature_train_fashion, label_train_fashion), (feature_test_fashion, label_test_fashion) = fashion_mnist.load_data()\n",
        "\n",
        "print(\"Train\", feature_train_fashion.shape, label_train_fashion.shape)\n",
        "print(\"Test\", feature_test_fashion.shape, label_test_fashion.shape)\n",
        "\n",
        "plt.imshow(feature_train_fashion[1], cmap=plt.get_cmap('gray'))"
      ],
      "execution_count": 9,
      "outputs": [
        {
          "output_type": "stream",
          "text": [
            "Train (60000, 28, 28) (60000,)\n",
            "Test (10000, 28, 28) (10000,)\n"
          ],
          "name": "stdout"
        },
        {
          "output_type": "execute_result",
          "data": {
            "text/plain": [
              "<matplotlib.image.AxesImage at 0x7f720a30da20>"
            ]
          },
          "metadata": {
            "tags": []
          },
          "execution_count": 9
        },
        {
          "output_type": "display_data",
          "data": {
            "image/png": "[encoded data removed]",
            "text/plain": [
              "<Figure size 432x288 with 1 Axes>"
            ]
          },
          "metadata": {
            "tags": [],
            "needs_background": "light"
          }
        }
      ]
    },
    {
      "cell_type": "code",
      "metadata": {
        "id": "wGxadzvIEs_T",
        "outputId": "67fda74c-2da7-4820-c219-02896bb80cf2",
        "colab": {
          "base_uri": "https://localhost:8080/",
          "height": 34
        }
      },
      "source": [
        "feature_train_fashion = feature_train_fashion.reshape((feature_train_fashion.shape[0], 28, 28, 1))\n",
        "feature_test_fashion = feature_test_fashion.reshape((feature_test_fashion.shape[0], 28, 28, 1))\n",
        "\n",
        "print(feature_train_fashion.shape)"
      ],
      "execution_count": 10,
      "outputs": [
        {
          "output_type": "stream",
          "text": [
            "(60000, 28, 28, 1)\n"
          ],
          "name": "stdout"
        }
      ]
    },
    {
      "cell_type": "code",
      "metadata": {
        "id": "yGAUohbuE2jZ",
        "outputId": "5164adf4-bd24-4a93-83ce-1eec736b1279",
        "colab": {
          "base_uri": "https://localhost:8080/",
          "height": 141
        }
      },
      "source": [
        "label_train_fashion = to_categorical(label_train_fashion)\n",
        "label_test_fashion = to_categorical(label_test_fashion)\n",
        "\n",
        "print(label_train_fashion)"
      ],
      "execution_count": 11,
      "outputs": [
        {
          "output_type": "stream",
          "text": [
            "[[0. 0. 0. ... 0. 0. 1.]\n",
            " [1. 0. 0. ... 0. 0. 0.]\n",
            " [1. 0. 0. ... 0. 0. 0.]\n",
            " ...\n",
            " [0. 0. 0. ... 0. 0. 0.]\n",
            " [1. 0. 0. ... 0. 0. 0.]\n",
            " [0. 0. 0. ... 0. 0. 0.]]\n"
          ],
          "name": "stdout"
        }
      ]
    },
    {
      "cell_type": "code",
      "metadata": {
        "id": "wwxpe9WTFBT0"
      },
      "source": [
        "feature_train_fashion = feature_train_fashion.astype('float32')\n",
        "feature_test_fashion = feature_test_fashion.astype('float32')\n",
        "\n",
        "feature_train_fashion = feature_train_fashion / 255.0\n",
        "feature_test_fashion = feature_test_fashion / 255.0"
      ],
      "execution_count": 12,
      "outputs": []
    },
    {
      "cell_type": "markdown",
      "metadata": {
        "id": "ZFNPXtTuSGsC"
      },
      "source": [
        "## **Dataset Mnist**"
      ]
    },
    {
      "cell_type": "code",
      "metadata": {
        "id": "pdm85y6dSKqW",
        "outputId": "80ae7914-0471-42d4-9b63-48757cd06be9",
        "colab": {
          "base_uri": "https://localhost:8080/",
          "height": 317
        }
      },
      "source": [
        "(feature_train_mnist, label_train_mnist), (feature_test_mnist, label_test_mnist) = mnist.load_data()\n",
        "\n",
        "print(\"Train\", feature_train_mnist.shape, label_train_mnist.shape)\n",
        "print(\"Test\", feature_test_mnist.shape, label_test_mnist.shape)\n",
        "\n",
        "plt.imshow(feature_train_mnist[1], cmap=plt.get_cmap('gray'))"
      ],
      "execution_count": 14,
      "outputs": [
        {
          "output_type": "stream",
          "text": [
            "Train (60000, 28, 28) (60000,)\n",
            "Test (10000, 28, 28) (10000,)\n"
          ],
          "name": "stdout"
        },
        {
          "output_type": "execute_result",
          "data": {
            "text/plain": [
              "<matplotlib.image.AxesImage at 0x7f720d2f1198>"
            ]
          },
          "metadata": {
            "tags": []
          },
          "execution_count": 14
        },
        {
          "output_type": "display_data",
          "data": {
            "image/png": "[encoded data removed]",
            "text/plain": [
              "<Figure size 432x288 with 1 Axes>"
            ]
          },
          "metadata": {
            "tags": [],
            "needs_background": "light"
          }
        }
      ]
    },
    {
      "cell_type": "code",
      "metadata": {
        "id": "umtOovcDSKqa",
        "outputId": "ecf07c9a-acdb-4a14-f994-89d4248624fa",
        "colab": {
          "base_uri": "https://localhost:8080/",
          "height": 34
        }
      },
      "source": [
        "feature_train_mnist = feature_train_mnist.reshape((feature_train_mnist.shape[0], 28, 28, 1))\n",
        "feature_test_mnist = feature_test_mnist.reshape((feature_test_mnist.shape[0], 28, 28, 1))\n",
        "\n",
        "print(feature_train_mnist.shape)"
      ],
      "execution_count": 15,
      "outputs": [
        {
          "output_type": "stream",
          "text": [
            "(60000, 28, 28, 1)\n"
          ],
          "name": "stdout"
        }
      ]
    },
    {
      "cell_type": "code",
      "metadata": {
        "id": "ztTT-CChSKqd",
        "outputId": "2cbe15da-c528-4034-c3b4-774815ebce68",
        "colab": {
          "base_uri": "https://localhost:8080/",
          "height": 141
        }
      },
      "source": [
        "label_train_mnist = to_categorical(label_train_mnist)\n",
        "label_test_mnist = to_categorical(label_test_mnist)\n",
        "\n",
        "print(label_train_mnist)"
      ],
      "execution_count": 16,
      "outputs": [
        {
          "output_type": "stream",
          "text": [
            "[[0. 0. 0. ... 0. 0. 0.]\n",
            " [1. 0. 0. ... 0. 0. 0.]\n",
            " [0. 0. 0. ... 0. 0. 0.]\n",
            " ...\n",
            " [0. 0. 0. ... 0. 0. 0.]\n",
            " [0. 0. 0. ... 0. 0. 0.]\n",
            " [0. 0. 0. ... 0. 1. 0.]]\n"
          ],
          "name": "stdout"
        }
      ]
    },
    {
      "cell_type": "code",
      "metadata": {
        "id": "S_B9szRXSKqg"
      },
      "source": [
        "feature_train_mnist = feature_train_mnist.astype('float32')\n",
        "feature_test_mnist = feature_test_mnist.astype('float32')\n",
        "\n",
        "feature_train_mnist = feature_train_mnist / 255.0\n",
        "feature_test_mnist = feature_test_mnist / 255.0"
      ],
      "execution_count": 17,
      "outputs": []
    },
    {
      "cell_type": "markdown",
      "metadata": {
        "id": "9FpcUg1KKZLE"
      },
      "source": [
        "# **No.1 Melihat yang terbaik dari 2 Arsitektur DeepLearning**"
      ]
    },
    {
      "cell_type": "markdown",
      "metadata": {
        "id": "FPpNu9CxK0_d"
      },
      "source": [
        "## **Multilayer Perceptron (Neural Network)**"
      ]
    },
    {
      "cell_type": "code",
      "metadata": {
        "id": "LNmtyJo7FC6R",
        "outputId": "6af81b94-0a47-4e62-fe20-78ac7d9c8541",
        "colab": {
          "base_uri": "https://localhost:8080/",
          "height": 692
        }
      },
      "source": [
        "base_model = Sequential()\n",
        "\n",
        "base_model.add(Flatten(input_shape=(28, 28, 1)))\n",
        "base_model.add(Dense(128, activation='relu', kernel_initializer='he_uniform')) # Activation relu dipakai, ini salah satu function yang paling banyak dipakai\n",
        "base_model.add(Dense(10, activation='softmax')) # Activation softmax dipakai untuk classification, nilai 10 karena terdapat 10 class (0-9)\n",
        "\n",
        "opt = SGD(lr=0.01, momentum=0.9) # Optimizer (Stochastic Gradient Descent), untuk mencari minima dari grafik fungsi loss\n",
        "\n",
        "base_model.compile(optimizer=opt, loss='categorical_crossentropy', metrics=['accuracy']) # Loss Function\n",
        "\n",
        "base_model.summary()\n",
        "\n",
        "# base_model.fit(feature_train_fashion, label_train_fashion, batch_size=32, validation_data=(feature_test_fashion, label_test_fashion), epochs=10)\n",
        "history1=base_model.fit(feature_train_fashion, label_train_fashion, batch_size=32, validation_data=(feature_test_fashion, label_test_fashion), epochs=10)\n",
        "\n",
        "loss, accuracy = base_model.evaluate(feature_test_fashion,  label_test_fashion, verbose=2)\n",
        "\n",
        "print(\"\\nTest accuracy:\", accuracy)\n",
        "print(\"Test loss:\", loss)"
      ],
      "execution_count": 18,
      "outputs": [
        {
          "output_type": "stream",
          "text": [
            "Model: \"sequential\"\n",
            "_________________________________________________________________\n",
            "Layer (type)                 Output Shape              Param #   \n",
            "=================================================================\n",
            "flatten (Flatten)            (None, 784)               0         \n",
            "_________________________________________________________________\n",
            "dense (Dense)                (None, 128)               100480    \n",
            "_________________________________________________________________\n",
            "dense_1 (Dense)              (None, 10)                1290      \n",
            "=================================================================\n",
            "Total params: 101,770\n",
            "Trainable params: 101,770\n",
            "Non-trainable params: 0\n",
            "_________________________________________________________________\n",
            "Epoch 1/10\n",
            "1875/1875 [==============================] - 4s 2ms/step - loss: 0.5240 - accuracy: 0.8150 - val_loss: 0.4799 - val_accuracy: 0.8275\n",
            "Epoch 2/10\n",
            "1875/1875 [==============================] - 4s 2ms/step - loss: 0.3966 - accuracy: 0.8554 - val_loss: 0.3964 - val_accuracy: 0.8606\n",
            "Epoch 3/10\n",
            "1875/1875 [==============================] - 4s 2ms/step - loss: 0.3606 - accuracy: 0.8697 - val_loss: 0.3753 - val_accuracy: 0.8656\n",
            "Epoch 4/10\n",
            "1875/1875 [==============================] - 4s 2ms/step - loss: 0.3355 - accuracy: 0.8778 - val_loss: 0.3900 - val_accuracy: 0.8578\n",
            "Epoch 5/10\n",
            "1875/1875 [==============================] - 4s 2ms/step - loss: 0.3222 - accuracy: 0.8820 - val_loss: 0.3712 - val_accuracy: 0.8666\n",
            "Epoch 6/10\n",
            "1875/1875 [==============================] - 4s 2ms/step - loss: 0.3067 - accuracy: 0.8883 - val_loss: 0.3664 - val_accuracy: 0.8656\n",
            "Epoch 7/10\n",
            "1875/1875 [==============================] - 4s 2ms/step - loss: 0.2944 - accuracy: 0.8920 - val_loss: 0.3407 - val_accuracy: 0.8790\n",
            "Epoch 8/10\n",
            "1875/1875 [==============================] - 4s 2ms/step - loss: 0.2833 - accuracy: 0.8958 - val_loss: 0.3506 - val_accuracy: 0.8700\n",
            "Epoch 9/10\n",
            "1875/1875 [==============================] - 4s 2ms/step - loss: 0.2738 - accuracy: 0.8990 - val_loss: 0.3398 - val_accuracy: 0.8782\n",
            "Epoch 10/10\n",
            "1875/1875 [==============================] - 4s 2ms/step - loss: 0.2680 - accuracy: 0.9015 - val_loss: 0.3344 - val_accuracy: 0.8812\n",
            "313/313 - 0s - loss: 0.3344 - accuracy: 0.8812\n",
            "\n",
            "Test accuracy: 0.8812000155448914\n",
            "Test loss: 0.33436447381973267\n"
          ],
          "name": "stdout"
        }
      ]
    },
    {
      "cell_type": "code",
      "metadata": {
        "id": "m2s5uMjRFnq4",
        "outputId": "01cd8160-e058-49b4-87c5-a07e3b629356",
        "colab": {
          "base_uri": "https://localhost:8080/",
          "height": 278
        }
      },
      "source": [
        "plot_loss(history1)"
      ],
      "execution_count": 19,
      "outputs": [
        {
          "output_type": "display_data",
          "data": {
            "image/png": "[encoded data removed]",
            "text/plain": [
              "<Figure size 432x288 with 1 Axes>"
            ]
          },
          "metadata": {
            "tags": [],
            "needs_background": "light"
          }
        }
      ]
    },
    {
      "cell_type": "markdown",
      "metadata": {
        "id": "sXF69bpYK8YY"
      },
      "source": [
        "## **Convolutional Neural Network (CNN)**"
      ]
    },
    {
      "cell_type": "code",
      "metadata": {
        "id": "9PSbumpvFzT_",
        "outputId": "e3cedd97-8b00-4b06-b6de-7991a0713601",
        "colab": {
          "base_uri": "https://localhost:8080/",
          "height": 763
        }
      },
      "source": [
        "\n",
        "model = Sequential()\n",
        "model.add(Conv2D(32, (3, 3), activation='relu', kernel_initializer='he_uniform', input_shape=(28, 28, 1))) # Convolution, 32 filters, masing-masing dengan kernel 3x3\n",
        "model.add(MaxPooling2D((2, 2))) # Pooling\n",
        "\n",
        "model.add(Flatten()) # Flatten hasil output\n",
        "\n",
        "# Fully connected layer\n",
        "model.add(Dense(128, activation='relu', kernel_initializer='he_uniform')) # Activation relu dipakai, ini salah satu function yang paling banyak dipakai\n",
        "model.add(Dense(10, activation='softmax')) # Activation softmax dipakai untuk classification, nilai 10 karena terdapat 10 class (0-9)\n",
        "\n",
        "opt = SGD(lr=0.01, momentum=0.9) # Optimizer (Stochastic Gradient Descent), untuk mencari minima dari grafik fungsi loss\n",
        "\n",
        "model.compile(optimizer=opt, loss='categorical_crossentropy', metrics=['accuracy']) # Loss Function\n",
        "\n",
        "model.summary()\n",
        "\n",
        "# model.fit(feature_train_fashion, label_train_fashion, batch_size=32, validation_data=(feature_test_fashion, label_test_fashion), epochs=10)\n",
        "history2=model.fit(feature_train_fashion, label_train_fashion, batch_size=32, validation_data=(feature_test_fashion, label_test_fashion), epochs=10)\n",
        "\n",
        "loss, accuracy = model.evaluate(feature_test_fashion,  label_test_fashion, verbose=2)\n",
        "\n",
        "print(\"\\nTest accuracy:\", accuracy)\n",
        "print(\"Test loss:\", loss)"
      ],
      "execution_count": 20,
      "outputs": [
        {
          "output_type": "stream",
          "text": [
            "Model: \"sequential_1\"\n",
            "_________________________________________________________________\n",
            "Layer (type)                 Output Shape              Param #   \n",
            "=================================================================\n",
            "conv2d (Conv2D)              (None, 26, 26, 32)        320       \n",
            "_________________________________________________________________\n",
            "max_pooling2d (MaxPooling2D) (None, 13, 13, 32)        0         \n",
            "_________________________________________________________________\n",
            "flatten_1 (Flatten)          (None, 5408)              0         \n",
            "_________________________________________________________________\n",
            "dense_2 (Dense)              (None, 128)               692352    \n",
            "_________________________________________________________________\n",
            "dense_3 (Dense)              (None, 10)                1290      \n",
            "=================================================================\n",
            "Total params: 693,962\n",
            "Trainable params: 693,962\n",
            "Non-trainable params: 0\n",
            "_________________________________________________________________\n",
            "Epoch 1/10\n",
            "1875/1875 [==============================] - 4s 2ms/step - loss: 0.4185 - accuracy: 0.8501 - val_loss: 0.3322 - val_accuracy: 0.8804\n",
            "Epoch 2/10\n",
            "1875/1875 [==============================] - 4s 2ms/step - loss: 0.2878 - accuracy: 0.8954 - val_loss: 0.3007 - val_accuracy: 0.8883\n",
            "Epoch 3/10\n",
            "1875/1875 [==============================] - 4s 2ms/step - loss: 0.2445 - accuracy: 0.9092 - val_loss: 0.2933 - val_accuracy: 0.8942\n",
            "Epoch 4/10\n",
            "1875/1875 [==============================] - 4s 2ms/step - loss: 0.2148 - accuracy: 0.9203 - val_loss: 0.2722 - val_accuracy: 0.9025\n",
            "Epoch 5/10\n",
            "1875/1875 [==============================] - 4s 2ms/step - loss: 0.1924 - accuracy: 0.9286 - val_loss: 0.2946 - val_accuracy: 0.8998\n",
            "Epoch 6/10\n",
            "1875/1875 [==============================] - 4s 2ms/step - loss: 0.1733 - accuracy: 0.9363 - val_loss: 0.2836 - val_accuracy: 0.9041\n",
            "Epoch 7/10\n",
            "1875/1875 [==============================] - 5s 2ms/step - loss: 0.1567 - accuracy: 0.9417 - val_loss: 0.2573 - val_accuracy: 0.9120\n",
            "Epoch 8/10\n",
            "1875/1875 [==============================] - 5s 2ms/step - loss: 0.1417 - accuracy: 0.9477 - val_loss: 0.2895 - val_accuracy: 0.9030\n",
            "Epoch 9/10\n",
            "1875/1875 [==============================] - 5s 2ms/step - loss: 0.1263 - accuracy: 0.9536 - val_loss: 0.2818 - val_accuracy: 0.9076\n",
            "Epoch 10/10\n",
            "1875/1875 [==============================] - 4s 2ms/step - loss: 0.1151 - accuracy: 0.9572 - val_loss: 0.2671 - val_accuracy: 0.9145\n",
            "313/313 - 1s - loss: 0.2671 - accuracy: 0.9145\n",
            "\n",
            "Test accuracy: 0.9144999980926514\n",
            "Test loss: 0.2671326696872711\n"
          ],
          "name": "stdout"
        }
      ]
    },
    {
      "cell_type": "code",
      "metadata": {
        "id": "1cZGdI4DGXA7",
        "outputId": "55a69476-5524-4528-d71c-685762a44d68",
        "colab": {
          "base_uri": "https://localhost:8080/",
          "height": 278
        }
      },
      "source": [
        "plot_loss(history2)"
      ],
      "execution_count": 21,
      "outputs": [
        {
          "output_type": "display_data",
          "data": {
            "image/png": "[encoded data removed]",
            "text/plain": [
              "<Figure size 432x288 with 1 Axes>"
            ]
          },
          "metadata": {
            "tags": [],
            "needs_background": "light"
          }
        }
      ]
    },
    {
      "cell_type": "markdown",
      "metadata": {
        "id": "buQVnXsJKsRF"
      },
      "source": [
        "## **Kesimpulan**"
      ]
    },
    {
      "cell_type": "markdown",
      "metadata": {
        "id": "TfFNhmaQLelK"
      },
      "source": [
        "Berdasarkan hasil percobaan di atas dapat di lihat bahwa penggunaan CNN(convolutional Neural Network) mendapat nilai loss yang kecil dan akurasi yang sangat baik yakni 91% ini dapat terjadi karena algoritma CNN sendiri lebih efisien dan efektif secara algoritma karena memanfaatkan nilai spatial dalam hal ini RGB dengan filter yang ada jadi algoritma ini melihat masih adanya korelasi dari nilai-nilai tersebut maka dapat mengurangi jumlah parameter dan weight.\n",
        "\n",
        "refrensi:\n",
        "\n",
        "https://www.quora.com/What-is-the-difference-between-a-convolutional-neural-network-and-a-multilayer-perceptron\n",
        "\n",
        "https://medium.com/data-science-bootcamp/multilayer-perceptron-mlp-vs-convolutional-neural-network-in-deep-learning-c890f487a8f1"
      ]
    },
    {
      "cell_type": "markdown",
      "metadata": {
        "id": "KMHdNEsfRP1q"
      },
      "source": [
        "# **No.2 membuat convolution layer lebih dalam**"
      ]
    },
    {
      "cell_type": "markdown",
      "metadata": {
        "id": "XkL7Sla1VCBD"
      },
      "source": [
        "## **Dataset Mnist**"
      ]
    },
    {
      "cell_type": "markdown",
      "metadata": {
        "id": "MWQKDbylWIa3"
      },
      "source": [
        "### **Convolution kedalaman 2**"
      ]
    },
    {
      "cell_type": "code",
      "metadata": {
        "id": "GuzYRspVWOsy",
        "outputId": "8f4cd143-e7bd-4fbe-cd9f-71f057335747",
        "colab": {
          "base_uri": "https://localhost:8080/",
          "height": 834
        }
      },
      "source": [
        "\n",
        "model = Sequential()\n",
        "model.add(Conv2D(32, (3, 3), activation='relu', kernel_initializer='he_uniform', input_shape=(28, 28, 1))) # Convolution, 32 filters, masing-masing dengan kernel 3x3\n",
        "model.add(MaxPooling2D((2, 2))) # Pooling\n",
        "model.add(Conv2D(64, (3, 3), activation='relu', kernel_initializer='he_uniform', input_shape=(28, 28, 1))) # Convolution, 32 filters, masing-masing dengan kernel 3x3\n",
        "model.add(MaxPooling2D((2, 2))) # Pooling\n",
        "\n",
        "model.add(Flatten()) # Flatten hasil output\n",
        "\n",
        "# Fully connected layer\n",
        "model.add(Dense(128, activation='relu', kernel_initializer='he_uniform')) # Activation relu dipakai, ini salah satu function yang paling banyak dipakai\n",
        "model.add(Dense(10, activation='softmax')) # Activation softmax dipakai untuk classification, nilai 10 karena terdapat 10 class (0-9)\n",
        "\n",
        "opt = SGD(lr=0.01, momentum=0.9) # Optimizer (Stochastic Gradient Descent), untuk mencari minima dari grafik fungsi loss\n",
        "\n",
        "model.compile(optimizer=opt, loss='categorical_crossentropy', metrics=['accuracy']) # Loss Function\n",
        "\n",
        "model.summary()\n",
        "\n",
        "# model.fit(feature_train_mnist, label_train_mnist, batch_size=32, validation_data=(feature_test_mnist, label_test_mnist), epochs=10)\n",
        "history3=model.fit(feature_train_mnist, label_train_mnist, batch_size=32, validation_data=(feature_test_mnist, label_test_mnist), epochs=10)\n",
        "\n",
        "loss, accuracy = model.evaluate(feature_test_mnist,  label_test_mnist, verbose=2)\n",
        "\n",
        "print(\"\\nTest accuracy:\", accuracy)\n",
        "print(\"Test loss:\", loss)"
      ],
      "execution_count": 22,
      "outputs": [
        {
          "output_type": "stream",
          "text": [
            "Model: \"sequential_2\"\n",
            "_________________________________________________________________\n",
            "Layer (type)                 Output Shape              Param #   \n",
            "=================================================================\n",
            "conv2d_1 (Conv2D)            (None, 26, 26, 32)        320       \n",
            "_________________________________________________________________\n",
            "max_pooling2d_1 (MaxPooling2 (None, 13, 13, 32)        0         \n",
            "_________________________________________________________________\n",
            "conv2d_2 (Conv2D)            (None, 11, 11, 64)        18496     \n",
            "_________________________________________________________________\n",
            "max_pooling2d_2 (MaxPooling2 (None, 5, 5, 64)          0         \n",
            "_________________________________________________________________\n",
            "flatten_2 (Flatten)          (None, 1600)              0         \n",
            "_________________________________________________________________\n",
            "dense_4 (Dense)              (None, 128)               204928    \n",
            "_________________________________________________________________\n",
            "dense_5 (Dense)              (None, 10)                1290      \n",
            "=================================================================\n",
            "Total params: 225,034\n",
            "Trainable params: 225,034\n",
            "Non-trainable params: 0\n",
            "_________________________________________________________________\n",
            "Epoch 1/10\n",
            "1875/1875 [==============================] - 5s 3ms/step - loss: 0.1264 - accuracy: 0.9608 - val_loss: 0.0502 - val_accuracy: 0.9827\n",
            "Epoch 2/10\n",
            "1875/1875 [==============================] - 5s 3ms/step - loss: 0.0439 - accuracy: 0.9864 - val_loss: 0.0472 - val_accuracy: 0.9852\n",
            "Epoch 3/10\n",
            "1875/1875 [==============================] - 5s 3ms/step - loss: 0.0285 - accuracy: 0.9909 - val_loss: 0.0327 - val_accuracy: 0.9893\n",
            "Epoch 4/10\n",
            "1875/1875 [==============================] - 5s 3ms/step - loss: 0.0207 - accuracy: 0.9935 - val_loss: 0.0269 - val_accuracy: 0.9906\n",
            "Epoch 5/10\n",
            "1875/1875 [==============================] - 5s 3ms/step - loss: 0.0149 - accuracy: 0.9955 - val_loss: 0.0325 - val_accuracy: 0.9897\n",
            "Epoch 6/10\n",
            "1875/1875 [==============================] - 5s 3ms/step - loss: 0.0111 - accuracy: 0.9967 - val_loss: 0.0296 - val_accuracy: 0.9911\n",
            "Epoch 7/10\n",
            "1875/1875 [==============================] - 5s 3ms/step - loss: 0.0085 - accuracy: 0.9972 - val_loss: 0.0300 - val_accuracy: 0.9908\n",
            "Epoch 8/10\n",
            "1875/1875 [==============================] - 5s 3ms/step - loss: 0.0071 - accuracy: 0.9977 - val_loss: 0.0293 - val_accuracy: 0.9906\n",
            "Epoch 9/10\n",
            "1875/1875 [==============================] - 5s 3ms/step - loss: 0.0043 - accuracy: 0.9988 - val_loss: 0.0307 - val_accuracy: 0.9908\n",
            "Epoch 10/10\n",
            "1875/1875 [==============================] - 5s 3ms/step - loss: 0.0031 - accuracy: 0.9992 - val_loss: 0.0315 - val_accuracy: 0.9913\n",
            "313/313 - 1s - loss: 0.0315 - accuracy: 0.9913\n",
            "\n",
            "Test accuracy: 0.9912999868392944\n",
            "Test loss: 0.03146497160196304\n"
          ],
          "name": "stdout"
        }
      ]
    },
    {
      "cell_type": "code",
      "metadata": {
        "id": "wCeHZXxSnNAi",
        "outputId": "b72e4426-b64d-4d90-b018-287cb4bcfd95",
        "colab": {
          "base_uri": "https://localhost:8080/",
          "height": 278
        }
      },
      "source": [
        "plot_loss(history3)"
      ],
      "execution_count": 23,
      "outputs": [
        {
          "output_type": "display_data",
          "data": {
            "image/png": "[encoded data removed]",
            "text/plain": [
              "<Figure size 432x288 with 1 Axes>"
            ]
          },
          "metadata": {
            "tags": [],
            "needs_background": "light"
          }
        }
      ]
    },
    {
      "cell_type": "markdown",
      "metadata": {
        "id": "IquDnI3pWw83"
      },
      "source": [
        "## **Dataset Fashion Mnist**"
      ]
    },
    {
      "cell_type": "markdown",
      "metadata": {
        "id": "cFIeSXywW4Jv"
      },
      "source": [
        "### **Convolution kedalaman 2**"
      ]
    },
    {
      "cell_type": "code",
      "metadata": {
        "id": "XqYZLqCmXCGf",
        "outputId": "6b492689-325c-4ea4-a145-45076c726b97",
        "colab": {
          "base_uri": "https://localhost:8080/",
          "height": 834
        }
      },
      "source": [
        "\n",
        "model = Sequential()\n",
        "model.add(Conv2D(32, (3, 3), activation='relu', kernel_initializer='he_uniform', input_shape=(28, 28, 1))) # Convolution, 32 filters, masing-masing dengan kernel 3x3\n",
        "model.add(MaxPooling2D((2, 2))) # Pooling\n",
        "model.add(Conv2D(64, (3, 3), activation='relu', kernel_initializer='he_uniform', input_shape=(28, 28, 1))) # Convolution, 32 filters, masing-masing dengan kernel 3x3\n",
        "model.add(MaxPooling2D((2, 2))) # Pooling\n",
        "\n",
        "model.add(Flatten()) # Flatten hasil output\n",
        "\n",
        "# Fully connected layer\n",
        "model.add(Dense(128, activation='relu', kernel_initializer='he_uniform')) # Activation relu dipakai, ini salah satu function yang paling banyak dipakai\n",
        "model.add(Dense(10, activation='softmax')) # Activation softmax dipakai untuk classification, nilai 10 karena terdapat 10 class (0-9)\n",
        "\n",
        "opt = SGD(lr=0.01, momentum=0.9) # Optimizer (Stochastic Gradient Descent), untuk mencari minima dari grafik fungsi loss\n",
        "\n",
        "model.compile(optimizer=opt, loss='categorical_crossentropy', metrics=['accuracy']) # Loss Function\n",
        "\n",
        "model.summary()\n",
        "\n",
        "# model.fit(feature_train_fashion, label_train_fashion, batch_size=32, validation_data=(feature_test_fashion, label_test_fashion), epochs=10)\n",
        "\n",
        "history4=model.fit(feature_train_fashion, label_train_fashion, batch_size=32, validation_data=(feature_test_fashion, label_test_fashion), epochs=10)\n",
        "\n",
        "loss, accuracy = model.evaluate(feature_test_fashion,  label_test_fashion, verbose=2)\n",
        "\n",
        "print(\"\\nTest accuracy:\", accuracy)\n",
        "print(\"Test loss:\", loss)"
      ],
      "execution_count": 24,
      "outputs": [
        {
          "output_type": "stream",
          "text": [
            "Model: \"sequential_3\"\n",
            "_________________________________________________________________\n",
            "Layer (type)                 Output Shape              Param #   \n",
            "=================================================================\n",
            "conv2d_3 (Conv2D)            (None, 26, 26, 32)        320       \n",
            "_________________________________________________________________\n",
            "max_pooling2d_3 (MaxPooling2 (None, 13, 13, 32)        0         \n",
            "_________________________________________________________________\n",
            "conv2d_4 (Conv2D)            (None, 11, 11, 64)        18496     \n",
            "_________________________________________________________________\n",
            "max_pooling2d_4 (MaxPooling2 (None, 5, 5, 64)          0         \n",
            "_________________________________________________________________\n",
            "flatten_3 (Flatten)          (None, 1600)              0         \n",
            "_________________________________________________________________\n",
            "dense_6 (Dense)              (None, 128)               204928    \n",
            "_________________________________________________________________\n",
            "dense_7 (Dense)              (None, 10)                1290      \n",
            "=================================================================\n",
            "Total params: 225,034\n",
            "Trainable params: 225,034\n",
            "Non-trainable params: 0\n",
            "_________________________________________________________________\n",
            "Epoch 1/10\n",
            "1875/1875 [==============================] - 5s 3ms/step - loss: 0.4569 - accuracy: 0.8327 - val_loss: 0.3502 - val_accuracy: 0.8748\n",
            "Epoch 2/10\n",
            "1875/1875 [==============================] - 5s 3ms/step - loss: 0.3054 - accuracy: 0.8872 - val_loss: 0.3072 - val_accuracy: 0.8873\n",
            "Epoch 3/10\n",
            "1875/1875 [==============================] - 5s 3ms/step - loss: 0.2648 - accuracy: 0.9018 - val_loss: 0.2977 - val_accuracy: 0.8901\n",
            "Epoch 4/10\n",
            "1875/1875 [==============================] - 5s 3ms/step - loss: 0.2372 - accuracy: 0.9127 - val_loss: 0.2878 - val_accuracy: 0.8913\n",
            "Epoch 5/10\n",
            "1875/1875 [==============================] - 5s 3ms/step - loss: 0.2174 - accuracy: 0.9186 - val_loss: 0.2691 - val_accuracy: 0.9031\n",
            "Epoch 6/10\n",
            "1875/1875 [==============================] - 5s 3ms/step - loss: 0.1992 - accuracy: 0.9253 - val_loss: 0.2804 - val_accuracy: 0.8985\n",
            "Epoch 7/10\n",
            "1875/1875 [==============================] - 5s 3ms/step - loss: 0.1824 - accuracy: 0.9317 - val_loss: 0.2792 - val_accuracy: 0.9048\n",
            "Epoch 8/10\n",
            "1875/1875 [==============================] - 5s 3ms/step - loss: 0.1687 - accuracy: 0.9365 - val_loss: 0.2759 - val_accuracy: 0.9076\n",
            "Epoch 9/10\n",
            "1875/1875 [==============================] - 5s 3ms/step - loss: 0.1553 - accuracy: 0.9414 - val_loss: 0.2756 - val_accuracy: 0.9056\n",
            "Epoch 10/10\n",
            "1875/1875 [==============================] - 5s 3ms/step - loss: 0.1427 - accuracy: 0.9463 - val_loss: 0.2816 - val_accuracy: 0.9053\n",
            "313/313 - 1s - loss: 0.2816 - accuracy: 0.9053\n",
            "\n",
            "Test accuracy: 0.9053000211715698\n",
            "Test loss: 0.2815859317779541\n"
          ],
          "name": "stdout"
        }
      ]
    },
    {
      "cell_type": "code",
      "metadata": {
        "id": "bbsjyWOriWrQ",
        "outputId": "ed2b0e6f-2caf-463c-ef5f-0f9b052cd0ff",
        "colab": {
          "base_uri": "https://localhost:8080/",
          "height": 278
        }
      },
      "source": [
        "plot_loss(history4)"
      ],
      "execution_count": 25,
      "outputs": [
        {
          "output_type": "display_data",
          "data": {
            "image/png": "[encoded data removed]",
            "text/plain": [
              "<Figure size 432x288 with 1 Axes>"
            ]
          },
          "metadata": {
            "tags": [],
            "needs_background": "light"
          }
        }
      ]
    },
    {
      "cell_type": "markdown",
      "metadata": {
        "id": "VB67FA6ieNBl"
      },
      "source": [
        "## **Kesimpulan**"
      ]
    },
    {
      "cell_type": "markdown",
      "metadata": {
        "id": "TYSQwJmAeRdi"
      },
      "source": [
        "akurasi untuk data set Fashion tidak berbeda dengan untuk yang kedalaman 1 ataupun 2. ini dapat terjadi mungkin karena data yang ada kurang bisa untuk menggambarkan dengan jelas perbedaan dalam klasifikasi karena kembali lagi kualitas data yang ada dengan piksel yang kecil. \n",
        "\n",
        "tetapi sebaliknya untuk data number yang ada malah nilainya tinggi sekali hampir mendekati sempurna. ini terjadi karena angka mudah untuk di klasifikasikan dan bentuknya kurang lebih sama."
      ]
    }
  ]
}