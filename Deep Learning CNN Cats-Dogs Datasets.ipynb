{
  "nbformat": 4,
  "nbformat_minor": 0,
  "metadata": {
    "colab": {
      "name": "Assignment15_RickyGunawan_bestCNN.ipynb",
      "provenance": [],
      "collapsed_sections": []
    },
    "kernelspec": {
      "name": "python3",
      "display_name": "Python 3"
    },
    "accelerator": "GPU"
  },
  "cells": [
    {
      "cell_type": "code",
      "metadata": {
        "id": "NkoomSAAfXBx"
      },
      "source": [
        "zip_path = '/content/drive/My\\ Drive/BCML/datasets/DeepLearning/cats-dogs.zip'\n",
        "\n",
        "!cp {zip_path} /content/\n",
        "\n",
        "!cd /content/\n",
        "\n",
        "!unzip -q /content/cats-dogs.zip -d /content\n",
        "\n",
        "!rm /content/cats-dogs.zip"
      ],
      "execution_count": 2,
      "outputs": []
    },
    {
      "cell_type": "code",
      "metadata": {
        "id": "f1h4UgpjJ7ab"
      },
      "source": [
        "def plot_loss(history):\n",
        "    plt.plot(history.history['loss'], label='loss')\n",
        "    plt.plot(history.history['val_loss'], label='val_loss')\n",
        "    plt.xlabel('Epoch')\n",
        "    plt.ylabel('Loss')\n",
        "    plt.legend()\n",
        "    plt.grid(True)\n",
        "def plot_accuracy(history):\n",
        "    plt.plot(history.history['accuracy'], label='accuracy')\n",
        "    plt.plot(history.history['val_accuracy'], label='val_accuracy')\n",
        "    plt.xlabel('Epoch')\n",
        "    plt.ylabel('accuracy')\n",
        "    plt.legend()\n",
        "    plt.grid(True)"
      ],
      "execution_count": 3,
      "outputs": []
    },
    {
      "cell_type": "code",
      "metadata": {
        "id": "IXyxQWL7v12W"
      },
      "source": [
        "import matplotlib.pyplot as plt\n",
        "import numpy as np\n",
        "import os\n",
        "\n",
        "import tensorflow as tf\n",
        "from tensorflow.keras.preprocessing.image import ImageDataGenerator\n",
        "from tensorflow.keras.utils import to_categorical\n",
        "from tensorflow.keras.models import Sequential\n",
        "from tensorflow.keras.layers import Conv2D\n",
        "from tensorflow.keras.layers import MaxPooling2D\n",
        "from tensorflow.keras.layers import Dense\n",
        "from tensorflow.keras.layers import Flatten\n",
        "from tensorflow.keras.layers import Dropout\n",
        "from tensorflow.keras.optimizers import SGD, Adam, RMSprop\n",
        "from tensorflow.keras.layers import BatchNormalization"
      ],
      "execution_count": 4,
      "outputs": []
    },
    {
      "cell_type": "code",
      "metadata": {
        "id": "8pU82B52kiSi"
      },
      "source": [
        "dataset_dir = '/content/'\n",
        "train_datagen = ImageDataGenerator(rescale=1.0/255.0,horizontal_flip=True,zoom_range=0.1,shear_range=0.1)\n",
        "test_datagen = ImageDataGenerator(rescale=1.0/255.0)"
      ],
      "execution_count": 5,
      "outputs": []
    },
    {
      "cell_type": "code",
      "metadata": {
        "id": "i2PWokbG7S8F",
        "outputId": "003bd6a0-eb90-4ce0-f967-978fa1494c8b",
        "colab": {
          "base_uri": "https://localhost:8080/",
          "height": 51
        }
      },
      "source": [
        "train_augmented_iterator = train_datagen.flow_from_directory(os.path.join(dataset_dir, 'train'), class_mode='binary', batch_size=128, target_size=(200, 200))\n",
        "test_augmented_iterator = test_datagen.flow_from_directory(os.path.join(dataset_dir, 'test'), class_mode='binary', batch_size=128, target_size=(200, 200))"
      ],
      "execution_count": 6,
      "outputs": [
        {
          "output_type": "stream",
          "text": [
            "Found 12749 images belonging to 2 classes.\n",
            "Found 2252 images belonging to 2 classes.\n"
          ],
          "name": "stdout"
        }
      ]
    },
    {
      "cell_type": "code",
      "metadata": {
        "id": "wxLDfa8iiUyJ",
        "outputId": "8a632b5c-2316-45bf-e0a8-591b8873338d",
        "colab": {
          "base_uri": "https://localhost:8080/",
          "height": 765
        }
      },
      "source": [
        "model = Sequential()\n",
        "\n",
        "model.add(Conv2D(32, (3, 3), padding='same', input_shape=(200,200,3), activation='relu'))\n",
        "model.add(Conv2D(32, (3, 3), padding='same', activation='relu'))\n",
        "model.add(MaxPooling2D(pool_size=(2, 2)))\n",
        "\n",
        "model.add(Conv2D(64, (3, 3), padding='same', activation='relu'))\n",
        "model.add(Conv2D(64, (3, 3), padding='same', activation='relu'))\n",
        "model.add(MaxPooling2D(pool_size=(2, 2)))\n",
        "\n",
        "model.add(Conv2D(128, (3, 3), padding='same', activation='relu'))\n",
        "model.add(Conv2D(128, (3, 3), padding='same', activation='relu'))\n",
        "model.add(MaxPooling2D(pool_size=(2, 2)))\n",
        "\n",
        "model.add(Conv2D(256, (3, 3), padding='same', activation='relu'))\n",
        "model.add(Conv2D(256, (3, 3), padding='same', activation='relu'))\n",
        "model.add(MaxPooling2D(pool_size=(2, 2)))\n",
        "\n",
        "model.add(Flatten())\n",
        "model.add(Dense(256, activation='relu'))\n",
        "model.add(Dropout(0.5))\n",
        "\n",
        "model.add(Dense(256, activation='relu'))\n",
        "model.add(Dropout(0.5))\n",
        "\n",
        "model.add(Dense(1,activation='sigmoid'))\n",
        "\n",
        "opt=RMSprop(lr=0.0001)\n",
        "\n",
        "model.compile(loss='binary_crossentropy',optimizer=opt,metrics=['accuracy'])\n",
        "\n",
        "model.summary()"
      ],
      "execution_count": 7,
      "outputs": [
        {
          "output_type": "stream",
          "text": [
            "Model: \"sequential\"\n",
            "_________________________________________________________________\n",
            "Layer (type)                 Output Shape              Param #   \n",
            "=================================================================\n",
            "conv2d (Conv2D)              (None, 200, 200, 32)      896       \n",
            "_________________________________________________________________\n",
            "conv2d_1 (Conv2D)            (None, 200, 200, 32)      9248      \n",
            "_________________________________________________________________\n",
            "max_pooling2d (MaxPooling2D) (None, 100, 100, 32)      0         \n",
            "_________________________________________________________________\n",
            "conv2d_2 (Conv2D)            (None, 100, 100, 64)      18496     \n",
            "_________________________________________________________________\n",
            "conv2d_3 (Conv2D)            (None, 100, 100, 64)      36928     \n",
            "_________________________________________________________________\n",
            "max_pooling2d_1 (MaxPooling2 (None, 50, 50, 64)        0         \n",
            "_________________________________________________________________\n",
            "conv2d_4 (Conv2D)            (None, 50, 50, 128)       73856     \n",
            "_________________________________________________________________\n",
            "conv2d_5 (Conv2D)            (None, 50, 50, 128)       147584    \n",
            "_________________________________________________________________\n",
            "max_pooling2d_2 (MaxPooling2 (None, 25, 25, 128)       0         \n",
            "_________________________________________________________________\n",
            "conv2d_6 (Conv2D)            (None, 25, 25, 256)       295168    \n",
            "_________________________________________________________________\n",
            "conv2d_7 (Conv2D)            (None, 25, 25, 256)       590080    \n",
            "_________________________________________________________________\n",
            "max_pooling2d_3 (MaxPooling2 (None, 12, 12, 256)       0         \n",
            "_________________________________________________________________\n",
            "flatten (Flatten)            (None, 36864)             0         \n",
            "_________________________________________________________________\n",
            "dense (Dense)                (None, 256)               9437440   \n",
            "_________________________________________________________________\n",
            "dropout (Dropout)            (None, 256)               0         \n",
            "_________________________________________________________________\n",
            "dense_1 (Dense)              (None, 256)               65792     \n",
            "_________________________________________________________________\n",
            "dropout_1 (Dropout)          (None, 256)               0         \n",
            "_________________________________________________________________\n",
            "dense_2 (Dense)              (None, 1)                 257       \n",
            "=================================================================\n",
            "Total params: 10,675,745\n",
            "Trainable params: 10,675,745\n",
            "Non-trainable params: 0\n",
            "_________________________________________________________________\n"
          ],
          "name": "stdout"
        }
      ]
    },
    {
      "cell_type": "code",
      "metadata": {
        "id": "aEbwT2zTsBwO",
        "outputId": "b68cafd7-7df2-4651-a557-ec07c76c4d9d",
        "colab": {
          "base_uri": "https://localhost:8080/",
          "height": 1000
        }
      },
      "source": [
        "history=model.fit(train_augmented_iterator, steps_per_epoch=len(train_augmented_iterator), validation_data=test_augmented_iterator, validation_steps=len(test_augmented_iterator), epochs=75)"
      ],
      "execution_count": 8,
      "outputs": [
        {
          "output_type": "stream",
          "text": [
            "Epoch 1/75\n",
            "  2/100 [..............................] - ETA: 40s - loss: 0.6966 - accuracy: 0.5156WARNING:tensorflow:Callbacks method `on_train_batch_end` is slow compared to the batch time (batch time: 0.2490s vs `on_train_batch_end` time: 0.5601s). Check your callbacks.\n",
            "100/100 [==============================] - 185s 2s/step - loss: 0.6873 - accuracy: 0.5360 - val_loss: 0.6598 - val_accuracy: 0.5764\n",
            "Epoch 2/75\n",
            "100/100 [==============================] - 181s 2s/step - loss: 0.6341 - accuracy: 0.6349 - val_loss: 0.5689 - val_accuracy: 0.6998\n",
            "Epoch 3/75\n",
            "100/100 [==============================] - 182s 2s/step - loss: 0.5871 - accuracy: 0.6911 - val_loss: 0.5514 - val_accuracy: 0.7225\n",
            "Epoch 4/75\n",
            "100/100 [==============================] - 182s 2s/step - loss: 0.5634 - accuracy: 0.7129 - val_loss: 0.5291 - val_accuracy: 0.7180\n",
            "Epoch 5/75\n",
            "100/100 [==============================] - 182s 2s/step - loss: 0.5391 - accuracy: 0.7328 - val_loss: 0.5123 - val_accuracy: 0.7385\n",
            "Epoch 6/75\n",
            "100/100 [==============================] - 183s 2s/step - loss: 0.5234 - accuracy: 0.7385 - val_loss: 0.5012 - val_accuracy: 0.7611\n",
            "Epoch 7/75\n",
            "100/100 [==============================] - 181s 2s/step - loss: 0.5097 - accuracy: 0.7558 - val_loss: 0.4702 - val_accuracy: 0.7784\n",
            "Epoch 8/75\n",
            "100/100 [==============================] - 180s 2s/step - loss: 0.4846 - accuracy: 0.7670 - val_loss: 0.4530 - val_accuracy: 0.7842\n",
            "Epoch 9/75\n",
            "100/100 [==============================] - 181s 2s/step - loss: 0.4675 - accuracy: 0.7803 - val_loss: 0.4942 - val_accuracy: 0.7722\n",
            "Epoch 10/75\n",
            "100/100 [==============================] - 181s 2s/step - loss: 0.4500 - accuracy: 0.7904 - val_loss: 0.4075 - val_accuracy: 0.8108\n",
            "Epoch 11/75\n",
            "100/100 [==============================] - 179s 2s/step - loss: 0.4335 - accuracy: 0.8034 - val_loss: 0.4350 - val_accuracy: 0.7953\n",
            "Epoch 12/75\n",
            "100/100 [==============================] - 182s 2s/step - loss: 0.4137 - accuracy: 0.8176 - val_loss: 0.4016 - val_accuracy: 0.8166\n",
            "Epoch 13/75\n",
            "100/100 [==============================] - 181s 2s/step - loss: 0.4017 - accuracy: 0.8183 - val_loss: 0.3836 - val_accuracy: 0.8197\n",
            "Epoch 14/75\n",
            "100/100 [==============================] - 181s 2s/step - loss: 0.3800 - accuracy: 0.8320 - val_loss: 0.4072 - val_accuracy: 0.8139\n",
            "Epoch 15/75\n",
            "100/100 [==============================] - 179s 2s/step - loss: 0.3714 - accuracy: 0.8348 - val_loss: 0.3484 - val_accuracy: 0.8459\n",
            "Epoch 16/75\n",
            "100/100 [==============================] - 179s 2s/step - loss: 0.3595 - accuracy: 0.8419 - val_loss: 0.3756 - val_accuracy: 0.8335\n",
            "Epoch 17/75\n",
            "100/100 [==============================] - 179s 2s/step - loss: 0.3534 - accuracy: 0.8444 - val_loss: 0.3680 - val_accuracy: 0.8268\n",
            "Epoch 18/75\n",
            "100/100 [==============================] - 181s 2s/step - loss: 0.3382 - accuracy: 0.8538 - val_loss: 0.3855 - val_accuracy: 0.8215\n",
            "Epoch 19/75\n",
            "100/100 [==============================] - 180s 2s/step - loss: 0.3257 - accuracy: 0.8598 - val_loss: 0.3641 - val_accuracy: 0.8321\n",
            "Epoch 20/75\n",
            "100/100 [==============================] - 180s 2s/step - loss: 0.3203 - accuracy: 0.8601 - val_loss: 0.3209 - val_accuracy: 0.8588\n",
            "Epoch 21/75\n",
            "100/100 [==============================] - 180s 2s/step - loss: 0.3039 - accuracy: 0.8702 - val_loss: 0.3193 - val_accuracy: 0.8579\n",
            "Epoch 22/75\n",
            "100/100 [==============================] - 179s 2s/step - loss: 0.2908 - accuracy: 0.8807 - val_loss: 0.3122 - val_accuracy: 0.8686\n",
            "Epoch 23/75\n",
            "100/100 [==============================] - 179s 2s/step - loss: 0.2832 - accuracy: 0.8800 - val_loss: 0.3231 - val_accuracy: 0.8641\n",
            "Epoch 24/75\n",
            "100/100 [==============================] - 180s 2s/step - loss: 0.2765 - accuracy: 0.8840 - val_loss: 0.2928 - val_accuracy: 0.8761\n",
            "Epoch 25/75\n",
            "100/100 [==============================] - 179s 2s/step - loss: 0.2678 - accuracy: 0.8860 - val_loss: 0.3428 - val_accuracy: 0.8477\n",
            "Epoch 26/75\n",
            "100/100 [==============================] - 178s 2s/step - loss: 0.2553 - accuracy: 0.8936 - val_loss: 0.3394 - val_accuracy: 0.8606\n",
            "Epoch 27/75\n",
            "100/100 [==============================] - 180s 2s/step - loss: 0.2450 - accuracy: 0.8961 - val_loss: 0.2834 - val_accuracy: 0.8739\n",
            "Epoch 28/75\n",
            "100/100 [==============================] - 180s 2s/step - loss: 0.2360 - accuracy: 0.9042 - val_loss: 0.3324 - val_accuracy: 0.8690\n",
            "Epoch 29/75\n",
            "100/100 [==============================] - 180s 2s/step - loss: 0.2321 - accuracy: 0.9047 - val_loss: 0.3239 - val_accuracy: 0.8659\n",
            "Epoch 30/75\n",
            "100/100 [==============================] - 179s 2s/step - loss: 0.2222 - accuracy: 0.9121 - val_loss: 0.2893 - val_accuracy: 0.8774\n",
            "Epoch 31/75\n",
            "100/100 [==============================] - 179s 2s/step - loss: 0.2132 - accuracy: 0.9147 - val_loss: 0.2750 - val_accuracy: 0.8899\n",
            "Epoch 32/75\n",
            "100/100 [==============================] - 178s 2s/step - loss: 0.2043 - accuracy: 0.9172 - val_loss: 0.2875 - val_accuracy: 0.8806\n",
            "Epoch 33/75\n",
            "100/100 [==============================] - 181s 2s/step - loss: 0.1971 - accuracy: 0.9221 - val_loss: 0.2505 - val_accuracy: 0.9036\n",
            "Epoch 34/75\n",
            "100/100 [==============================] - 181s 2s/step - loss: 0.1910 - accuracy: 0.9225 - val_loss: 0.3177 - val_accuracy: 0.8872\n",
            "Epoch 35/75\n",
            "100/100 [==============================] - 182s 2s/step - loss: 0.1897 - accuracy: 0.9242 - val_loss: 0.2473 - val_accuracy: 0.9045\n",
            "Epoch 36/75\n",
            "100/100 [==============================] - 182s 2s/step - loss: 0.1785 - accuracy: 0.9296 - val_loss: 0.2507 - val_accuracy: 0.9103\n",
            "Epoch 37/75\n",
            "100/100 [==============================] - 182s 2s/step - loss: 0.1719 - accuracy: 0.9302 - val_loss: 0.2403 - val_accuracy: 0.9067\n",
            "Epoch 38/75\n",
            "100/100 [==============================] - 182s 2s/step - loss: 0.1692 - accuracy: 0.9345 - val_loss: 0.2919 - val_accuracy: 0.9063\n",
            "Epoch 39/75\n",
            "100/100 [==============================] - 179s 2s/step - loss: 0.1626 - accuracy: 0.9374 - val_loss: 0.2383 - val_accuracy: 0.9072\n",
            "Epoch 40/75\n",
            "100/100 [==============================] - 179s 2s/step - loss: 0.1563 - accuracy: 0.9366 - val_loss: 0.2305 - val_accuracy: 0.9143\n",
            "Epoch 41/75\n",
            "100/100 [==============================] - 179s 2s/step - loss: 0.1442 - accuracy: 0.9442 - val_loss: 0.3033 - val_accuracy: 0.8832\n",
            "Epoch 42/75\n",
            "100/100 [==============================] - 179s 2s/step - loss: 0.1414 - accuracy: 0.9441 - val_loss: 0.2416 - val_accuracy: 0.9192\n",
            "Epoch 43/75\n",
            "100/100 [==============================] - 178s 2s/step - loss: 0.1364 - accuracy: 0.9479 - val_loss: 0.2757 - val_accuracy: 0.9107\n",
            "Epoch 44/75\n",
            "100/100 [==============================] - 178s 2s/step - loss: 0.1304 - accuracy: 0.9494 - val_loss: 0.2274 - val_accuracy: 0.9156\n",
            "Epoch 45/75\n",
            "100/100 [==============================] - 178s 2s/step - loss: 0.1276 - accuracy: 0.9520 - val_loss: 0.2214 - val_accuracy: 0.9156\n",
            "Epoch 46/75\n",
            "100/100 [==============================] - 179s 2s/step - loss: 0.1215 - accuracy: 0.9551 - val_loss: 0.2106 - val_accuracy: 0.9223\n",
            "Epoch 47/75\n",
            "100/100 [==============================] - 180s 2s/step - loss: 0.1180 - accuracy: 0.9562 - val_loss: 0.2473 - val_accuracy: 0.9085\n",
            "Epoch 48/75\n",
            "100/100 [==============================] - 180s 2s/step - loss: 0.1185 - accuracy: 0.9562 - val_loss: 0.2451 - val_accuracy: 0.9192\n",
            "Epoch 49/75\n",
            "100/100 [==============================] - 182s 2s/step - loss: 0.1079 - accuracy: 0.9589 - val_loss: 0.2559 - val_accuracy: 0.9298\n",
            "Epoch 50/75\n",
            "100/100 [==============================] - 183s 2s/step - loss: 0.1076 - accuracy: 0.9601 - val_loss: 0.2073 - val_accuracy: 0.9307\n",
            "Epoch 51/75\n",
            "100/100 [==============================] - 181s 2s/step - loss: 0.0993 - accuracy: 0.9617 - val_loss: 0.2628 - val_accuracy: 0.9223\n",
            "Epoch 52/75\n",
            "100/100 [==============================] - 181s 2s/step - loss: 0.1004 - accuracy: 0.9624 - val_loss: 0.2962 - val_accuracy: 0.9214\n",
            "Epoch 53/75\n",
            "100/100 [==============================] - 180s 2s/step - loss: 0.0966 - accuracy: 0.9634 - val_loss: 0.2531 - val_accuracy: 0.9210\n",
            "Epoch 54/75\n",
            "100/100 [==============================] - 179s 2s/step - loss: 0.0901 - accuracy: 0.9631 - val_loss: 0.2974 - val_accuracy: 0.9214\n",
            "Epoch 55/75\n",
            "100/100 [==============================] - 181s 2s/step - loss: 0.0961 - accuracy: 0.9658 - val_loss: 0.2888 - val_accuracy: 0.9081\n",
            "Epoch 56/75\n",
            "100/100 [==============================] - 183s 2s/step - loss: 0.0873 - accuracy: 0.9672 - val_loss: 0.2597 - val_accuracy: 0.9218\n",
            "Epoch 57/75\n",
            "100/100 [==============================] - 182s 2s/step - loss: 0.0839 - accuracy: 0.9689 - val_loss: 0.2369 - val_accuracy: 0.9161\n",
            "Epoch 58/75\n",
            "100/100 [==============================] - 183s 2s/step - loss: 0.0842 - accuracy: 0.9702 - val_loss: 0.2419 - val_accuracy: 0.9290\n",
            "Epoch 59/75\n",
            "100/100 [==============================] - 182s 2s/step - loss: 0.0863 - accuracy: 0.9692 - val_loss: 0.2523 - val_accuracy: 0.8908\n",
            "Epoch 60/75\n",
            "100/100 [==============================] - 182s 2s/step - loss: 0.0872 - accuracy: 0.9682 - val_loss: 0.2962 - val_accuracy: 0.9187\n",
            "Epoch 61/75\n",
            "100/100 [==============================] - 183s 2s/step - loss: 0.0744 - accuracy: 0.9723 - val_loss: 0.2424 - val_accuracy: 0.9187\n",
            "Epoch 62/75\n",
            "100/100 [==============================] - 183s 2s/step - loss: 0.0751 - accuracy: 0.9742 - val_loss: 0.3186 - val_accuracy: 0.9316\n",
            "Epoch 63/75\n",
            "100/100 [==============================] - 183s 2s/step - loss: 0.0780 - accuracy: 0.9733 - val_loss: 0.3223 - val_accuracy: 0.9312\n",
            "Epoch 64/75\n",
            "100/100 [==============================] - 182s 2s/step - loss: 0.0782 - accuracy: 0.9726 - val_loss: 0.3150 - val_accuracy: 0.9161\n",
            "Epoch 65/75\n",
            "100/100 [==============================] - 182s 2s/step - loss: 0.0762 - accuracy: 0.9737 - val_loss: 0.3989 - val_accuracy: 0.9134\n",
            "Epoch 66/75\n",
            "100/100 [==============================] - 182s 2s/step - loss: 0.0693 - accuracy: 0.9755 - val_loss: 0.2647 - val_accuracy: 0.9298\n",
            "Epoch 67/75\n",
            "100/100 [==============================] - 182s 2s/step - loss: 0.0707 - accuracy: 0.9761 - val_loss: 0.2251 - val_accuracy: 0.9267\n",
            "Epoch 68/75\n",
            "100/100 [==============================] - 182s 2s/step - loss: 0.0646 - accuracy: 0.9778 - val_loss: 0.2267 - val_accuracy: 0.9263\n",
            "Epoch 69/75\n",
            "100/100 [==============================] - 182s 2s/step - loss: 0.0644 - accuracy: 0.9768 - val_loss: 0.3220 - val_accuracy: 0.9263\n",
            "Epoch 70/75\n",
            "100/100 [==============================] - 182s 2s/step - loss: 0.0805 - accuracy: 0.9748 - val_loss: 0.3376 - val_accuracy: 0.9241\n",
            "Epoch 71/75\n",
            "100/100 [==============================] - 182s 2s/step - loss: 0.0637 - accuracy: 0.9776 - val_loss: 0.3762 - val_accuracy: 0.9245\n",
            "Epoch 72/75\n",
            "100/100 [==============================] - 182s 2s/step - loss: 0.0637 - accuracy: 0.9782 - val_loss: 0.3225 - val_accuracy: 0.9281\n",
            "Epoch 73/75\n",
            "100/100 [==============================] - 181s 2s/step - loss: 0.0587 - accuracy: 0.9784 - val_loss: 0.3374 - val_accuracy: 0.9214\n",
            "Epoch 74/75\n",
            "100/100 [==============================] - 180s 2s/step - loss: 0.0598 - accuracy: 0.9794 - val_loss: 0.2716 - val_accuracy: 0.9218\n",
            "Epoch 75/75\n",
            "100/100 [==============================] - 181s 2s/step - loss: 0.0680 - accuracy: 0.9778 - val_loss: 0.2900 - val_accuracy: 0.9356\n"
          ],
          "name": "stdout"
        }
      ]
    },
    {
      "cell_type": "code",
      "metadata": {
        "id": "ZVDHpoev96Zr",
        "outputId": "977fb12a-02a9-4e9b-9ae6-a67b47cd4540",
        "colab": {
          "base_uri": "https://localhost:8080/",
          "height": 279
        }
      },
      "source": [
        "plot_loss(history)"
      ],
      "execution_count": 9,
      "outputs": [
        {
          "output_type": "display_data",
          "data": {
            "image/png": "[encoded data removed]",
            "text/plain": [
              "<Figure size 432x288 with 1 Axes>"
            ]
          },
          "metadata": {
            "tags": [],
            "needs_background": "light"
          }
        }
      ]
    },
    {
      "cell_type": "code",
      "metadata": {
        "id": "UsInz2-j9_eA",
        "outputId": "12ea7b33-2635-44e0-a878-5620087189e4",
        "colab": {
          "base_uri": "https://localhost:8080/",
          "height": 283
        }
      },
      "source": [
        "plot_accuracy(history)"
      ],
      "execution_count": 10,
      "outputs": [
        {
          "output_type": "display_data",
          "data": {
            "image/png": "[encoded data removed]",
            "text/plain": [
              "<Figure size 432x288 with 1 Axes>"
            ]
          },
          "metadata": {
            "tags": [],
            "needs_background": "light"
          }
        }
      ]
    },
    {
      "cell_type": "markdown",
      "metadata": {
        "id": "V1Q5he-H-j2H"
      },
      "source": [
        "# **Kesimpulan**"
      ]
    },
    {
      "cell_type": "markdown",
      "metadata": {
        "id": "iVMSb8yd-paS"
      },
      "source": [
        "Epoch 50/75\n",
        "\n",
        "100/100 [==============================] - 183s 2s/step - loss: 0.1076 - accuracy: 0.9601 - val_loss: 0.2073 - val_accuracy: 0.9307\n",
        "\n",
        "dari hasil terbaik yang saya dapat dengan melihat val_loss terkecil berada di angka 0.20 dengan akurasi di 93%"
      ]
    }
  ]
}